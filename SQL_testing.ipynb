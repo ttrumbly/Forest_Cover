{
 "cells": [
  {
   "cell_type": "code",
   "execution_count": 15,
   "metadata": {
    "ExecuteTime": {
     "end_time": "2018-05-14T23:58:14.085361Z",
     "start_time": "2018-05-14T23:58:14.082103Z"
    }
   },
   "outputs": [],
   "source": [
    "from sqlalchemy import create_engine\n",
    "import pandas as pd\n",
    "import datetime"
   ]
  },
  {
   "cell_type": "code",
   "execution_count": 24,
   "metadata": {
    "ExecuteTime": {
     "end_time": "2018-05-15T04:47:05.999469Z",
     "start_time": "2018-05-15T04:47:05.994573Z"
    }
   },
   "outputs": [],
   "source": [
    "from sqlalchemy import Table, Column, Integer, String, DateTime, ForeignKey\n",
    "from sqlalchemy.orm import relationship, backref\n",
    "from sqlalchemy.ext.declarative import declarative_base"
   ]
  },
  {
   "cell_type": "code",
   "execution_count": 25,
   "metadata": {
    "ExecuteTime": {
     "end_time": "2018-05-15T04:47:06.518785Z",
     "start_time": "2018-05-15T04:47:06.515135Z"
    }
   },
   "outputs": [],
   "source": [
    "cnx = create_engine('postgresql://ubuntu@18.236.157.230:5432/ubuntu')"
   ]
  },
  {
   "cell_type": "code",
   "execution_count": null,
   "metadata": {},
   "outputs": [],
   "source": [
    "cnx.table_names()"
   ]
  },
  {
   "cell_type": "code",
   "execution_count": 175,
   "metadata": {
    "ExecuteTime": {
     "end_time": "2018-05-15T15:21:10.316654Z",
     "start_time": "2018-05-15T15:21:10.222219Z"
    }
   },
   "outputs": [
    {
     "data": {
      "text/html": [
       "<div>\n",
       "<style scoped>\n",
       "    .dataframe tbody tr th:only-of-type {\n",
       "        vertical-align: middle;\n",
       "    }\n",
       "\n",
       "    .dataframe tbody tr th {\n",
       "        vertical-align: top;\n",
       "    }\n",
       "\n",
       "    .dataframe thead th {\n",
       "        text-align: right;\n",
       "    }\n",
       "</style>\n",
       "<table border=\"1\" class=\"dataframe\">\n",
       "  <thead>\n",
       "    <tr style=\"text-align: right;\">\n",
       "      <th></th>\n",
       "      <th>id</th>\n",
       "      <th>elevation</th>\n",
       "      <th>aspect</th>\n",
       "      <th>slope</th>\n",
       "      <th>horizontal_distance_to_hydrology</th>\n",
       "      <th>vertical_distance_to_hydrology</th>\n",
       "      <th>horizontal_distance_to_roadways</th>\n",
       "      <th>hillshade_9am</th>\n",
       "      <th>hillshade_noon</th>\n",
       "      <th>hillshade_3pm</th>\n",
       "      <th>horizontal_distance_to_fire_points</th>\n",
       "      <th>cover_type</th>\n",
       "      <th>wilderness_area</th>\n",
       "      <th>soil_type</th>\n",
       "    </tr>\n",
       "  </thead>\n",
       "  <tbody>\n",
       "    <tr>\n",
       "      <th>0</th>\n",
       "      <td>15129</td>\n",
       "      <td>23</td>\n",
       "      <td>23</td>\n",
       "      <td>23</td>\n",
       "      <td>23</td>\n",
       "      <td>2323</td>\n",
       "      <td>23</td>\n",
       "      <td>23</td>\n",
       "      <td>2323</td>\n",
       "      <td>23</td>\n",
       "      <td>23</td>\n",
       "      <td>23</td>\n",
       "      <td>4</td>\n",
       "      <td>23</td>\n",
       "    </tr>\n",
       "    <tr>\n",
       "      <th>1</th>\n",
       "      <td>15128</td>\n",
       "      <td>2475</td>\n",
       "      <td>197</td>\n",
       "      <td>34</td>\n",
       "      <td>319</td>\n",
       "      <td>78</td>\n",
       "      <td>270</td>\n",
       "      <td>189</td>\n",
       "      <td>244</td>\n",
       "      <td>164</td>\n",
       "      <td>914</td>\n",
       "      <td>3</td>\n",
       "      <td>3</td>\n",
       "      <td>2</td>\n",
       "    </tr>\n",
       "    <tr>\n",
       "      <th>2</th>\n",
       "      <td>15127</td>\n",
       "      <td>2475</td>\n",
       "      <td>197</td>\n",
       "      <td>34</td>\n",
       "      <td>319</td>\n",
       "      <td>78</td>\n",
       "      <td>270</td>\n",
       "      <td>189</td>\n",
       "      <td>244</td>\n",
       "      <td>164</td>\n",
       "      <td>914</td>\n",
       "      <td>3</td>\n",
       "      <td>3</td>\n",
       "      <td>2</td>\n",
       "    </tr>\n",
       "    <tr>\n",
       "      <th>3</th>\n",
       "      <td>15126</td>\n",
       "      <td>21</td>\n",
       "      <td>1</td>\n",
       "      <td>11</td>\n",
       "      <td>5</td>\n",
       "      <td>5</td>\n",
       "      <td>5</td>\n",
       "      <td>5</td>\n",
       "      <td>5</td>\n",
       "      <td>5</td>\n",
       "      <td>5</td>\n",
       "      <td>5</td>\n",
       "      <td>5</td>\n",
       "      <td>5</td>\n",
       "    </tr>\n",
       "    <tr>\n",
       "      <th>4</th>\n",
       "      <td>15125</td>\n",
       "      <td>3200</td>\n",
       "      <td>13</td>\n",
       "      <td>24</td>\n",
       "      <td>600</td>\n",
       "      <td>200</td>\n",
       "      <td>4000</td>\n",
       "      <td>230</td>\n",
       "      <td>222</td>\n",
       "      <td>116</td>\n",
       "      <td>1500</td>\n",
       "      <td>1</td>\n",
       "      <td>4</td>\n",
       "      <td>17</td>\n",
       "    </tr>\n",
       "  </tbody>\n",
       "</table>\n",
       "</div>"
      ],
      "text/plain": [
       "      id  elevation  aspect  slope  horizontal_distance_to_hydrology  \\\n",
       "0  15129         23      23     23                                23   \n",
       "1  15128       2475     197     34                               319   \n",
       "2  15127       2475     197     34                               319   \n",
       "3  15126         21       1     11                                 5   \n",
       "4  15125       3200      13     24                               600   \n",
       "\n",
       "   vertical_distance_to_hydrology  horizontal_distance_to_roadways  \\\n",
       "0                            2323                               23   \n",
       "1                              78                              270   \n",
       "2                              78                              270   \n",
       "3                               5                                5   \n",
       "4                             200                             4000   \n",
       "\n",
       "   hillshade_9am  hillshade_noon  hillshade_3pm  \\\n",
       "0             23            2323             23   \n",
       "1            189             244            164   \n",
       "2            189             244            164   \n",
       "3              5               5              5   \n",
       "4            230             222            116   \n",
       "\n",
       "   horizontal_distance_to_fire_points  cover_type  wilderness_area  soil_type  \n",
       "0                                  23          23                4         23  \n",
       "1                                 914           3                3          2  \n",
       "2                                 914           3                3          2  \n",
       "3                                   5           5                5          5  \n",
       "4                                1500           1                4         17  "
      ]
     },
     "execution_count": 175,
     "metadata": {},
     "output_type": "execute_result"
    }
   ],
   "source": [
    "pd.read_sql_query('''SELECT * FROM forest_cover ORDER BY id desc LIMIT 5''',cnx)"
   ]
  },
  {
   "cell_type": "code",
   "execution_count": 168,
   "metadata": {
    "ExecuteTime": {
     "end_time": "2018-05-15T15:13:20.103734Z",
     "start_time": "2018-05-15T15:13:20.014563Z"
    }
   },
   "outputs": [],
   "source": [
    "int_id = pd.read_sql_query('''SELECT id FROM forest_cover ORDER BY id desc LIMIT 1''',cnx)\n",
    "max_id = int_id['id'][0]"
   ]
  },
  {
   "cell_type": "code",
   "execution_count": 144,
   "metadata": {
    "ExecuteTime": {
     "end_time": "2018-05-15T15:05:04.482754Z",
     "start_time": "2018-05-15T15:05:04.479303Z"
    }
   },
   "outputs": [],
   "source": [
    "dftail = df.tail(1)\n",
    "dftail.drop(['id'],1,inplace=True)"
   ]
  },
  {
   "cell_type": "code",
   "execution_count": 160,
   "metadata": {
    "ExecuteTime": {
     "end_time": "2018-05-15T15:09:06.266585Z",
     "start_time": "2018-05-15T15:09:05.987496Z"
    }
   },
   "outputs": [
    {
     "name": "stderr",
     "output_type": "stream",
     "text": [
      "/anaconda3/lib/python3.6/site-packages/ipykernel_launcher.py:1: SettingWithCopyWarning: \n",
      "A value is trying to be set on a copy of a slice from a DataFrame.\n",
      "Try using .loc[row_indexer,col_indexer] = value instead\n",
      "\n",
      "See the caveats in the documentation: http://pandas.pydata.org/pandas-docs/stable/indexing.html#indexing-view-versus-copy\n",
      "  \"\"\"Entry point for launching an IPython kernel.\n"
     ]
    }
   ],
   "source": [
    "dftail['id'] = max_id+1"
   ]
  },
  {
   "cell_type": "code",
   "execution_count": null,
   "metadata": {},
   "outputs": [],
   "source": []
  },
  {
   "cell_type": "code",
   "execution_count": 166,
   "metadata": {
    "ExecuteTime": {
     "end_time": "2018-05-15T15:13:08.737306Z",
     "start_time": "2018-05-15T15:13:08.725959Z"
    }
   },
   "outputs": [],
   "source": [
    "def append_db(data):\n",
    "    try:\n",
    "        data.to_sql('forest_cover',cnx, if_exists='append', index=False)\n",
    "        return 'success'\n",
    "    except Exception as e:\n",
    "        int_id = pd.read_sql_query('''SELECT id FROM forest_cover ORDER BY id desc LIMIT 1''',cnx)\n",
    "        max_id = int_id['id'][0]\n",
    "        data['id'] = max_id+1\n",
    "        try:\n",
    "            data.to_sql('forest_cover',cnx, if_exists='append', index=False)\n",
    "            print('success 2nd try')\n",
    "        except Exception as e2:\n",
    "            \"Could not rectify duplicate entries. \\n{}\".format(e2)\n",
    "        return 'succeess?'"
   ]
  },
  {
   "cell_type": "code",
   "execution_count": 167,
   "metadata": {
    "ExecuteTime": {
     "end_time": "2018-05-15T15:13:11.068490Z",
     "start_time": "2018-05-15T15:13:10.390235Z"
    }
   },
   "outputs": [
    {
     "name": "stdout",
     "output_type": "stream",
     "text": [
      "success 2nd try\n"
     ]
    },
    {
     "name": "stderr",
     "output_type": "stream",
     "text": [
      "/anaconda3/lib/python3.6/site-packages/ipykernel_launcher.py:8: SettingWithCopyWarning: \n",
      "A value is trying to be set on a copy of a slice from a DataFrame.\n",
      "Try using .loc[row_indexer,col_indexer] = value instead\n",
      "\n",
      "See the caveats in the documentation: http://pandas.pydata.org/pandas-docs/stable/indexing.html#indexing-view-versus-copy\n",
      "  \n"
     ]
    },
    {
     "data": {
      "text/plain": [
       "'succeess?'"
      ]
     },
     "execution_count": 167,
     "metadata": {},
     "output_type": "execute_result"
    }
   ],
   "source": [
    "append_db(dftail)"
   ]
  },
  {
   "cell_type": "code",
   "execution_count": null,
   "metadata": {},
   "outputs": [],
   "source": []
  },
  {
   "cell_type": "code",
   "execution_count": 142,
   "metadata": {
    "ExecuteTime": {
     "end_time": "2018-05-15T15:04:44.464115Z",
     "start_time": "2018-05-15T15:04:44.424271Z"
    }
   },
   "outputs": [],
   "source": [
    "#read in my train_clas data to load into the aws sql server. as a starting point for \"ground truth\"\n",
    "df = pd.read_csv('train_clas.csv')\n",
    "df = df.rename(index=str, columns={'Unnamed: 0':'id'})\n",
    "df.columns = map(str.lower, df.columns)"
   ]
  },
  {
   "cell_type": "code",
   "execution_count": 102,
   "metadata": {
    "ExecuteTime": {
     "end_time": "2018-05-15T05:34:14.487139Z",
     "start_time": "2018-05-15T05:11:39.250662Z"
    }
   },
   "outputs": [],
   "source": [
    "df.to_sql('forest_cover',cnx, if_exists='append', index=False)"
   ]
  },
  {
   "cell_type": "code",
   "execution_count": 85,
   "metadata": {
    "ExecuteTime": {
     "end_time": "2018-05-15T04:58:18.395851Z",
     "start_time": "2018-05-15T04:58:18.392895Z"
    }
   },
   "outputs": [],
   "source": [
    "#testing adding data to a sql database through jupyter... it works!\n",
    "data = [4,'jim','5','.8']\n",
    "\n",
    "cols = ['id','name','age','accuracy']\n",
    "\n",
    "df = pd.DataFrame(data,cols)\n",
    "\n",
    "df = df.transpose()\n",
    "\n",
    "df.to_sql('ewok',cnx, if_exists='append', index=False)"
   ]
  },
  {
   "cell_type": "code",
   "execution_count": null,
   "metadata": {},
   "outputs": [],
   "source": [
    "# #This was used to create a table for sql on my aws. I loaded it through terminal and ubunutu.\n",
    "# CREATE TABLE forest_cover (\n",
    "#     Id SERIAL PRIMARY KEY,\n",
    "#     Elevation INT,\n",
    "#     Aspect INT,\n",
    "#     Slope INT,\n",
    "#     Horizontal_Distance_To_Hydrology INT,\n",
    "#     Vertical_Distance_To_Hydrology INT,\n",
    "#     Horizontal_Distance_To_Roadways INT,\n",
    "#     Hillshade_9am INT,\n",
    "#     Hillshade_Noon INT,\n",
    "#     Hillshade_3pm INT,\n",
    "#     Horizontal_Distance_To_Fire_Points INT, \n",
    "#     Cover_Type INT,\n",
    "#     Wilderness_Area INT,\n",
    "#     Soil_Type INT  \n",
    "# );"
   ]
  }
 ],
 "metadata": {
  "kernelspec": {
   "display_name": "Python 3",
   "language": "python",
   "name": "python3"
  },
  "language_info": {
   "codemirror_mode": {
    "name": "ipython",
    "version": 3
   },
   "file_extension": ".py",
   "mimetype": "text/x-python",
   "name": "python",
   "nbconvert_exporter": "python",
   "pygments_lexer": "ipython3",
   "version": "3.6.4"
  }
 },
 "nbformat": 4,
 "nbformat_minor": 2
}
