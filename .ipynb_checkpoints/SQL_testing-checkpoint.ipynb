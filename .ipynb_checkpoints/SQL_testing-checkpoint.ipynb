{
 "cells": [
  {
   "cell_type": "code",
   "execution_count": 15,
   "metadata": {
    "ExecuteTime": {
     "end_time": "2018-05-14T23:58:14.085361Z",
     "start_time": "2018-05-14T23:58:14.082103Z"
    }
   },
   "outputs": [],
   "source": [
    "from sqlalchemy import create_engine\n",
    "import pandas as pd\n",
    "import datetime"
   ]
  },
  {
   "cell_type": "code",
   "execution_count": 24,
   "metadata": {
    "ExecuteTime": {
     "end_time": "2018-05-15T04:47:05.999469Z",
     "start_time": "2018-05-15T04:47:05.994573Z"
    }
   },
   "outputs": [],
   "source": [
    "from sqlalchemy import Table, Column, Integer, String, DateTime, ForeignKey\n",
    "from sqlalchemy.orm import relationship, backref\n",
    "from sqlalchemy.ext.declarative import declarative_base"
   ]
  },
  {
   "cell_type": "code",
   "execution_count": 25,
   "metadata": {
    "ExecuteTime": {
     "end_time": "2018-05-15T04:47:06.518785Z",
     "start_time": "2018-05-15T04:47:06.515135Z"
    }
   },
   "outputs": [],
   "source": [
    "cnx = create_engine('postgresql://ubuntu@18.236.157.230:5432/ubuntu')"
   ]
  },
  {
   "cell_type": "code",
   "execution_count": null,
   "metadata": {},
   "outputs": [],
   "source": [
    "cnx.table_names()"
   ]
  },
  {
   "cell_type": "code",
   "execution_count": 94,
   "metadata": {
    "ExecuteTime": {
     "end_time": "2018-05-15T05:07:24.241833Z",
     "start_time": "2018-05-15T05:07:24.064362Z"
    }
   },
   "outputs": [
    {
     "data": {
      "text/html": [
       "<div>\n",
       "<style scoped>\n",
       "    .dataframe tbody tr th:only-of-type {\n",
       "        vertical-align: middle;\n",
       "    }\n",
       "\n",
       "    .dataframe tbody tr th {\n",
       "        vertical-align: top;\n",
       "    }\n",
       "\n",
       "    .dataframe thead th {\n",
       "        text-align: right;\n",
       "    }\n",
       "</style>\n",
       "<table border=\"1\" class=\"dataframe\">\n",
       "  <thead>\n",
       "    <tr style=\"text-align: right;\">\n",
       "      <th></th>\n",
       "      <th>id</th>\n",
       "      <th>elevation</th>\n",
       "      <th>aspect</th>\n",
       "      <th>slope</th>\n",
       "      <th>horizontal_distance_to_hydrology</th>\n",
       "      <th>vertical_distance_to_hydrology</th>\n",
       "      <th>horizontal_distance_to_roadways</th>\n",
       "      <th>hillshade_9am</th>\n",
       "      <th>hillshade_noon</th>\n",
       "      <th>hillshade_3pm</th>\n",
       "      <th>horizontal_distance_to_fire_points</th>\n",
       "      <th>cover_type</th>\n",
       "      <th>wilderness_area</th>\n",
       "      <th>soil_type</th>\n",
       "    </tr>\n",
       "  </thead>\n",
       "  <tbody>\n",
       "  </tbody>\n",
       "</table>\n",
       "</div>"
      ],
      "text/plain": [
       "Empty DataFrame\n",
       "Columns: [id, elevation, aspect, slope, horizontal_distance_to_hydrology, vertical_distance_to_hydrology, horizontal_distance_to_roadways, hillshade_9am, hillshade_noon, hillshade_3pm, horizontal_distance_to_fire_points, cover_type, wilderness_area, soil_type]\n",
       "Index: []"
      ]
     },
     "execution_count": 94,
     "metadata": {},
     "output_type": "execute_result"
    }
   ],
   "source": [
    "pd.read_sql_query('''SELECT * FROM forest_cover LIMIT 10''',cnx)"
   ]
  },
  {
   "cell_type": "code",
   "execution_count": 96,
   "metadata": {
    "ExecuteTime": {
     "end_time": "2018-05-15T05:08:34.063746Z",
     "start_time": "2018-05-15T05:08:34.037316Z"
    }
   },
   "outputs": [],
   "source": [
    "#read in my train_clas data to load into the aws sql server. as a starting point for \"ground truth\"\n",
    "df = pd.read_csv('train_clas.csv')\n",
    "df = df.rename(index=str, columns={'Unnamed: 0':'id'})\n",
    "df.columns = map(str.lower, df.columns)"
   ]
  },
  {
   "cell_type": "code",
   "execution_count": null,
   "metadata": {
    "ExecuteTime": {
     "start_time": "2018-05-15T05:11:39.249Z"
    }
   },
   "outputs": [],
   "source": [
    "df.to_sql('forest_cover',cnx, if_exists='append', index=False)"
   ]
  },
  {
   "cell_type": "code",
   "execution_count": 85,
   "metadata": {
    "ExecuteTime": {
     "end_time": "2018-05-15T04:58:18.395851Z",
     "start_time": "2018-05-15T04:58:18.392895Z"
    }
   },
   "outputs": [],
   "source": [
    "#testing adding data to a sql database through jupyter... it works!\n",
    "data = [4,'jim','5','.8']\n",
    "\n",
    "cols = ['id','name','age','accuracy']\n",
    "\n",
    "df = pd.DataFrame(data,cols)\n",
    "\n",
    "df = df.transpose()\n",
    "\n",
    "df.to_sql('ewok',cnx, if_exists='append', index=False)"
   ]
  },
  {
   "cell_type": "code",
   "execution_count": null,
   "metadata": {},
   "outputs": [],
   "source": [
    "# #This was used to create a table for sql on my aws. I loaded it through terminal and ubunutu.\n",
    "# CREATE TABLE forest_cover (\n",
    "#     Id SERIAL PRIMARY KEY,\n",
    "#     Elevation INT,\n",
    "#     Aspect INT,\n",
    "#     Slope INT,\n",
    "#     Horizontal_Distance_To_Hydrology INT,\n",
    "#     Vertical_Distance_To_Hydrology INT,\n",
    "#     Horizontal_Distance_To_Roadways INT,\n",
    "#     Hillshade_9am INT,\n",
    "#     Hillshade_Noon INT,\n",
    "#     Hillshade_3pm INT,\n",
    "#     Horizontal_Distance_To_Fire_Points INT, \n",
    "#     Cover_Type INT,\n",
    "#     Wilderness_Area INT,\n",
    "#     Soil_Type INT  \n",
    "# );"
   ]
  }
 ],
 "metadata": {
  "kernelspec": {
   "display_name": "Python 3",
   "language": "python",
   "name": "python3"
  },
  "language_info": {
   "codemirror_mode": {
    "name": "ipython",
    "version": 3
   },
   "file_extension": ".py",
   "mimetype": "text/x-python",
   "name": "python",
   "nbconvert_exporter": "python",
   "pygments_lexer": "ipython3",
   "version": "3.6.4"
  }
 },
 "nbformat": 4,
 "nbformat_minor": 2
}
