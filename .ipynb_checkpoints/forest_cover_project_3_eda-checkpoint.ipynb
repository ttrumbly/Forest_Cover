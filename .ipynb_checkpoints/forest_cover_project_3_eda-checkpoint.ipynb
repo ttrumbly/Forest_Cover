{
 "cells": [
  {
   "cell_type": "markdown",
   "metadata": {},
   "source": [
    "# Standard Imports"
   ]
  },
  {
   "cell_type": "code",
   "execution_count": 1,
   "metadata": {
    "ExecuteTime": {
     "end_time": "2018-05-12T20:27:46.632945Z",
     "start_time": "2018-05-12T20:27:46.037514Z"
    }
   },
   "outputs": [],
   "source": [
    "import pandas as pd\n",
    "import numpy as np\n",
    "import matplotlib.pyplot as plt\n",
    "import seaborn as sns\n",
    "%matplotlib inline\n",
    "%config InlineBackend.figure_format = 'svg'"
   ]
  },
  {
   "cell_type": "code",
   "execution_count": 2,
   "metadata": {
    "ExecuteTime": {
     "end_time": "2018-05-12T20:27:46.686522Z",
     "start_time": "2018-05-12T20:27:46.635084Z"
    }
   },
   "outputs": [],
   "source": [
    "from treeinterpreter import treeinterpreter as ti"
   ]
  },
  {
   "cell_type": "code",
   "execution_count": 3,
   "metadata": {
    "ExecuteTime": {
     "end_time": "2018-05-12T20:27:46.702776Z",
     "start_time": "2018-05-12T20:27:46.689245Z"
    }
   },
   "outputs": [],
   "source": [
    "from os import system\n",
    "from scipy.spatial.distance import euclidean\n",
    "from catboost import Pool, CatBoostClassifier"
   ]
  },
  {
   "cell_type": "code",
   "execution_count": 4,
   "metadata": {
    "ExecuteTime": {
     "end_time": "2018-05-12T20:27:46.760844Z",
     "start_time": "2018-05-12T20:27:46.728858Z"
    }
   },
   "outputs": [],
   "source": [
    "from sklearn.model_selection import train_test_split\n",
    "from sklearn import preprocessing\n",
    "from sklearn.tree import DecisionTreeClassifier\n",
    "from sklearn.svm import LinearSVC\n",
    "from sklearn.svm import SVC\n",
    "from sklearn.ensemble import ExtraTreesClassifier\n",
    "from sklearn.ensemble import RandomForestClassifier\n",
    "from sklearn.linear_model import LogisticRegression\n",
    "from sklearn.neighbors import KNeighborsClassifier\n",
    "from sklearn import metrics\n",
    "from sklearn.metrics import accuracy_score, confusion_matrix, classification_report\n",
    "from sklearn import naive_bayes"
   ]
  },
  {
   "cell_type": "code",
   "execution_count": 5,
   "metadata": {
    "ExecuteTime": {
     "end_time": "2018-05-12T20:27:47.341064Z",
     "start_time": "2018-05-12T20:27:47.329466Z"
    }
   },
   "outputs": [],
   "source": [
    "from sklearn.model_selection import GridSearchCV\n",
    "from sklearn.pipeline import Pipeline\n",
    "from sklearn.decomposition import PCA, NMF\n",
    "from sklearn.feature_selection import SelectKBest, chi2"
   ]
  },
  {
   "cell_type": "code",
   "execution_count": 6,
   "metadata": {
    "ExecuteTime": {
     "end_time": "2018-05-12T20:27:47.935768Z",
     "start_time": "2018-05-12T20:27:47.932917Z"
    }
   },
   "outputs": [],
   "source": [
    "# Useful trick when running things that take a long time.\n",
    "#system('say I am done!');"
   ]
  },
  {
   "cell_type": "markdown",
   "metadata": {},
   "source": [
    "# Read in CSVs, create DFs"
   ]
  },
  {
   "cell_type": "code",
   "execution_count": 276,
   "metadata": {
    "ExecuteTime": {
     "end_time": "2018-05-12T22:38:34.888382Z",
     "start_time": "2018-05-12T22:38:34.709475Z"
    }
   },
   "outputs": [],
   "source": [
    "train = pd.read_csv('train 3.csv')\n",
    "train_clas = pd.read_csv('train 3.csv')"
   ]
  },
  {
   "cell_type": "code",
   "execution_count": 277,
   "metadata": {
    "ExecuteTime": {
     "end_time": "2018-05-12T22:38:40.801171Z",
     "start_time": "2018-05-12T22:38:35.201105Z"
    }
   },
   "outputs": [],
   "source": [
    "test = pd.read_csv('test.csv')\n",
    "test_clas = pd.read_csv('test.csv')"
   ]
  },
  {
   "cell_type": "code",
   "execution_count": 278,
   "metadata": {
    "ExecuteTime": {
     "end_time": "2018-05-12T22:38:40.806892Z",
     "start_time": "2018-05-12T22:38:40.803534Z"
    }
   },
   "outputs": [],
   "source": [
    "col_list = train.columns"
   ]
  },
  {
   "cell_type": "code",
   "execution_count": 279,
   "metadata": {
    "ExecuteTime": {
     "end_time": "2018-05-12T22:38:40.812864Z",
     "start_time": "2018-05-12T22:38:40.809306Z"
    }
   },
   "outputs": [],
   "source": [
    "col_list = list(col_list)[1:]"
   ]
  },
  {
   "cell_type": "code",
   "execution_count": 280,
   "metadata": {
    "ExecuteTime": {
     "end_time": "2018-05-12T22:38:40.817858Z",
     "start_time": "2018-05-12T22:38:40.814814Z"
    }
   },
   "outputs": [],
   "source": [
    "#full = pd.read_csv('covtype.data', names=col_list)"
   ]
  },
  {
   "cell_type": "code",
   "execution_count": 281,
   "metadata": {
    "ExecuteTime": {
     "end_time": "2018-05-12T22:38:40.822800Z",
     "start_time": "2018-05-12T22:38:40.819892Z"
    }
   },
   "outputs": [],
   "source": [
    "#only ran this once to get create the full csv file for use in model implementation on the flask app.\n",
    "#full.to_csv('full_cols.csv')"
   ]
  },
  {
   "cell_type": "code",
   "execution_count": 282,
   "metadata": {
    "ExecuteTime": {
     "end_time": "2018-05-12T22:38:40.827524Z",
     "start_time": "2018-05-12T22:38:40.825147Z"
    }
   },
   "outputs": [],
   "source": [
    "#full_clas = full"
   ]
  },
  {
   "cell_type": "code",
   "execution_count": 283,
   "metadata": {
    "ExecuteTime": {
     "end_time": "2018-05-12T22:38:41.480410Z",
     "start_time": "2018-05-12T22:38:40.829312Z"
    }
   },
   "outputs": [],
   "source": [
    "#convert Id & Cover Type to strings, since they are not numeric features\n",
    "train['Id'] = train['Id'].apply(str)\n",
    "train['Cover_Type'] = train['Cover_Type'].apply(str)\n",
    "#full['Cover_Type'] = full['Cover_Type'].apply(str)\n",
    "test['Id'] = test['Id'].apply(str)\n",
    "test_clas['Id'] = test_clas['Id'].apply(str)\n",
    "train_clas['Id'] = train_clas['Id'].apply(str)\n",
    "train_clas['Cover_Type'] = train_clas['Cover_Type'].apply(str)\n",
    "#full_clas['Cover_Type'] = full_clas['Cover_Type'].apply(str)\n",
    "test_clas['Cover_Type_Name'] = 'TBD'"
   ]
  },
  {
   "cell_type": "code",
   "execution_count": 284,
   "metadata": {
    "ExecuteTime": {
     "end_time": "2018-05-12T22:38:41.491396Z",
     "start_time": "2018-05-12T22:38:41.482093Z"
    }
   },
   "outputs": [],
   "source": [
    "#instantiate a cover_type field for test set\n",
    "test_clas['Cover_Type'] = '0'\n",
    "test['Cover_Type'] = '0'"
   ]
  },
  {
   "cell_type": "code",
   "execution_count": 285,
   "metadata": {
    "ExecuteTime": {
     "end_time": "2018-05-12T22:38:41.498032Z",
     "start_time": "2018-05-12T22:38:41.493123Z"
    }
   },
   "outputs": [],
   "source": [
    "#function that will turn binary features into categorical features for use with random forests\n",
    "def to_categorical(df, column, samples):\n",
    "    for i in range(1, samples+1):\n",
    "        df[column][df[column+str(i)]==1] = str(i)\n",
    "    #df[column] = df[column].apply(str)\n",
    "    return df[column]"
   ]
  },
  {
   "cell_type": "code",
   "execution_count": 286,
   "metadata": {
    "ExecuteTime": {
     "end_time": "2018-05-12T22:38:41.511486Z",
     "start_time": "2018-05-12T22:38:41.499989Z"
    }
   },
   "outputs": [],
   "source": [
    "test_clas['Soil_Type'] = '0'\n",
    "test_clas['Wilderness_Area'] = '0'\n",
    "train_clas['Soil_Type'] = '0'\n",
    "train_clas['Wilderness_Area'] = '0'\n",
    "#full_clas['Soil_Type'] = '0'\n",
    "#full_clas['Wilderness_Area'] = '0'"
   ]
  },
  {
   "cell_type": "code",
   "execution_count": 287,
   "metadata": {
    "ExecuteTime": {
     "end_time": "2018-05-12T22:39:02.290594Z",
     "start_time": "2018-05-12T22:38:44.158888Z"
    }
   },
   "outputs": [
    {
     "name": "stderr",
     "output_type": "stream",
     "text": [
      "/anaconda3/lib/python3.6/site-packages/ipykernel_launcher.py:4: SettingWithCopyWarning: \n",
      "A value is trying to be set on a copy of a slice from a DataFrame\n",
      "\n",
      "See the caveats in the documentation: http://pandas.pydata.org/pandas-docs/stable/indexing.html#indexing-view-versus-copy\n",
      "  after removing the cwd from sys.path.\n"
     ]
    }
   ],
   "source": [
    "test_clas['Soil_Type'] = to_categorical(test_clas,'Soil_Type',40)\n",
    "train_clas['Soil_Type'] = to_categorical(train_clas,'Soil_Type',40)\n",
    "#full_clas['Soil_Type'] = to_categorical(full_clas,'Soil_Type',40)"
   ]
  },
  {
   "cell_type": "code",
   "execution_count": 288,
   "metadata": {
    "ExecuteTime": {
     "end_time": "2018-05-12T22:39:04.116019Z",
     "start_time": "2018-05-12T22:39:02.293309Z"
    }
   },
   "outputs": [
    {
     "name": "stderr",
     "output_type": "stream",
     "text": [
      "/anaconda3/lib/python3.6/site-packages/ipykernel_launcher.py:4: SettingWithCopyWarning: \n",
      "A value is trying to be set on a copy of a slice from a DataFrame\n",
      "\n",
      "See the caveats in the documentation: http://pandas.pydata.org/pandas-docs/stable/indexing.html#indexing-view-versus-copy\n",
      "  after removing the cwd from sys.path.\n"
     ]
    }
   ],
   "source": [
    "#full_clas['Wilderness_Area'] = to_categorical(full_clas,'Wilderness_Area',4)\n",
    "train_clas['Wilderness_Area'] = to_categorical(train_clas,'Wilderness_Area',4)\n",
    "test_clas['Wilderness_Area'] = to_categorical(test_clas,'Wilderness_Area',4)"
   ]
  },
  {
   "cell_type": "code",
   "execution_count": 289,
   "metadata": {
    "ExecuteTime": {
     "end_time": "2018-05-12T22:39:04.168433Z",
     "start_time": "2018-05-12T22:39:04.118471Z"
    }
   },
   "outputs": [],
   "source": [
    "# #drop binary features from categorical dfs\n",
    "train_clas = train_clas[['Id','Elevation','Aspect','Slope','Horizontal_Distance_To_Hydrology','Vertical_Distance_To_Hydrology','Horizontal_Distance_To_Roadways','Hillshade_9am','Hillshade_Noon','Hillshade_3pm','Horizontal_Distance_To_Fire_Points', 'Cover_Type','Wilderness_Area','Soil_Type']]\n",
    "test_clas = test_clas[['Id','Elevation','Aspect','Slope','Horizontal_Distance_To_Hydrology','Vertical_Distance_To_Hydrology','Horizontal_Distance_To_Roadways','Hillshade_9am','Hillshade_Noon','Hillshade_3pm','Horizontal_Distance_To_Fire_Points','Wilderness_Area','Soil_Type', 'Cover_Type_Name']]\n",
    "#full_clas = full_clas[['Elevation','Aspect','Slope','Horizontal_Distance_To_Hydrology','Vertical_Distance_To_Hydrology','Horizontal_Distance_To_Roadways','Hillshade_9am','Hillshade_Noon','Hillshade_3pm','Horizontal_Distance_To_Fire_Points','Wilderness_Area','Soil_Type']]"
   ]
  },
  {
   "cell_type": "code",
   "execution_count": 297,
   "metadata": {
    "ExecuteTime": {
     "end_time": "2018-05-12T22:42:54.848027Z",
     "start_time": "2018-05-12T22:42:54.678880Z"
    }
   },
   "outputs": [],
   "source": [
    "train_clas.drop(['Id'],1).to_csv('train_clas.csv')"
   ]
  },
  {
   "cell_type": "code",
   "execution_count": 290,
   "metadata": {
    "ExecuteTime": {
     "end_time": "2018-05-12T22:39:29.137007Z",
     "start_time": "2018-05-12T22:39:23.719556Z"
    }
   },
   "outputs": [],
   "source": [
    "# #create csv files of these dataframes for later recall and use\n",
    "# train_clas.to_csv('train_clas.csv')\n",
    "# test_clas.to_csv('test_clas.csv')"
   ]
  },
  {
   "cell_type": "code",
   "execution_count": 121,
   "metadata": {
    "ExecuteTime": {
     "end_time": "2018-05-12T21:24:23.013805Z",
     "start_time": "2018-05-12T21:24:22.577992Z"
    }
   },
   "outputs": [
    {
     "name": "stderr",
     "output_type": "stream",
     "text": [
      "/anaconda3/lib/python3.6/site-packages/ipykernel_launcher.py:2: SettingWithCopyWarning: \n",
      "A value is trying to be set on a copy of a slice from a DataFrame\n",
      "\n",
      "See the caveats in the documentation: http://pandas.pydata.org/pandas-docs/stable/indexing.html#indexing-view-versus-copy\n",
      "  \n",
      "/anaconda3/lib/python3.6/site-packages/ipykernel_launcher.py:3: SettingWithCopyWarning: \n",
      "A value is trying to be set on a copy of a slice from a DataFrame\n",
      "\n",
      "See the caveats in the documentation: http://pandas.pydata.org/pandas-docs/stable/indexing.html#indexing-view-versus-copy\n",
      "  This is separate from the ipykernel package so we can avoid doing imports until\n",
      "/anaconda3/lib/python3.6/site-packages/ipykernel_launcher.py:4: SettingWithCopyWarning: \n",
      "A value is trying to be set on a copy of a slice from a DataFrame\n",
      "\n",
      "See the caveats in the documentation: http://pandas.pydata.org/pandas-docs/stable/indexing.html#indexing-view-versus-copy\n",
      "  after removing the cwd from sys.path.\n",
      "/anaconda3/lib/python3.6/site-packages/ipykernel_launcher.py:5: SettingWithCopyWarning: \n",
      "A value is trying to be set on a copy of a slice from a DataFrame\n",
      "\n",
      "See the caveats in the documentation: http://pandas.pydata.org/pandas-docs/stable/indexing.html#indexing-view-versus-copy\n",
      "  \"\"\"\n",
      "/anaconda3/lib/python3.6/site-packages/ipykernel_launcher.py:6: SettingWithCopyWarning: \n",
      "A value is trying to be set on a copy of a slice from a DataFrame\n",
      "\n",
      "See the caveats in the documentation: http://pandas.pydata.org/pandas-docs/stable/indexing.html#indexing-view-versus-copy\n",
      "  \n",
      "/anaconda3/lib/python3.6/site-packages/ipykernel_launcher.py:7: SettingWithCopyWarning: \n",
      "A value is trying to be set on a copy of a slice from a DataFrame\n",
      "\n",
      "See the caveats in the documentation: http://pandas.pydata.org/pandas-docs/stable/indexing.html#indexing-view-versus-copy\n",
      "  import sys\n",
      "/anaconda3/lib/python3.6/site-packages/ipykernel_launcher.py:8: SettingWithCopyWarning: \n",
      "A value is trying to be set on a copy of a slice from a DataFrame\n",
      "\n",
      "See the caveats in the documentation: http://pandas.pydata.org/pandas-docs/stable/indexing.html#indexing-view-versus-copy\n",
      "  \n"
     ]
    }
   ],
   "source": [
    "# train_clas['Cover_Type_Name'] = 'null'\n",
    "# train_clas['Cover_Type_Name'][(train_clas['Cover_Type']=='1')] = 'Spruce/Fir'\n",
    "# train_clas['Cover_Type_Name'][(train_clas['Cover_Type']=='2')] = 'Lodgepole Pine'\n",
    "# train_clas['Cover_Type_Name'][(train_clas['Cover_Type']=='3')] = 'Ponderose Pine'\n",
    "# train_clas['Cover_Type_Name'][(train_clas['Cover_Type']=='4')] = 'Cottonwood/Willow'\n",
    "# train_clas['Cover_Type_Name'][(train_clas['Cover_Type']=='5')] = 'Aspen'\n",
    "# train_clas['Cover_Type_Name'][(train_clas['Cover_Type']=='6')] = 'Douglas-fir'\n",
    "# train_clas['Cover_Type_Name'][(train_clas['Cover_Type']=='7')] = 'Krummholz'"
   ]
  },
  {
   "cell_type": "code",
   "execution_count": 22,
   "metadata": {
    "ExecuteTime": {
     "end_time": "2018-05-12T20:27:58.855468Z",
     "start_time": "2018-05-12T20:27:58.489143Z"
    }
   },
   "outputs": [
    {
     "name": "stderr",
     "output_type": "stream",
     "text": [
      "/anaconda3/lib/python3.6/site-packages/ipykernel_launcher.py:2: SettingWithCopyWarning: \n",
      "A value is trying to be set on a copy of a slice from a DataFrame\n",
      "\n",
      "See the caveats in the documentation: http://pandas.pydata.org/pandas-docs/stable/indexing.html#indexing-view-versus-copy\n",
      "  \n",
      "/anaconda3/lib/python3.6/site-packages/ipykernel_launcher.py:3: SettingWithCopyWarning: \n",
      "A value is trying to be set on a copy of a slice from a DataFrame\n",
      "\n",
      "See the caveats in the documentation: http://pandas.pydata.org/pandas-docs/stable/indexing.html#indexing-view-versus-copy\n",
      "  This is separate from the ipykernel package so we can avoid doing imports until\n",
      "/anaconda3/lib/python3.6/site-packages/ipykernel_launcher.py:4: SettingWithCopyWarning: \n",
      "A value is trying to be set on a copy of a slice from a DataFrame\n",
      "\n",
      "See the caveats in the documentation: http://pandas.pydata.org/pandas-docs/stable/indexing.html#indexing-view-versus-copy\n",
      "  after removing the cwd from sys.path.\n",
      "/anaconda3/lib/python3.6/site-packages/ipykernel_launcher.py:5: SettingWithCopyWarning: \n",
      "A value is trying to be set on a copy of a slice from a DataFrame\n",
      "\n",
      "See the caveats in the documentation: http://pandas.pydata.org/pandas-docs/stable/indexing.html#indexing-view-versus-copy\n",
      "  \"\"\"\n"
     ]
    }
   ],
   "source": [
    "# test_clas['Wilderness_Area_Name'] = 'null'\n",
    "# test_clas['Wilderness_Area_Name'][(test_clas['Wilderness_Area']=='1')] = 'Rahwah Wilderness'\n",
    "# test_clas['Wilderness_Area_Name'][(test_clas['Wilderness_Area']=='2')] = 'Neota Wilderness'\n",
    "# test_clas['Wilderness_Area_Name'][(test_clas['Wilderness_Area']=='3')] = 'Comanche Peak Wilderness'\n",
    "# test_clas['Wilderness_Area_Name'][(test_clas['Wilderness_Area']=='4')] = 'Cache la Poudre Wilderness'"
   ]
  },
  {
   "cell_type": "code",
   "execution_count": 23,
   "metadata": {
    "ExecuteTime": {
     "end_time": "2018-05-12T20:27:59.008744Z",
     "start_time": "2018-05-12T20:27:58.858127Z"
    }
   },
   "outputs": [
    {
     "name": "stderr",
     "output_type": "stream",
     "text": [
      "/anaconda3/lib/python3.6/site-packages/ipykernel_launcher.py:2: SettingWithCopyWarning: \n",
      "A value is trying to be set on a copy of a slice from a DataFrame\n",
      "\n",
      "See the caveats in the documentation: http://pandas.pydata.org/pandas-docs/stable/indexing.html#indexing-view-versus-copy\n",
      "  \n",
      "/anaconda3/lib/python3.6/site-packages/ipykernel_launcher.py:3: SettingWithCopyWarning: \n",
      "A value is trying to be set on a copy of a slice from a DataFrame\n",
      "\n",
      "See the caveats in the documentation: http://pandas.pydata.org/pandas-docs/stable/indexing.html#indexing-view-versus-copy\n",
      "  This is separate from the ipykernel package so we can avoid doing imports until\n",
      "/anaconda3/lib/python3.6/site-packages/ipykernel_launcher.py:4: SettingWithCopyWarning: \n",
      "A value is trying to be set on a copy of a slice from a DataFrame\n",
      "\n",
      "See the caveats in the documentation: http://pandas.pydata.org/pandas-docs/stable/indexing.html#indexing-view-versus-copy\n",
      "  after removing the cwd from sys.path.\n",
      "/anaconda3/lib/python3.6/site-packages/ipykernel_launcher.py:5: SettingWithCopyWarning: \n",
      "A value is trying to be set on a copy of a slice from a DataFrame\n",
      "\n",
      "See the caveats in the documentation: http://pandas.pydata.org/pandas-docs/stable/indexing.html#indexing-view-versus-copy\n",
      "  \"\"\"\n"
     ]
    }
   ],
   "source": [
    "# train_clas['Wilderness_Area_Name'] = 'null'\n",
    "# train_clas['Wilderness_Area_Name'][(train_clas['Wilderness_Area']=='1')] = 'Rahwah Wilderness'\n",
    "# train_clas['Wilderness_Area_Name'][(train_clas['Wilderness_Area']=='2')] = 'Neota Wilderness'\n",
    "# train_clas['Wilderness_Area_Name'][(train_clas['Wilderness_Area']=='3')] = 'Comanche Peak Wilderness'\n",
    "# train_clas['Wilderness_Area_Name'][(train_clas['Wilderness_Area']=='4')] = 'Cache la Poudre Wilderness'"
   ]
  },
  {
   "cell_type": "code",
   "execution_count": 21,
   "metadata": {
    "ExecuteTime": {
     "end_time": "2018-05-12T19:41:40.107006Z",
     "start_time": "2018-05-12T19:41:40.104266Z"
    }
   },
   "outputs": [],
   "source": [
    "# #played with creating new variable of true distance to water\n",
    "# test['Dist_To_Water'] = (test['Horizontal_Distance_To_Hydrology']**2 + test['Vertical_Distance_To_Hydrology']**2)**.5\n",
    "# train['Dist_To_Water'] = (train['Horizontal_Distance_To_Hydrology']**2 + train['Vertical_Distance_To_Hydrology']**2)**.5"
   ]
  },
  {
   "cell_type": "code",
   "execution_count": 22,
   "metadata": {
    "ExecuteTime": {
     "end_time": "2018-05-12T19:41:41.755133Z",
     "start_time": "2018-05-12T19:41:41.752105Z"
    }
   },
   "outputs": [],
   "source": [
    "# #a way to show all columns in a dataframe (and all rows if needed)\n",
    "# with pd.option_context('display.max_rows', None, 'display.max_columns', None):\n",
    "#     display(full.head(1))"
   ]
  },
  {
   "cell_type": "markdown",
   "metadata": {},
   "source": [
    "# Begin exploratory data visualizations"
   ]
  },
  {
   "cell_type": "code",
   "execution_count": null,
   "metadata": {},
   "outputs": [],
   "source": [
    "fig = plt.subplots(figsize=(8,8))\n",
    "sns.swarmplot(x='Wilderness_Area',y='Elevation', data=train_clas)\n",
    "plt.savefig('wilderness_elevation.svg', format='svg')\n",
    "plt.savefig('wilderness_elevation.png', dpi=300)\n",
    "plt.show();"
   ]
  },
  {
   "cell_type": "code",
   "execution_count": null,
   "metadata": {},
   "outputs": [],
   "source": [
    "fig = plt.subplots(figsize=(8,8))\n",
    "sns.swarmplot(x='Cover_Type',y='Wilderness_Area', data=train_clas)\n",
    "plt.savefig('wilderness_cover.svg', format='svg')\n",
    "plt.savefig('wilderness_cover.png', dpi=300)\n",
    "plt.show();"
   ]
  },
  {
   "cell_type": "code",
   "execution_count": null,
   "metadata": {},
   "outputs": [],
   "source": [
    "fig = plt.subplots(figsize=(8,8))\n",
    "g= sns.swarmplot(x='Cover_Type_Name',y='Elevation', data=train_clas, hue='Wilderness_Area_Name')\n",
    "plt.xticks(rotation=45)\n",
    "plt.gcf().subplots_adjust(bottom=0.15)\n",
    "plt.savefig('cover_elevation.svg', format='svg')\n",
    "plt.savefig('cover_elevation.png', dpi=300)\n",
    "plt.show();"
   ]
  },
  {
   "cell_type": "code",
   "execution_count": null,
   "metadata": {},
   "outputs": [],
   "source": [
    "sns.distplot(train['Elevation'], bins=50)\n",
    "plt.savefig('elevation.svg', format='svg')\n",
    "plt.savefig('elevation.png', dpi=300)\n",
    "plt.show();"
   ]
  },
  {
   "cell_type": "code",
   "execution_count": null,
   "metadata": {},
   "outputs": [],
   "source": [
    "sns.distplot(train['Aspect'], bins=50);\n",
    "plt.savefig('aspect.svg', format='svg')\n",
    "plt.savefig('aspect.png', dpi=300)\n",
    "plt.show();"
   ]
  },
  {
   "cell_type": "code",
   "execution_count": null,
   "metadata": {},
   "outputs": [],
   "source": [
    "fig,axs = plt.subplots(nrows=2, ncols=5, figsize=(20,10))\n",
    "sns.distplot(train['Elevation'], ax=axs[0,0])\n",
    "sns.distplot(train['Aspect'], ax=axs[0,1])\n",
    "sns.distplot(train['Slope'], ax=axs[0,2])\n",
    "sns.distplot(train['Horizontal_Distance_To_Hydrology'], ax=axs[0,3])\n",
    "sns.distplot(train['Vertical_Distance_To_Hydrology'], ax=axs[0,4])\n",
    "sns.distplot(train['Horizontal_Distance_To_Roadways'], ax=axs[1,0])\n",
    "sns.distplot(train['Hillshade_9am'], ax=axs[1,1])\n",
    "sns.distplot(train['Hillshade_Noon'], ax=axs[1,2])\n",
    "sns.distplot(train['Hillshade_3pm'], ax=axs[1,3])\n",
    "sns.distplot(train['Horizontal_Distance_To_Fire_Points'], ax=axs[1,4])\n",
    "plt.savefig('dist_plots.svg', format='svg')\n",
    "plt.savefig('dist_plots.png', dpi=300)\n",
    "plt.show();"
   ]
  },
  {
   "cell_type": "code",
   "execution_count": null,
   "metadata": {},
   "outputs": [],
   "source": [
    "cols_to_corr=['Elevation','Aspect','Slope','Horizontal_Distance_To_Hydrology','Vertical_Distance_To_Hydrology','Horizontal_Distance_To_Roadways','Hillshade_9am','Hillshade_Noon','Hillshade_3pm','Horizontal_Distance_To_Fire_Points' ]"
   ]
  },
  {
   "cell_type": "code",
   "execution_count": null,
   "metadata": {},
   "outputs": [],
   "source": [
    "plt.subplots(figsize=(10,10))\n",
    "sns.heatmap(train[cols_to_corr].corr(), vmin=-1, vmax=1, cmap='coolwarm',annot=True)\n",
    "plt.savefig('heatmap.svg', format='svg')\n",
    "plt.savefig('heatmap.png', dpi=300)\n",
    "plt.show();"
   ]
  },
  {
   "cell_type": "code",
   "execution_count": null,
   "metadata": {},
   "outputs": [],
   "source": [
    "sns.jointplot(x='Slope',y='Elevation', data=train, kind='kde')\n",
    "plt.savefig('slope_elevation.svg', format='svg')\n",
    "plt.savefig('slope_elevation.png', dpi=300)\n",
    "plt.show();"
   ]
  },
  {
   "cell_type": "code",
   "execution_count": null,
   "metadata": {},
   "outputs": [],
   "source": [
    "sns.pairplot(train[cols_to_corr])\n",
    "plt.savefig('pair_plot.svg', format='svg')\n",
    "plt.savefig('pair_plot.png', dpi=300)\n",
    "plt.show();"
   ]
  },
  {
   "cell_type": "code",
   "execution_count": null,
   "metadata": {},
   "outputs": [],
   "source": [
    "sns.jointplot(x='Hillshade_9am',y='Aspect', data=train, kind='kde')\n",
    "plt.savefig('9am_aspect.svg', format='svg')\n",
    "plt.savefig('9am_aspect.png', dpi=300)\n",
    "plt.show();"
   ]
  },
  {
   "cell_type": "code",
   "execution_count": null,
   "metadata": {},
   "outputs": [],
   "source": [
    "sns.jointplot(x='Hillshade_3pm',y='Aspect', data=train, kind='kde')\n",
    "plt.savefig('3pm_aspect.svg', format='svg')\n",
    "plt.savefig('3pm_aspect.png', dpi=300)\n",
    "plt.show();"
   ]
  },
  {
   "cell_type": "code",
   "execution_count": null,
   "metadata": {},
   "outputs": [],
   "source": [
    "sns.jointplot(x='Hillshade_Noon',y='Aspect', data=train, kind='kde')\n",
    "plt.savefig('noon_aspect.svg', format='svg')\n",
    "plt.savefig('noon_aspect.png', dpi=300)\n",
    "plt.show();"
   ]
  },
  {
   "cell_type": "markdown",
   "metadata": {},
   "source": [
    "# Modeling with binary classified categorical features and appropriate models (KNN, SVM)"
   ]
  },
  {
   "cell_type": "markdown",
   "metadata": {},
   "source": [
    "## Scale the dataset using minmax scaler and standard scaler. Scale both before and after train test split"
   ]
  },
  {
   "cell_type": "code",
   "execution_count": null,
   "metadata": {},
   "outputs": [],
   "source": [
    "#Scale entire train dataset using minmax scaler\n",
    "min_max_scaler = preprocessing.MinMaxScaler(feature_range=(-1,1))\n",
    "X_minmax = min_max_scaler.fit_transform(X)"
   ]
  },
  {
   "cell_type": "code",
   "execution_count": null,
   "metadata": {},
   "outputs": [],
   "source": [
    "#scale test data set using min_max_scaler created above\n",
    "#for testing this model on kaggle competition test data\n",
    "X_test_X = test.drop(['Cover_Type', 'Id',],1)\n",
    "X_test_minmax_X = min_max_scaler.transform(X_test_X)"
   ]
  },
  {
   "cell_type": "code",
   "execution_count": null,
   "metadata": {},
   "outputs": [],
   "source": [
    "#scale entire train dataset using standard scaler\n",
    "scaler = preprocessing.StandardScaler()\n",
    "scaler.fit(X)\n",
    "scaled_test = scaler.transform(X)"
   ]
  },
  {
   "cell_type": "code",
   "execution_count": null,
   "metadata": {},
   "outputs": [],
   "source": [
    "# Create X and Y variables for train test split for scaling\n",
    "X = train.drop(['Id','Cover_Type'],1)\n",
    "y = train['Cover_Type']\n",
    "X_train, X_test, y_train, y_test = train_test_split(X,y,test_size=.3, random_state=42)"
   ]
  },
  {
   "cell_type": "code",
   "execution_count": null,
   "metadata": {},
   "outputs": [],
   "source": [
    "#Scale after train/test split using minmax scaler\n",
    "min_max_scaler = preprocessing.MinMaxScaler(feature_range=(-1,1))\n",
    "X_train_minmax = min_max_scaler.fit_transform(X_train)\n",
    "X_test_minmax = min_max_scaler.transform(X_test)"
   ]
  },
  {
   "cell_type": "markdown",
   "metadata": {},
   "source": [
    "## KNN Section"
   ]
  },
  {
   "cell_type": "code",
   "execution_count": null,
   "metadata": {},
   "outputs": [],
   "source": [
    "#KNN on minmax X_train/test\n",
    "knn = KNeighborsClassifier(n_neighbors=5)\n",
    "knn.fit(X_train_minmax,y_train)\n",
    "y_pred_knn_minmax = knn.predict(X_test_minmax)\n",
    "print(metrics.accuracy_score(y_test,y_pred_knn_minmax))\n",
    "#result, this does poorly with prediction on the entire dataset. KNN 5 better than KNN 50"
   ]
  },
  {
   "cell_type": "markdown",
   "metadata": {},
   "source": [
    "### Test on Kaggle Test Dataset and create CSV for KNN"
   ]
  },
  {
   "cell_type": "code",
   "execution_count": null,
   "metadata": {},
   "outputs": [],
   "source": [
    "#test KNN using the actual test dataset\n",
    "knn_pred_test_set = knn.predict(X_test_minmax_X)\n",
    "test['Cover_Type'] = knn_pred_test_set\n",
    "test_ans_5 = test[['Id','Cover_Type']]\n",
    "test_ans_5.to_csv('submission_5.csv', index=False)\n",
    "#result, this does poorly with prediction on the entire dataset."
   ]
  },
  {
   "cell_type": "markdown",
   "metadata": {},
   "source": [
    "## SVM Section"
   ]
  },
  {
   "cell_type": "code",
   "execution_count": null,
   "metadata": {},
   "outputs": [],
   "source": [
    "#Linear SVC on minmax X_train/test\n",
    "model_svm_minmax = SVC(C=2.0, kernel='linear')\n",
    "model_svm_minmax.fit(X_train_minmax, y_train)\n",
    "y_pred_svm_minmax = model_svm_minmax.predict(X_test_minmax)\n",
    "accuracy_score(y_test, y_pred_svm_minmax)"
   ]
  },
  {
   "cell_type": "code",
   "execution_count": null,
   "metadata": {},
   "outputs": [],
   "source": [
    "#SVC on non scaled data\n",
    "model_svm = SVC()\n",
    "model_svm.fit(X_train, y_train)\n",
    "y_pred_svm = model_svm.predict(X_test)\n",
    "accuracy_score(y_test, y_pred_svm)\n",
    "#This does very poorly evidence that scaling is very important."
   ]
  },
  {
   "cell_type": "markdown",
   "metadata": {},
   "source": [
    "### Gridsearch CV to try and id best parameters for LinearSVC"
   ]
  },
  {
   "cell_type": "code",
   "execution_count": null,
   "metadata": {},
   "outputs": [],
   "source": [
    "#gridsearchcv with Linear SVC\n",
    "def svc_param_selection(X, y, nfolds=5):\n",
    "    penalty = ['l1']\n",
    "    Cs = [1, 10, 100] #used to run with more lower values, but takes a long time. result was 100\n",
    "    param_grid = {'penalty': penalty, 'C': Cs}\n",
    "    grid_search = GridSearchCV(LinearSVC(dual=False), param_grid, cv=nfolds)\n",
    "    grid_search.fit(X, y)\n",
    "    grid_search.best_params_\n",
    "    return grid_search.best_params_"
   ]
  },
  {
   "cell_type": "code",
   "execution_count": null,
   "metadata": {},
   "outputs": [],
   "source": [
    "svc_param_selection(X_minmax, y, 10)"
   ]
  },
  {
   "cell_type": "code",
   "execution_count": null,
   "metadata": {},
   "outputs": [],
   "source": [
    "#Using minmax, train new model using best params from above\n",
    "model_svm2_minmax = LinearSVC(C=100.0)\n",
    "model_svm2_minmax.fit(X_train_minmax, y_train)\n",
    "y_pred_svm_2_minmax = model_svm2_minmax.predict(X_test_minmax)\n",
    "accuracy_score(y_test, y_pred_svm_2_minmax)"
   ]
  },
  {
   "cell_type": "code",
   "execution_count": null,
   "metadata": {},
   "outputs": [],
   "source": [
    "model_svm2_minmax = LinearSVC(C=10.0, penalty='l1', dual=False)\n",
    "model_svm2_minmax.fit(X_train_minmax, y_train)\n",
    "y_pred_svm_2_minmax = model_svm2_minmax.predict(X_test_minmax)\n",
    "accuracy_score(y_test, y_pred_svm_2_minmax)"
   ]
  },
  {
   "cell_type": "markdown",
   "metadata": {},
   "source": [
    "### Run and create a submission for the kaggle competition using the model created above."
   ]
  },
  {
   "cell_type": "code",
   "execution_count": null,
   "metadata": {},
   "outputs": [],
   "source": [
    "#run the above model on the entire Kaggle test dataset, create a CSV to submit for scoring\n",
    "new_predicts_test_set = model_svm2_minmax.predict(X_test_minmax_X)\n",
    "test['Cover_Type'] = new_predicts_test_set\n",
    "test_ans_3 = test[['Id','Cover_Type']]\n",
    "test_ans_3.to_csv('submission_3.csv', index=False)"
   ]
  },
  {
   "cell_type": "markdown",
   "metadata": {},
   "source": [
    "### Gridsearch CV to try and id best parameters for LinearSVC"
   ]
  },
  {
   "cell_type": "code",
   "execution_count": null,
   "metadata": {},
   "outputs": [],
   "source": [
    "#gridsearchcv with RBF SVC\n",
    "def svc_param_selection_rbf(X, y, nfolds):\n",
    "    Cs = [0.001, 0.01, 0.1, 1, 10]\n",
    "    gammas = [0.001, 0.01, 0.1, 1]\n",
    "    param_grid = {'C': Cs, 'gamma' : gammas}\n",
    "    grid_search = GridSearchCV(SVC(kernel='rbf'), param_grid, cv=nfolds)\n",
    "    grid_search.fit(X, y)\n",
    "    grid_search.best_params_\n",
    "    return grid_search.best_params_"
   ]
  },
  {
   "cell_type": "code",
   "execution_count": null,
   "metadata": {},
   "outputs": [],
   "source": [
    "svc_param_selection_rbf(X_minmax, y, 10)"
   ]
  },
  {
   "cell_type": "code",
   "execution_count": null,
   "metadata": {},
   "outputs": [],
   "source": [
    "#Run model with best parameters on entire Kaggle test dataset, create a CSV to submit for scoring\n",
    "svc_rbf_kaggle = SVC(kernel='rbf',C=10,gamma=1)\n",
    "svc_rbf_kaggle.fit(X_minmax,y)\n",
    "rbf_kaggle = svc_rbf_kaggle.predict(X_test_minmax_X)\n",
    "test['Cover_Type'] = rbf_kaggle\n",
    "test_ans_8 = test[['Id','Cover_Type']]\n",
    "test_ans_8.to_csv('submission_8.csv', index=False)"
   ]
  },
  {
   "cell_type": "code",
   "execution_count": null,
   "metadata": {},
   "outputs": [],
   "source": [
    "rbf_kaggle"
   ]
  },
  {
   "cell_type": "code",
   "execution_count": null,
   "metadata": {},
   "outputs": [],
   "source": [
    "df_to_join = train.drop(cols_to_scale,1)\n",
    "train_scaled = df_to_join.join(scaled_df)"
   ]
  },
  {
   "cell_type": "code",
   "execution_count": null,
   "metadata": {},
   "outputs": [],
   "source": [
    "cols_to_scale = ['Elevation','Aspect','Slope','Horizontal_Distance_To_Hydrology','Vertical_Distance_To_Hydrology','Horizontal_Distance_To_Roadways','Hillshade_9am','Hillshade_Noon','Hillshade_3pm','Horizontal_Distance_To_Fire_Points']\n",
    "df_to_scale_2 = test[cols_to_scale]\n",
    "scaler_2 = preprocessing.StandardScaler()\n",
    "scaled_2 = scaler_2.fit_transform(df_to_scale_2)\n",
    "scaled_df_2 = pd.DataFrame(scaled_2, columns=cols_to_scale)\n",
    "df_to_join2 = test.drop(cols_to_scale,1)\n",
    "test_scaled = df_to_join2.join(scaled_df_2)"
   ]
  },
  {
   "cell_type": "code",
   "execution_count": null,
   "metadata": {},
   "outputs": [],
   "source": [
    "test_scaled['Cover_Type'] = 0"
   ]
  },
  {
   "cell_type": "code",
   "execution_count": null,
   "metadata": {},
   "outputs": [],
   "source": [
    "X_test_real = test_scaled.drop(['Cover_Type','Id'],1)"
   ]
  },
  {
   "cell_type": "code",
   "execution_count": null,
   "metadata": {},
   "outputs": [],
   "source": [
    "confusion_matrix(y_test, y_pred_svm)"
   ]
  },
  {
   "cell_type": "code",
   "execution_count": null,
   "metadata": {},
   "outputs": [],
   "source": [
    "metrics.f1_score(y_test, y_pred_svm, average='micro')"
   ]
  },
  {
   "cell_type": "code",
   "execution_count": null,
   "metadata": {},
   "outputs": [],
   "source": [
    "accuracy_score(y_test,y_pred_svm_2)"
   ]
  },
  {
   "cell_type": "code",
   "execution_count": null,
   "metadata": {},
   "outputs": [],
   "source": []
  },
  {
   "cell_type": "markdown",
   "metadata": {},
   "source": [
    "drop cols from train_clas that have been unbinaried... try to do some random forest work"
   ]
  },
  {
   "cell_type": "code",
   "execution_count": null,
   "metadata": {},
   "outputs": [],
   "source": [
    "#cols_to_corr=['Elevation','Aspect','Slope','Horizontal_Distance_To_Hydrology','Vertical_Distance_To_Hydrology','Horizontal_Distance_To_Roadways','Hillshade_9am','Hillshade_Noon','Hillshade_3pm','Horizontal_Distance_To_Fire_Points' ]"
   ]
  },
  {
   "cell_type": "code",
   "execution_count": null,
   "metadata": {
    "ExecuteTime": {
     "end_time": "2018-05-11T20:38:05.590368Z",
     "start_time": "2018-05-11T20:38:05.582039Z"
    }
   },
   "outputs": [],
   "source": [
    "train_clas.iloc[2]"
   ]
  },
  {
   "cell_type": "markdown",
   "metadata": {},
   "source": [
    "# Modeling with Trees, Forests, and Catergorical Features"
   ]
  },
  {
   "cell_type": "markdown",
   "metadata": {},
   "source": [
    "### Playing with CatBoost"
   ]
  },
  {
   "cell_type": "markdown",
   "metadata": {},
   "source": [
    "My model is trying to predict which forest cover type is going to be found. This is a categorical target and in theory should be named as such. None of the popular random forest model tools allows for that, that all seem to require me to use a number as my target. That is fine, I am getting good results.\n",
    "\n",
    "I noticed that when using cat boost and looking at my predict_proba, it was giving me an array of 8 options (as if it were predicting 0,1,2,3,4,5,6,7) even though it never saw a 0.\n",
    "\n",
    "The model it generated still predicted well (86% accuracy on out of sample) I just found this to be very interesting.\n",
    "\n",
    "I then adjusted the inputs a little and fed the catboost model 0,1,2,3,4,5,6 as possible targets and the new predict proba was only an array of 7 options.\n",
    "\n",
    "The model that these new parameters created was about the exact same accuracy as my other one, so it does not appear to have had much or any impact on my outcomes. However I did find this pretty fascinating and will leave the two models in my code with some commentary about what happened. No idea if this is something either of you can explain or has insight into. But figured I would raise it as an observation that I cannot explain."
   ]
  },
  {
   "cell_type": "code",
   "execution_count": 271,
   "metadata": {
    "ExecuteTime": {
     "end_time": "2018-05-12T22:36:11.215912Z",
     "start_time": "2018-05-12T22:36:11.212976Z"
    }
   },
   "outputs": [],
   "source": [
    "#testing for webbuild"
   ]
  },
  {
   "cell_type": "code",
   "execution_count": 341,
   "metadata": {
    "ExecuteTime": {
     "end_time": "2018-05-12T23:36:59.695101Z",
     "start_time": "2018-05-12T23:36:59.689999Z"
    }
   },
   "outputs": [
    {
     "data": {
      "text/plain": [
       "['Elevation',\n",
       " 'Aspect',\n",
       " 'Slope',\n",
       " 'Horizontal_Distance_To_Hydrology',\n",
       " 'Vertical_Distance_To_Hydrology',\n",
       " 'Horizontal_Distance_To_Roadways',\n",
       " 'Hillshade_9am',\n",
       " 'Hillshade_Noon',\n",
       " 'Hillshade_3pm',\n",
       " 'Horizontal_Distance_To_Fire_Points',\n",
       " 'Wilderness_Area',\n",
       " 'Soil_Type']"
      ]
     },
     "execution_count": 341,
     "metadata": {},
     "output_type": "execute_result"
    }
   ],
   "source": [
    "list(X_cat.columns)"
   ]
  },
  {
   "cell_type": "code",
   "execution_count": 298,
   "metadata": {
    "ExecuteTime": {
     "end_time": "2018-05-12T22:43:03.129787Z",
     "start_time": "2018-05-12T22:43:03.104728Z"
    }
   },
   "outputs": [],
   "source": [
    "cat_web = pd.read_csv('train_clas.csv')"
   ]
  },
  {
   "cell_type": "code",
   "execution_count": 302,
   "metadata": {
    "ExecuteTime": {
     "end_time": "2018-05-12T22:45:16.017645Z",
     "start_time": "2018-05-12T22:45:15.993777Z"
    }
   },
   "outputs": [],
   "source": [
    "cat_web['Cover_Type'] = cat_web['Cover_Type'].apply(str)\n",
    "cat_web['Wilderness_Area'] = cat_web['Wilderness_Area'].apply(str)\n",
    "cat_web['Soil_Type'] = cat_web['Soil_Type'].apply(str)"
   ]
  },
  {
   "cell_type": "code",
   "execution_count": 339,
   "metadata": {
    "ExecuteTime": {
     "end_time": "2018-05-12T23:33:46.625080Z",
     "start_time": "2018-05-12T23:33:46.621571Z"
    }
   },
   "outputs": [],
   "source": [
    "# #Model that can be run in the webapp. but I saved a model, so I don't need this currently\n",
    "# cat_web = pd.read_csv('train_clas.csv')\n",
    "# cat_web['Cover_Type'] = cat_web['Cover_Type'].apply(str)\n",
    "# cat_web['Wilderness_Area'] = cat_web['Wilderness_Area'].apply(str)\n",
    "# cat_web['Soil_Type'] = cat_web['Soil_Type'].apply(str)\n",
    "# X_cat = cat_web.drop(['Cover_Type', 'Unnamed: 0'],1)\n",
    "# y_cat = cat_web['Cover_Type']\n",
    "# y_cat = [int(x) for x in y_cat]\n",
    "# y_cat = [str(x-1) for x in y_cat]\n",
    "# cat_feat = np.where(X_train_cat.dtypes != np.int64)[0]\n",
    "# cat_pool = Pool(data = X_cat, label = y_cat, cat_features=cat_feat)\n",
    "# cat_tree_model = CatBoostClassifier(iterations=200, depth=10, learning_rate=.3, loss_function='MultiClass')\n",
    "# cat_tree_model.fit(cat_pool)"
   ]
  },
  {
   "cell_type": "code",
   "execution_count": 323,
   "metadata": {
    "ExecuteTime": {
     "end_time": "2018-05-12T23:21:23.853777Z",
     "start_time": "2018-05-12T23:21:23.806256Z"
    }
   },
   "outputs": [],
   "source": [
    "cat_tree_model.save_model('cat_model', format='cbm')"
   ]
  },
  {
   "cell_type": "code",
   "execution_count": 331,
   "metadata": {
    "ExecuteTime": {
     "end_time": "2018-05-12T23:26:30.365447Z",
     "start_time": "2018-05-12T23:26:30.363012Z"
    }
   },
   "outputs": [],
   "source": [
    "import pickle"
   ]
  },
  {
   "cell_type": "code",
   "execution_count": 332,
   "metadata": {
    "ExecuteTime": {
     "end_time": "2018-05-12T23:27:12.614233Z",
     "start_time": "2018-05-12T23:27:12.562052Z"
    }
   },
   "outputs": [],
   "source": [
    "pickle.dump(cat_tree_model, open('cat_model.model', 'wb'))"
   ]
  },
  {
   "cell_type": "code",
   "execution_count": 334,
   "metadata": {
    "ExecuteTime": {
     "end_time": "2018-05-12T23:28:17.247544Z",
     "start_time": "2018-05-12T23:28:17.218954Z"
    }
   },
   "outputs": [],
   "source": [
    "loaded = pickle.load(open('cat_model.model', 'rb'))"
   ]
  },
  {
   "cell_type": "code",
   "execution_count": 319,
   "metadata": {
    "ExecuteTime": {
     "end_time": "2018-05-12T23:10:11.669289Z",
     "start_time": "2018-05-12T23:10:11.536550Z"
    }
   },
   "outputs": [
    {
     "data": {
      "text/plain": [
       "<matplotlib.axes._subplots.AxesSubplot at 0x10d33c128>"
      ]
     },
     "execution_count": 319,
     "metadata": {},
     "output_type": "execute_result"
    },
    {
     "data": {
      "image/svg+xml": [
       "<?xml version=\"1.0\" encoding=\"utf-8\" standalone=\"no\"?>\n",
       "<!DOCTYPE svg PUBLIC \"-//W3C//DTD SVG 1.1//EN\"\n",
       "  \"http://www.w3.org/Graphics/SVG/1.1/DTD/svg11.dtd\">\n",
       "<!-- Created with matplotlib (http://matplotlib.org/) -->\n",
       "<svg height=\"252.018125pt\" version=\"1.1\" viewBox=\"0 0 372.425 252.018125\" width=\"372.425pt\" xmlns=\"http://www.w3.org/2000/svg\" xmlns:xlink=\"http://www.w3.org/1999/xlink\">\n",
       " <defs>\n",
       "  <style type=\"text/css\">\n",
       "*{stroke-linecap:butt;stroke-linejoin:round;}\n",
       "  </style>\n",
       " </defs>\n",
       " <g id=\"figure_1\">\n",
       "  <g id=\"patch_1\">\n",
       "   <path d=\"M -0 252.018125 \n",
       "L 372.425 252.018125 \n",
       "L 372.425 0 \n",
       "L -0 0 \n",
       "z\n",
       "\" style=\"fill:none;\"/>\n",
       "  </g>\n",
       "  <g id=\"axes_1\">\n",
       "   <g id=\"patch_2\">\n",
       "    <path d=\"M 26.925 228.14 \n",
       "L 361.725 228.14 \n",
       "L 361.725 10.7 \n",
       "L 26.925 10.7 \n",
       "z\n",
       "\" style=\"fill:#ffffff;\"/>\n",
       "   </g>\n",
       "   <g id=\"patch_3\">\n",
       "    <path clip-path=\"url(#pf972532627)\" d=\"M 31.707857 228.14 \n",
       "L 69.970714 228.14 \n",
       "L 69.970714 182.061372 \n",
       "L 31.707857 182.061372 \n",
       "z\n",
       "\" style=\"fill:#3274a1;\"/>\n",
       "   </g>\n",
       "   <g id=\"patch_4\">\n",
       "    <path clip-path=\"url(#pf972532627)\" d=\"M 79.536429 228.14 \n",
       "L 117.799286 228.14 \n",
       "L 117.799286 21.054286 \n",
       "L 79.536429 21.054286 \n",
       "z\n",
       "\" style=\"fill:#e1812c;\"/>\n",
       "   </g>\n",
       "   <g id=\"patch_5\">\n",
       "    <path clip-path=\"url(#pf972532627)\" d=\"M 127.365 228.14 \n",
       "L 165.627857 228.14 \n",
       "L 165.627857 228.097348 \n",
       "L 127.365 228.097348 \n",
       "z\n",
       "\" style=\"fill:#3a923a;\"/>\n",
       "   </g>\n",
       "   <g id=\"patch_6\">\n",
       "    <path clip-path=\"url(#pf972532627)\" d=\"M 175.193571 228.14 \n",
       "L 213.456429 228.14 \n",
       "L 213.456429 228.13104 \n",
       "L 175.193571 228.13104 \n",
       "z\n",
       "\" style=\"fill:#c03d3e;\"/>\n",
       "   </g>\n",
       "   <g id=\"patch_7\">\n",
       "    <path clip-path=\"url(#pf972532627)\" d=\"M 223.022143 228.14 \n",
       "L 261.285 228.14 \n",
       "L 261.285 227.940335 \n",
       "L 223.022143 227.940335 \n",
       "z\n",
       "\" style=\"fill:#9372b2;\"/>\n",
       "   </g>\n",
       "   <g id=\"patch_8\">\n",
       "    <path clip-path=\"url(#pf972532627)\" d=\"M 270.850714 228.14 \n",
       "L 309.113571 228.14 \n",
       "L 309.113571 228.082683 \n",
       "L 270.850714 228.082683 \n",
       "z\n",
       "\" style=\"fill:#845b53;\"/>\n",
       "   </g>\n",
       "   <g id=\"patch_9\">\n",
       "    <path clip-path=\"url(#pf972532627)\" d=\"M 318.679286 228.14 \n",
       "L 356.942143 228.14 \n",
       "L 356.942143 228.116227 \n",
       "L 318.679286 228.116227 \n",
       "z\n",
       "\" style=\"fill:#d684bd;\"/>\n",
       "   </g>\n",
       "   <g id=\"matplotlib.axis_1\">\n",
       "    <g id=\"xtick_1\">\n",
       "     <g id=\"line2d_1\">\n",
       "      <defs>\n",
       "       <path d=\"M 0 0 \n",
       "L 0 3.5 \n",
       "\" id=\"m4d650f5b74\" style=\"stroke:#000000;stroke-width:0.8;\"/>\n",
       "      </defs>\n",
       "      <g>\n",
       "       <use style=\"stroke:#000000;stroke-width:0.8;\" x=\"50.839286\" xlink:href=\"#m4d650f5b74\" y=\"228.14\"/>\n",
       "      </g>\n",
       "     </g>\n",
       "     <g id=\"text_1\">\n",
       "      <!-- 0.0 -->\n",
       "      <defs>\n",
       "       <path d=\"M 31.78125 66.40625 \n",
       "Q 24.171875 66.40625 20.328125 58.90625 \n",
       "Q 16.5 51.421875 16.5 36.375 \n",
       "Q 16.5 21.390625 20.328125 13.890625 \n",
       "Q 24.171875 6.390625 31.78125 6.390625 \n",
       "Q 39.453125 6.390625 43.28125 13.890625 \n",
       "Q 47.125 21.390625 47.125 36.375 \n",
       "Q 47.125 51.421875 43.28125 58.90625 \n",
       "Q 39.453125 66.40625 31.78125 66.40625 \n",
       "z\n",
       "M 31.78125 74.21875 \n",
       "Q 44.046875 74.21875 50.515625 64.515625 \n",
       "Q 56.984375 54.828125 56.984375 36.375 \n",
       "Q 56.984375 17.96875 50.515625 8.265625 \n",
       "Q 44.046875 -1.421875 31.78125 -1.421875 \n",
       "Q 19.53125 -1.421875 13.0625 8.265625 \n",
       "Q 6.59375 17.96875 6.59375 36.375 \n",
       "Q 6.59375 54.828125 13.0625 64.515625 \n",
       "Q 19.53125 74.21875 31.78125 74.21875 \n",
       "z\n",
       "\" id=\"DejaVuSans-30\"/>\n",
       "       <path d=\"M 10.6875 12.40625 \n",
       "L 21 12.40625 \n",
       "L 21 0 \n",
       "L 10.6875 0 \n",
       "z\n",
       "\" id=\"DejaVuSans-2e\"/>\n",
       "      </defs>\n",
       "      <g transform=\"translate(42.887723 242.738437)scale(0.1 -0.1)\">\n",
       "       <use xlink:href=\"#DejaVuSans-30\"/>\n",
       "       <use x=\"63.623047\" xlink:href=\"#DejaVuSans-2e\"/>\n",
       "       <use x=\"95.410156\" xlink:href=\"#DejaVuSans-30\"/>\n",
       "      </g>\n",
       "     </g>\n",
       "    </g>\n",
       "    <g id=\"xtick_2\">\n",
       "     <g id=\"line2d_2\">\n",
       "      <g>\n",
       "       <use style=\"stroke:#000000;stroke-width:0.8;\" x=\"98.667857\" xlink:href=\"#m4d650f5b74\" y=\"228.14\"/>\n",
       "      </g>\n",
       "     </g>\n",
       "     <g id=\"text_2\">\n",
       "      <!-- 1.0 -->\n",
       "      <defs>\n",
       "       <path d=\"M 12.40625 8.296875 \n",
       "L 28.515625 8.296875 \n",
       "L 28.515625 63.921875 \n",
       "L 10.984375 60.40625 \n",
       "L 10.984375 69.390625 \n",
       "L 28.421875 72.90625 \n",
       "L 38.28125 72.90625 \n",
       "L 38.28125 8.296875 \n",
       "L 54.390625 8.296875 \n",
       "L 54.390625 0 \n",
       "L 12.40625 0 \n",
       "z\n",
       "\" id=\"DejaVuSans-31\"/>\n",
       "      </defs>\n",
       "      <g transform=\"translate(90.716295 242.738437)scale(0.1 -0.1)\">\n",
       "       <use xlink:href=\"#DejaVuSans-31\"/>\n",
       "       <use x=\"63.623047\" xlink:href=\"#DejaVuSans-2e\"/>\n",
       "       <use x=\"95.410156\" xlink:href=\"#DejaVuSans-30\"/>\n",
       "      </g>\n",
       "     </g>\n",
       "    </g>\n",
       "    <g id=\"xtick_3\">\n",
       "     <g id=\"line2d_3\">\n",
       "      <g>\n",
       "       <use style=\"stroke:#000000;stroke-width:0.8;\" x=\"146.496429\" xlink:href=\"#m4d650f5b74\" y=\"228.14\"/>\n",
       "      </g>\n",
       "     </g>\n",
       "     <g id=\"text_3\">\n",
       "      <!-- 2.0 -->\n",
       "      <defs>\n",
       "       <path d=\"M 19.1875 8.296875 \n",
       "L 53.609375 8.296875 \n",
       "L 53.609375 0 \n",
       "L 7.328125 0 \n",
       "L 7.328125 8.296875 \n",
       "Q 12.9375 14.109375 22.625 23.890625 \n",
       "Q 32.328125 33.6875 34.8125 36.53125 \n",
       "Q 39.546875 41.84375 41.421875 45.53125 \n",
       "Q 43.3125 49.21875 43.3125 52.78125 \n",
       "Q 43.3125 58.59375 39.234375 62.25 \n",
       "Q 35.15625 65.921875 28.609375 65.921875 \n",
       "Q 23.96875 65.921875 18.8125 64.3125 \n",
       "Q 13.671875 62.703125 7.8125 59.421875 \n",
       "L 7.8125 69.390625 \n",
       "Q 13.765625 71.78125 18.9375 73 \n",
       "Q 24.125 74.21875 28.421875 74.21875 \n",
       "Q 39.75 74.21875 46.484375 68.546875 \n",
       "Q 53.21875 62.890625 53.21875 53.421875 \n",
       "Q 53.21875 48.921875 51.53125 44.890625 \n",
       "Q 49.859375 40.875 45.40625 35.40625 \n",
       "Q 44.1875 33.984375 37.640625 27.21875 \n",
       "Q 31.109375 20.453125 19.1875 8.296875 \n",
       "z\n",
       "\" id=\"DejaVuSans-32\"/>\n",
       "      </defs>\n",
       "      <g transform=\"translate(138.544866 242.738437)scale(0.1 -0.1)\">\n",
       "       <use xlink:href=\"#DejaVuSans-32\"/>\n",
       "       <use x=\"63.623047\" xlink:href=\"#DejaVuSans-2e\"/>\n",
       "       <use x=\"95.410156\" xlink:href=\"#DejaVuSans-30\"/>\n",
       "      </g>\n",
       "     </g>\n",
       "    </g>\n",
       "    <g id=\"xtick_4\">\n",
       "     <g id=\"line2d_4\">\n",
       "      <g>\n",
       "       <use style=\"stroke:#000000;stroke-width:0.8;\" x=\"194.325\" xlink:href=\"#m4d650f5b74\" y=\"228.14\"/>\n",
       "      </g>\n",
       "     </g>\n",
       "     <g id=\"text_4\">\n",
       "      <!-- 3.0 -->\n",
       "      <defs>\n",
       "       <path d=\"M 40.578125 39.3125 \n",
       "Q 47.65625 37.796875 51.625 33 \n",
       "Q 55.609375 28.21875 55.609375 21.1875 \n",
       "Q 55.609375 10.40625 48.1875 4.484375 \n",
       "Q 40.765625 -1.421875 27.09375 -1.421875 \n",
       "Q 22.515625 -1.421875 17.65625 -0.515625 \n",
       "Q 12.796875 0.390625 7.625 2.203125 \n",
       "L 7.625 11.71875 \n",
       "Q 11.71875 9.328125 16.59375 8.109375 \n",
       "Q 21.484375 6.890625 26.8125 6.890625 \n",
       "Q 36.078125 6.890625 40.9375 10.546875 \n",
       "Q 45.796875 14.203125 45.796875 21.1875 \n",
       "Q 45.796875 27.640625 41.28125 31.265625 \n",
       "Q 36.765625 34.90625 28.71875 34.90625 \n",
       "L 20.21875 34.90625 \n",
       "L 20.21875 43.015625 \n",
       "L 29.109375 43.015625 \n",
       "Q 36.375 43.015625 40.234375 45.921875 \n",
       "Q 44.09375 48.828125 44.09375 54.296875 \n",
       "Q 44.09375 59.90625 40.109375 62.90625 \n",
       "Q 36.140625 65.921875 28.71875 65.921875 \n",
       "Q 24.65625 65.921875 20.015625 65.03125 \n",
       "Q 15.375 64.15625 9.8125 62.3125 \n",
       "L 9.8125 71.09375 \n",
       "Q 15.4375 72.65625 20.34375 73.4375 \n",
       "Q 25.25 74.21875 29.59375 74.21875 \n",
       "Q 40.828125 74.21875 47.359375 69.109375 \n",
       "Q 53.90625 64.015625 53.90625 55.328125 \n",
       "Q 53.90625 49.265625 50.4375 45.09375 \n",
       "Q 46.96875 40.921875 40.578125 39.3125 \n",
       "z\n",
       "\" id=\"DejaVuSans-33\"/>\n",
       "      </defs>\n",
       "      <g transform=\"translate(186.373438 242.738437)scale(0.1 -0.1)\">\n",
       "       <use xlink:href=\"#DejaVuSans-33\"/>\n",
       "       <use x=\"63.623047\" xlink:href=\"#DejaVuSans-2e\"/>\n",
       "       <use x=\"95.410156\" xlink:href=\"#DejaVuSans-30\"/>\n",
       "      </g>\n",
       "     </g>\n",
       "    </g>\n",
       "    <g id=\"xtick_5\">\n",
       "     <g id=\"line2d_5\">\n",
       "      <g>\n",
       "       <use style=\"stroke:#000000;stroke-width:0.8;\" x=\"242.153571\" xlink:href=\"#m4d650f5b74\" y=\"228.14\"/>\n",
       "      </g>\n",
       "     </g>\n",
       "     <g id=\"text_5\">\n",
       "      <!-- 4.0 -->\n",
       "      <defs>\n",
       "       <path d=\"M 37.796875 64.3125 \n",
       "L 12.890625 25.390625 \n",
       "L 37.796875 25.390625 \n",
       "z\n",
       "M 35.203125 72.90625 \n",
       "L 47.609375 72.90625 \n",
       "L 47.609375 25.390625 \n",
       "L 58.015625 25.390625 \n",
       "L 58.015625 17.1875 \n",
       "L 47.609375 17.1875 \n",
       "L 47.609375 0 \n",
       "L 37.796875 0 \n",
       "L 37.796875 17.1875 \n",
       "L 4.890625 17.1875 \n",
       "L 4.890625 26.703125 \n",
       "z\n",
       "\" id=\"DejaVuSans-34\"/>\n",
       "      </defs>\n",
       "      <g transform=\"translate(234.202009 242.738437)scale(0.1 -0.1)\">\n",
       "       <use xlink:href=\"#DejaVuSans-34\"/>\n",
       "       <use x=\"63.623047\" xlink:href=\"#DejaVuSans-2e\"/>\n",
       "       <use x=\"95.410156\" xlink:href=\"#DejaVuSans-30\"/>\n",
       "      </g>\n",
       "     </g>\n",
       "    </g>\n",
       "    <g id=\"xtick_6\">\n",
       "     <g id=\"line2d_6\">\n",
       "      <g>\n",
       "       <use style=\"stroke:#000000;stroke-width:0.8;\" x=\"289.982143\" xlink:href=\"#m4d650f5b74\" y=\"228.14\"/>\n",
       "      </g>\n",
       "     </g>\n",
       "     <g id=\"text_6\">\n",
       "      <!-- 5.0 -->\n",
       "      <defs>\n",
       "       <path d=\"M 10.796875 72.90625 \n",
       "L 49.515625 72.90625 \n",
       "L 49.515625 64.59375 \n",
       "L 19.828125 64.59375 \n",
       "L 19.828125 46.734375 \n",
       "Q 21.96875 47.46875 24.109375 47.828125 \n",
       "Q 26.265625 48.1875 28.421875 48.1875 \n",
       "Q 40.625 48.1875 47.75 41.5 \n",
       "Q 54.890625 34.8125 54.890625 23.390625 \n",
       "Q 54.890625 11.625 47.5625 5.09375 \n",
       "Q 40.234375 -1.421875 26.90625 -1.421875 \n",
       "Q 22.3125 -1.421875 17.546875 -0.640625 \n",
       "Q 12.796875 0.140625 7.71875 1.703125 \n",
       "L 7.71875 11.625 \n",
       "Q 12.109375 9.234375 16.796875 8.0625 \n",
       "Q 21.484375 6.890625 26.703125 6.890625 \n",
       "Q 35.15625 6.890625 40.078125 11.328125 \n",
       "Q 45.015625 15.765625 45.015625 23.390625 \n",
       "Q 45.015625 31 40.078125 35.4375 \n",
       "Q 35.15625 39.890625 26.703125 39.890625 \n",
       "Q 22.75 39.890625 18.8125 39.015625 \n",
       "Q 14.890625 38.140625 10.796875 36.28125 \n",
       "z\n",
       "\" id=\"DejaVuSans-35\"/>\n",
       "      </defs>\n",
       "      <g transform=\"translate(282.03058 242.738437)scale(0.1 -0.1)\">\n",
       "       <use xlink:href=\"#DejaVuSans-35\"/>\n",
       "       <use x=\"63.623047\" xlink:href=\"#DejaVuSans-2e\"/>\n",
       "       <use x=\"95.410156\" xlink:href=\"#DejaVuSans-30\"/>\n",
       "      </g>\n",
       "     </g>\n",
       "    </g>\n",
       "    <g id=\"xtick_7\">\n",
       "     <g id=\"line2d_7\">\n",
       "      <g>\n",
       "       <use style=\"stroke:#000000;stroke-width:0.8;\" x=\"337.810714\" xlink:href=\"#m4d650f5b74\" y=\"228.14\"/>\n",
       "      </g>\n",
       "     </g>\n",
       "     <g id=\"text_7\">\n",
       "      <!-- 6.0 -->\n",
       "      <defs>\n",
       "       <path d=\"M 33.015625 40.375 \n",
       "Q 26.375 40.375 22.484375 35.828125 \n",
       "Q 18.609375 31.296875 18.609375 23.390625 \n",
       "Q 18.609375 15.53125 22.484375 10.953125 \n",
       "Q 26.375 6.390625 33.015625 6.390625 \n",
       "Q 39.65625 6.390625 43.53125 10.953125 \n",
       "Q 47.40625 15.53125 47.40625 23.390625 \n",
       "Q 47.40625 31.296875 43.53125 35.828125 \n",
       "Q 39.65625 40.375 33.015625 40.375 \n",
       "z\n",
       "M 52.59375 71.296875 \n",
       "L 52.59375 62.3125 \n",
       "Q 48.875 64.0625 45.09375 64.984375 \n",
       "Q 41.3125 65.921875 37.59375 65.921875 \n",
       "Q 27.828125 65.921875 22.671875 59.328125 \n",
       "Q 17.53125 52.734375 16.796875 39.40625 \n",
       "Q 19.671875 43.65625 24.015625 45.921875 \n",
       "Q 28.375 48.1875 33.59375 48.1875 \n",
       "Q 44.578125 48.1875 50.953125 41.515625 \n",
       "Q 57.328125 34.859375 57.328125 23.390625 \n",
       "Q 57.328125 12.15625 50.6875 5.359375 \n",
       "Q 44.046875 -1.421875 33.015625 -1.421875 \n",
       "Q 20.359375 -1.421875 13.671875 8.265625 \n",
       "Q 6.984375 17.96875 6.984375 36.375 \n",
       "Q 6.984375 53.65625 15.1875 63.9375 \n",
       "Q 23.390625 74.21875 37.203125 74.21875 \n",
       "Q 40.921875 74.21875 44.703125 73.484375 \n",
       "Q 48.484375 72.75 52.59375 71.296875 \n",
       "z\n",
       "\" id=\"DejaVuSans-36\"/>\n",
       "      </defs>\n",
       "      <g transform=\"translate(329.859152 242.738437)scale(0.1 -0.1)\">\n",
       "       <use xlink:href=\"#DejaVuSans-36\"/>\n",
       "       <use x=\"63.623047\" xlink:href=\"#DejaVuSans-2e\"/>\n",
       "       <use x=\"95.410156\" xlink:href=\"#DejaVuSans-30\"/>\n",
       "      </g>\n",
       "     </g>\n",
       "    </g>\n",
       "   </g>\n",
       "   <g id=\"matplotlib.axis_2\">\n",
       "    <g id=\"ytick_1\">\n",
       "     <g id=\"line2d_8\">\n",
       "      <defs>\n",
       "       <path d=\"M 0 0 \n",
       "L -3.5 0 \n",
       "\" id=\"m99d43f095c\" style=\"stroke:#000000;stroke-width:0.8;\"/>\n",
       "      </defs>\n",
       "      <g>\n",
       "       <use style=\"stroke:#000000;stroke-width:0.8;\" x=\"26.925\" xlink:href=\"#m99d43f095c\" y=\"228.14\"/>\n",
       "      </g>\n",
       "     </g>\n",
       "     <g id=\"text_8\">\n",
       "      <!-- 0 -->\n",
       "      <g transform=\"translate(13.5625 231.939219)scale(0.1 -0.1)\">\n",
       "       <use xlink:href=\"#DejaVuSans-30\"/>\n",
       "      </g>\n",
       "     </g>\n",
       "    </g>\n",
       "    <g id=\"ytick_2\">\n",
       "     <g id=\"line2d_9\">\n",
       "      <g>\n",
       "       <use style=\"stroke:#000000;stroke-width:0.8;\" x=\"26.925\" xlink:href=\"#m99d43f095c\" y=\"202.790329\"/>\n",
       "      </g>\n",
       "     </g>\n",
       "     <g id=\"text_9\">\n",
       "      <!-- 10 -->\n",
       "      <g transform=\"translate(7.2 206.589548)scale(0.1 -0.1)\">\n",
       "       <use xlink:href=\"#DejaVuSans-31\"/>\n",
       "       <use x=\"63.623047\" xlink:href=\"#DejaVuSans-30\"/>\n",
       "      </g>\n",
       "     </g>\n",
       "    </g>\n",
       "    <g id=\"ytick_3\">\n",
       "     <g id=\"line2d_10\">\n",
       "      <g>\n",
       "       <use style=\"stroke:#000000;stroke-width:0.8;\" x=\"26.925\" xlink:href=\"#m99d43f095c\" y=\"177.440658\"/>\n",
       "      </g>\n",
       "     </g>\n",
       "     <g id=\"text_10\">\n",
       "      <!-- 20 -->\n",
       "      <g transform=\"translate(7.2 181.239877)scale(0.1 -0.1)\">\n",
       "       <use xlink:href=\"#DejaVuSans-32\"/>\n",
       "       <use x=\"63.623047\" xlink:href=\"#DejaVuSans-30\"/>\n",
       "      </g>\n",
       "     </g>\n",
       "    </g>\n",
       "    <g id=\"ytick_4\">\n",
       "     <g id=\"line2d_11\">\n",
       "      <g>\n",
       "       <use style=\"stroke:#000000;stroke-width:0.8;\" x=\"26.925\" xlink:href=\"#m99d43f095c\" y=\"152.090987\"/>\n",
       "      </g>\n",
       "     </g>\n",
       "     <g id=\"text_11\">\n",
       "      <!-- 30 -->\n",
       "      <g transform=\"translate(7.2 155.890206)scale(0.1 -0.1)\">\n",
       "       <use xlink:href=\"#DejaVuSans-33\"/>\n",
       "       <use x=\"63.623047\" xlink:href=\"#DejaVuSans-30\"/>\n",
       "      </g>\n",
       "     </g>\n",
       "    </g>\n",
       "    <g id=\"ytick_5\">\n",
       "     <g id=\"line2d_12\">\n",
       "      <g>\n",
       "       <use style=\"stroke:#000000;stroke-width:0.8;\" x=\"26.925\" xlink:href=\"#m99d43f095c\" y=\"126.741316\"/>\n",
       "      </g>\n",
       "     </g>\n",
       "     <g id=\"text_12\">\n",
       "      <!-- 40 -->\n",
       "      <g transform=\"translate(7.2 130.540535)scale(0.1 -0.1)\">\n",
       "       <use xlink:href=\"#DejaVuSans-34\"/>\n",
       "       <use x=\"63.623047\" xlink:href=\"#DejaVuSans-30\"/>\n",
       "      </g>\n",
       "     </g>\n",
       "    </g>\n",
       "    <g id=\"ytick_6\">\n",
       "     <g id=\"line2d_13\">\n",
       "      <g>\n",
       "       <use style=\"stroke:#000000;stroke-width:0.8;\" x=\"26.925\" xlink:href=\"#m99d43f095c\" y=\"101.391645\"/>\n",
       "      </g>\n",
       "     </g>\n",
       "     <g id=\"text_13\">\n",
       "      <!-- 50 -->\n",
       "      <g transform=\"translate(7.2 105.190864)scale(0.1 -0.1)\">\n",
       "       <use xlink:href=\"#DejaVuSans-35\"/>\n",
       "       <use x=\"63.623047\" xlink:href=\"#DejaVuSans-30\"/>\n",
       "      </g>\n",
       "     </g>\n",
       "    </g>\n",
       "    <g id=\"ytick_7\">\n",
       "     <g id=\"line2d_14\">\n",
       "      <g>\n",
       "       <use style=\"stroke:#000000;stroke-width:0.8;\" x=\"26.925\" xlink:href=\"#m99d43f095c\" y=\"76.041974\"/>\n",
       "      </g>\n",
       "     </g>\n",
       "     <g id=\"text_14\">\n",
       "      <!-- 60 -->\n",
       "      <g transform=\"translate(7.2 79.841193)scale(0.1 -0.1)\">\n",
       "       <use xlink:href=\"#DejaVuSans-36\"/>\n",
       "       <use x=\"63.623047\" xlink:href=\"#DejaVuSans-30\"/>\n",
       "      </g>\n",
       "     </g>\n",
       "    </g>\n",
       "    <g id=\"ytick_8\">\n",
       "     <g id=\"line2d_15\">\n",
       "      <g>\n",
       "       <use style=\"stroke:#000000;stroke-width:0.8;\" x=\"26.925\" xlink:href=\"#m99d43f095c\" y=\"50.692303\"/>\n",
       "      </g>\n",
       "     </g>\n",
       "     <g id=\"text_15\">\n",
       "      <!-- 70 -->\n",
       "      <defs>\n",
       "       <path d=\"M 8.203125 72.90625 \n",
       "L 55.078125 72.90625 \n",
       "L 55.078125 68.703125 \n",
       "L 28.609375 0 \n",
       "L 18.3125 0 \n",
       "L 43.21875 64.59375 \n",
       "L 8.203125 64.59375 \n",
       "z\n",
       "\" id=\"DejaVuSans-37\"/>\n",
       "      </defs>\n",
       "      <g transform=\"translate(7.2 54.491522)scale(0.1 -0.1)\">\n",
       "       <use xlink:href=\"#DejaVuSans-37\"/>\n",
       "       <use x=\"63.623047\" xlink:href=\"#DejaVuSans-30\"/>\n",
       "      </g>\n",
       "     </g>\n",
       "    </g>\n",
       "    <g id=\"ytick_9\">\n",
       "     <g id=\"line2d_16\">\n",
       "      <g>\n",
       "       <use style=\"stroke:#000000;stroke-width:0.8;\" x=\"26.925\" xlink:href=\"#m99d43f095c\" y=\"25.342632\"/>\n",
       "      </g>\n",
       "     </g>\n",
       "     <g id=\"text_16\">\n",
       "      <!-- 80 -->\n",
       "      <defs>\n",
       "       <path d=\"M 31.78125 34.625 \n",
       "Q 24.75 34.625 20.71875 30.859375 \n",
       "Q 16.703125 27.09375 16.703125 20.515625 \n",
       "Q 16.703125 13.921875 20.71875 10.15625 \n",
       "Q 24.75 6.390625 31.78125 6.390625 \n",
       "Q 38.8125 6.390625 42.859375 10.171875 \n",
       "Q 46.921875 13.96875 46.921875 20.515625 \n",
       "Q 46.921875 27.09375 42.890625 30.859375 \n",
       "Q 38.875 34.625 31.78125 34.625 \n",
       "z\n",
       "M 21.921875 38.8125 \n",
       "Q 15.578125 40.375 12.03125 44.71875 \n",
       "Q 8.5 49.078125 8.5 55.328125 \n",
       "Q 8.5 64.0625 14.71875 69.140625 \n",
       "Q 20.953125 74.21875 31.78125 74.21875 \n",
       "Q 42.671875 74.21875 48.875 69.140625 \n",
       "Q 55.078125 64.0625 55.078125 55.328125 \n",
       "Q 55.078125 49.078125 51.53125 44.71875 \n",
       "Q 48 40.375 41.703125 38.8125 \n",
       "Q 48.828125 37.15625 52.796875 32.3125 \n",
       "Q 56.78125 27.484375 56.78125 20.515625 \n",
       "Q 56.78125 9.90625 50.3125 4.234375 \n",
       "Q 43.84375 -1.421875 31.78125 -1.421875 \n",
       "Q 19.734375 -1.421875 13.25 4.234375 \n",
       "Q 6.78125 9.90625 6.78125 20.515625 \n",
       "Q 6.78125 27.484375 10.78125 32.3125 \n",
       "Q 14.796875 37.15625 21.921875 38.8125 \n",
       "z\n",
       "M 18.3125 54.390625 \n",
       "Q 18.3125 48.734375 21.84375 45.5625 \n",
       "Q 25.390625 42.390625 31.78125 42.390625 \n",
       "Q 38.140625 42.390625 41.71875 45.5625 \n",
       "Q 45.3125 48.734375 45.3125 54.390625 \n",
       "Q 45.3125 60.0625 41.71875 63.234375 \n",
       "Q 38.140625 66.40625 31.78125 66.40625 \n",
       "Q 25.390625 66.40625 21.84375 63.234375 \n",
       "Q 18.3125 60.0625 18.3125 54.390625 \n",
       "z\n",
       "\" id=\"DejaVuSans-38\"/>\n",
       "      </defs>\n",
       "      <g transform=\"translate(7.2 29.141851)scale(0.1 -0.1)\">\n",
       "       <use xlink:href=\"#DejaVuSans-38\"/>\n",
       "       <use x=\"63.623047\" xlink:href=\"#DejaVuSans-30\"/>\n",
       "      </g>\n",
       "     </g>\n",
       "    </g>\n",
       "   </g>\n",
       "   <g id=\"line2d_17\">\n",
       "    <path clip-path=\"url(#pf972532627)\" d=\"M 0 0 \n",
       "\" style=\"fill:none;stroke:#424242;stroke-linecap:square;stroke-width:2.7;\"/>\n",
       "   </g>\n",
       "   <g id=\"line2d_18\">\n",
       "    <path clip-path=\"url(#pf972532627)\" d=\"M 0 0 \n",
       "\" style=\"fill:none;stroke:#424242;stroke-linecap:square;stroke-width:2.7;\"/>\n",
       "   </g>\n",
       "   <g id=\"line2d_19\">\n",
       "    <path clip-path=\"url(#pf972532627)\" d=\"M 0 0 \n",
       "\" style=\"fill:none;stroke:#424242;stroke-linecap:square;stroke-width:2.7;\"/>\n",
       "   </g>\n",
       "   <g id=\"line2d_20\">\n",
       "    <path clip-path=\"url(#pf972532627)\" d=\"M 0 0 \n",
       "\" style=\"fill:none;stroke:#424242;stroke-linecap:square;stroke-width:2.7;\"/>\n",
       "   </g>\n",
       "   <g id=\"line2d_21\">\n",
       "    <path clip-path=\"url(#pf972532627)\" d=\"M 0 0 \n",
       "\" style=\"fill:none;stroke:#424242;stroke-linecap:square;stroke-width:2.7;\"/>\n",
       "   </g>\n",
       "   <g id=\"line2d_22\">\n",
       "    <path clip-path=\"url(#pf972532627)\" d=\"M 0 0 \n",
       "\" style=\"fill:none;stroke:#424242;stroke-linecap:square;stroke-width:2.7;\"/>\n",
       "   </g>\n",
       "   <g id=\"line2d_23\">\n",
       "    <path clip-path=\"url(#pf972532627)\" d=\"M 0 0 \n",
       "\" style=\"fill:none;stroke:#424242;stroke-linecap:square;stroke-width:2.7;\"/>\n",
       "   </g>\n",
       "   <g id=\"patch_10\">\n",
       "    <path d=\"M 26.925 228.14 \n",
       "L 26.925 10.7 \n",
       "\" style=\"fill:none;stroke:#000000;stroke-linecap:square;stroke-linejoin:miter;stroke-width:0.8;\"/>\n",
       "   </g>\n",
       "   <g id=\"patch_11\">\n",
       "    <path d=\"M 361.725 228.14 \n",
       "L 361.725 10.7 \n",
       "\" style=\"fill:none;stroke:#000000;stroke-linecap:square;stroke-linejoin:miter;stroke-width:0.8;\"/>\n",
       "   </g>\n",
       "   <g id=\"patch_12\">\n",
       "    <path d=\"M 26.925 228.14 \n",
       "L 361.725 228.14 \n",
       "\" style=\"fill:none;stroke:#000000;stroke-linecap:square;stroke-linejoin:miter;stroke-width:0.8;\"/>\n",
       "   </g>\n",
       "   <g id=\"patch_13\">\n",
       "    <path d=\"M 26.925 10.7 \n",
       "L 361.725 10.7 \n",
       "\" style=\"fill:none;stroke:#000000;stroke-linecap:square;stroke-linejoin:miter;stroke-width:0.8;\"/>\n",
       "   </g>\n",
       "  </g>\n",
       " </g>\n",
       " <defs>\n",
       "  <clipPath id=\"pf972532627\">\n",
       "   <rect height=\"217.44\" width=\"334.8\" x=\"26.925\" y=\"10.7\"/>\n",
       "  </clipPath>\n",
       " </defs>\n",
       "</svg>\n"
      ],
      "text/plain": [
       "<Figure size 432x288 with 1 Axes>"
      ]
     },
     "metadata": {},
     "output_type": "display_data"
    }
   ],
   "source": [
    "cols_to_use = X_cat.columns\n",
    "data = [[2804,139,9,268,65,3180,234,238,135,6121,1,12]]\n",
    "data_df = pd.DataFrame(data, columns=cols_to_use)\n",
    "for_flask_app1, for_flask_app2 = cat_tree_model.classes_, (cat_tree_model.predict_proba(data_df)*100).flatten()\n",
    "sns.barplot(x=for_flask_app1, y=for_flask_app2)"
   ]
  },
  {
   "cell_type": "code",
   "execution_count": 338,
   "metadata": {
    "ExecuteTime": {
     "end_time": "2018-05-12T23:28:55.742658Z",
     "start_time": "2018-05-12T23:28:55.629336Z"
    }
   },
   "outputs": [
    {
     "data": {
      "text/plain": [
       "<matplotlib.axes._subplots.AxesSubplot at 0x1a24454d30>"
      ]
     },
     "execution_count": 338,
     "metadata": {},
     "output_type": "execute_result"
    },
    {
     "data": {
      "image/svg+xml": [
       "<?xml version=\"1.0\" encoding=\"utf-8\" standalone=\"no\"?>\n",
       "<!DOCTYPE svg PUBLIC \"-//W3C//DTD SVG 1.1//EN\"\n",
       "  \"http://www.w3.org/Graphics/SVG/1.1/DTD/svg11.dtd\">\n",
       "<!-- Created with matplotlib (http://matplotlib.org/) -->\n",
       "<svg height=\"252.018125pt\" version=\"1.1\" viewBox=\"0 0 372.425 252.018125\" width=\"372.425pt\" xmlns=\"http://www.w3.org/2000/svg\" xmlns:xlink=\"http://www.w3.org/1999/xlink\">\n",
       " <defs>\n",
       "  <style type=\"text/css\">\n",
       "*{stroke-linecap:butt;stroke-linejoin:round;}\n",
       "  </style>\n",
       " </defs>\n",
       " <g id=\"figure_1\">\n",
       "  <g id=\"patch_1\">\n",
       "   <path d=\"M -0 252.018125 \n",
       "L 372.425 252.018125 \n",
       "L 372.425 0 \n",
       "L -0 0 \n",
       "z\n",
       "\" style=\"fill:none;\"/>\n",
       "  </g>\n",
       "  <g id=\"axes_1\">\n",
       "   <g id=\"patch_2\">\n",
       "    <path d=\"M 26.925 228.14 \n",
       "L 361.725 228.14 \n",
       "L 361.725 10.7 \n",
       "L 26.925 10.7 \n",
       "z\n",
       "\" style=\"fill:#ffffff;\"/>\n",
       "   </g>\n",
       "   <g id=\"patch_3\">\n",
       "    <path clip-path=\"url(#pac00c2eca1)\" d=\"M 31.707857 228.14 \n",
       "L 69.970714 228.14 \n",
       "L 69.970714 177.151634 \n",
       "L 31.707857 177.151634 \n",
       "z\n",
       "\" style=\"fill:#3274a1;\"/>\n",
       "   </g>\n",
       "   <g id=\"patch_4\">\n",
       "    <path clip-path=\"url(#pac00c2eca1)\" d=\"M 79.536429 228.14 \n",
       "L 117.799286 228.14 \n",
       "L 117.799286 134.328003 \n",
       "L 79.536429 134.328003 \n",
       "z\n",
       "\" style=\"fill:#e1812c;\"/>\n",
       "   </g>\n",
       "   <g id=\"patch_5\">\n",
       "    <path clip-path=\"url(#pac00c2eca1)\" d=\"M 127.365 228.14 \n",
       "L 165.627857 228.14 \n",
       "L 165.627857 95.99196 \n",
       "L 127.365 95.99196 \n",
       "z\n",
       "\" style=\"fill:#3a923a;\"/>\n",
       "   </g>\n",
       "   <g id=\"patch_6\">\n",
       "    <path clip-path=\"url(#pac00c2eca1)\" d=\"M 175.193571 228.14 \n",
       "L 213.456429 228.14 \n",
       "L 213.456429 21.054286 \n",
       "L 175.193571 21.054286 \n",
       "z\n",
       "\" style=\"fill:#c03d3e;\"/>\n",
       "   </g>\n",
       "   <g id=\"patch_7\">\n",
       "    <path clip-path=\"url(#pac00c2eca1)\" d=\"M 223.022143 228.14 \n",
       "L 261.285 228.14 \n",
       "L 261.285 196.865156 \n",
       "L 223.022143 196.865156 \n",
       "z\n",
       "\" style=\"fill:#9372b2;\"/>\n",
       "   </g>\n",
       "   <g id=\"patch_8\">\n",
       "    <path clip-path=\"url(#pac00c2eca1)\" d=\"M 270.850714 228.14 \n",
       "L 309.113571 228.14 \n",
       "L 309.113571 99.412377 \n",
       "L 270.850714 99.412377 \n",
       "z\n",
       "\" style=\"fill:#845b53;\"/>\n",
       "   </g>\n",
       "   <g id=\"patch_9\">\n",
       "    <path clip-path=\"url(#pac00c2eca1)\" d=\"M 318.679286 228.14 \n",
       "L 356.942143 228.14 \n",
       "L 356.942143 217.659157 \n",
       "L 318.679286 217.659157 \n",
       "z\n",
       "\" style=\"fill:#d684bd;\"/>\n",
       "   </g>\n",
       "   <g id=\"matplotlib.axis_1\">\n",
       "    <g id=\"xtick_1\">\n",
       "     <g id=\"line2d_1\">\n",
       "      <defs>\n",
       "       <path d=\"M 0 0 \n",
       "L 0 3.5 \n",
       "\" id=\"md2728c884c\" style=\"stroke:#000000;stroke-width:0.8;\"/>\n",
       "      </defs>\n",
       "      <g>\n",
       "       <use style=\"stroke:#000000;stroke-width:0.8;\" x=\"50.839286\" xlink:href=\"#md2728c884c\" y=\"228.14\"/>\n",
       "      </g>\n",
       "     </g>\n",
       "     <g id=\"text_1\">\n",
       "      <!-- 0.0 -->\n",
       "      <defs>\n",
       "       <path d=\"M 31.78125 66.40625 \n",
       "Q 24.171875 66.40625 20.328125 58.90625 \n",
       "Q 16.5 51.421875 16.5 36.375 \n",
       "Q 16.5 21.390625 20.328125 13.890625 \n",
       "Q 24.171875 6.390625 31.78125 6.390625 \n",
       "Q 39.453125 6.390625 43.28125 13.890625 \n",
       "Q 47.125 21.390625 47.125 36.375 \n",
       "Q 47.125 51.421875 43.28125 58.90625 \n",
       "Q 39.453125 66.40625 31.78125 66.40625 \n",
       "z\n",
       "M 31.78125 74.21875 \n",
       "Q 44.046875 74.21875 50.515625 64.515625 \n",
       "Q 56.984375 54.828125 56.984375 36.375 \n",
       "Q 56.984375 17.96875 50.515625 8.265625 \n",
       "Q 44.046875 -1.421875 31.78125 -1.421875 \n",
       "Q 19.53125 -1.421875 13.0625 8.265625 \n",
       "Q 6.59375 17.96875 6.59375 36.375 \n",
       "Q 6.59375 54.828125 13.0625 64.515625 \n",
       "Q 19.53125 74.21875 31.78125 74.21875 \n",
       "z\n",
       "\" id=\"DejaVuSans-30\"/>\n",
       "       <path d=\"M 10.6875 12.40625 \n",
       "L 21 12.40625 \n",
       "L 21 0 \n",
       "L 10.6875 0 \n",
       "z\n",
       "\" id=\"DejaVuSans-2e\"/>\n",
       "      </defs>\n",
       "      <g transform=\"translate(42.887723 242.738437)scale(0.1 -0.1)\">\n",
       "       <use xlink:href=\"#DejaVuSans-30\"/>\n",
       "       <use x=\"63.623047\" xlink:href=\"#DejaVuSans-2e\"/>\n",
       "       <use x=\"95.410156\" xlink:href=\"#DejaVuSans-30\"/>\n",
       "      </g>\n",
       "     </g>\n",
       "    </g>\n",
       "    <g id=\"xtick_2\">\n",
       "     <g id=\"line2d_2\">\n",
       "      <g>\n",
       "       <use style=\"stroke:#000000;stroke-width:0.8;\" x=\"98.667857\" xlink:href=\"#md2728c884c\" y=\"228.14\"/>\n",
       "      </g>\n",
       "     </g>\n",
       "     <g id=\"text_2\">\n",
       "      <!-- 1.0 -->\n",
       "      <defs>\n",
       "       <path d=\"M 12.40625 8.296875 \n",
       "L 28.515625 8.296875 \n",
       "L 28.515625 63.921875 \n",
       "L 10.984375 60.40625 \n",
       "L 10.984375 69.390625 \n",
       "L 28.421875 72.90625 \n",
       "L 38.28125 72.90625 \n",
       "L 38.28125 8.296875 \n",
       "L 54.390625 8.296875 \n",
       "L 54.390625 0 \n",
       "L 12.40625 0 \n",
       "z\n",
       "\" id=\"DejaVuSans-31\"/>\n",
       "      </defs>\n",
       "      <g transform=\"translate(90.716295 242.738437)scale(0.1 -0.1)\">\n",
       "       <use xlink:href=\"#DejaVuSans-31\"/>\n",
       "       <use x=\"63.623047\" xlink:href=\"#DejaVuSans-2e\"/>\n",
       "       <use x=\"95.410156\" xlink:href=\"#DejaVuSans-30\"/>\n",
       "      </g>\n",
       "     </g>\n",
       "    </g>\n",
       "    <g id=\"xtick_3\">\n",
       "     <g id=\"line2d_3\">\n",
       "      <g>\n",
       "       <use style=\"stroke:#000000;stroke-width:0.8;\" x=\"146.496429\" xlink:href=\"#md2728c884c\" y=\"228.14\"/>\n",
       "      </g>\n",
       "     </g>\n",
       "     <g id=\"text_3\">\n",
       "      <!-- 2.0 -->\n",
       "      <defs>\n",
       "       <path d=\"M 19.1875 8.296875 \n",
       "L 53.609375 8.296875 \n",
       "L 53.609375 0 \n",
       "L 7.328125 0 \n",
       "L 7.328125 8.296875 \n",
       "Q 12.9375 14.109375 22.625 23.890625 \n",
       "Q 32.328125 33.6875 34.8125 36.53125 \n",
       "Q 39.546875 41.84375 41.421875 45.53125 \n",
       "Q 43.3125 49.21875 43.3125 52.78125 \n",
       "Q 43.3125 58.59375 39.234375 62.25 \n",
       "Q 35.15625 65.921875 28.609375 65.921875 \n",
       "Q 23.96875 65.921875 18.8125 64.3125 \n",
       "Q 13.671875 62.703125 7.8125 59.421875 \n",
       "L 7.8125 69.390625 \n",
       "Q 13.765625 71.78125 18.9375 73 \n",
       "Q 24.125 74.21875 28.421875 74.21875 \n",
       "Q 39.75 74.21875 46.484375 68.546875 \n",
       "Q 53.21875 62.890625 53.21875 53.421875 \n",
       "Q 53.21875 48.921875 51.53125 44.890625 \n",
       "Q 49.859375 40.875 45.40625 35.40625 \n",
       "Q 44.1875 33.984375 37.640625 27.21875 \n",
       "Q 31.109375 20.453125 19.1875 8.296875 \n",
       "z\n",
       "\" id=\"DejaVuSans-32\"/>\n",
       "      </defs>\n",
       "      <g transform=\"translate(138.544866 242.738437)scale(0.1 -0.1)\">\n",
       "       <use xlink:href=\"#DejaVuSans-32\"/>\n",
       "       <use x=\"63.623047\" xlink:href=\"#DejaVuSans-2e\"/>\n",
       "       <use x=\"95.410156\" xlink:href=\"#DejaVuSans-30\"/>\n",
       "      </g>\n",
       "     </g>\n",
       "    </g>\n",
       "    <g id=\"xtick_4\">\n",
       "     <g id=\"line2d_4\">\n",
       "      <g>\n",
       "       <use style=\"stroke:#000000;stroke-width:0.8;\" x=\"194.325\" xlink:href=\"#md2728c884c\" y=\"228.14\"/>\n",
       "      </g>\n",
       "     </g>\n",
       "     <g id=\"text_4\">\n",
       "      <!-- 3.0 -->\n",
       "      <defs>\n",
       "       <path d=\"M 40.578125 39.3125 \n",
       "Q 47.65625 37.796875 51.625 33 \n",
       "Q 55.609375 28.21875 55.609375 21.1875 \n",
       "Q 55.609375 10.40625 48.1875 4.484375 \n",
       "Q 40.765625 -1.421875 27.09375 -1.421875 \n",
       "Q 22.515625 -1.421875 17.65625 -0.515625 \n",
       "Q 12.796875 0.390625 7.625 2.203125 \n",
       "L 7.625 11.71875 \n",
       "Q 11.71875 9.328125 16.59375 8.109375 \n",
       "Q 21.484375 6.890625 26.8125 6.890625 \n",
       "Q 36.078125 6.890625 40.9375 10.546875 \n",
       "Q 45.796875 14.203125 45.796875 21.1875 \n",
       "Q 45.796875 27.640625 41.28125 31.265625 \n",
       "Q 36.765625 34.90625 28.71875 34.90625 \n",
       "L 20.21875 34.90625 \n",
       "L 20.21875 43.015625 \n",
       "L 29.109375 43.015625 \n",
       "Q 36.375 43.015625 40.234375 45.921875 \n",
       "Q 44.09375 48.828125 44.09375 54.296875 \n",
       "Q 44.09375 59.90625 40.109375 62.90625 \n",
       "Q 36.140625 65.921875 28.71875 65.921875 \n",
       "Q 24.65625 65.921875 20.015625 65.03125 \n",
       "Q 15.375 64.15625 9.8125 62.3125 \n",
       "L 9.8125 71.09375 \n",
       "Q 15.4375 72.65625 20.34375 73.4375 \n",
       "Q 25.25 74.21875 29.59375 74.21875 \n",
       "Q 40.828125 74.21875 47.359375 69.109375 \n",
       "Q 53.90625 64.015625 53.90625 55.328125 \n",
       "Q 53.90625 49.265625 50.4375 45.09375 \n",
       "Q 46.96875 40.921875 40.578125 39.3125 \n",
       "z\n",
       "\" id=\"DejaVuSans-33\"/>\n",
       "      </defs>\n",
       "      <g transform=\"translate(186.373438 242.738437)scale(0.1 -0.1)\">\n",
       "       <use xlink:href=\"#DejaVuSans-33\"/>\n",
       "       <use x=\"63.623047\" xlink:href=\"#DejaVuSans-2e\"/>\n",
       "       <use x=\"95.410156\" xlink:href=\"#DejaVuSans-30\"/>\n",
       "      </g>\n",
       "     </g>\n",
       "    </g>\n",
       "    <g id=\"xtick_5\">\n",
       "     <g id=\"line2d_5\">\n",
       "      <g>\n",
       "       <use style=\"stroke:#000000;stroke-width:0.8;\" x=\"242.153571\" xlink:href=\"#md2728c884c\" y=\"228.14\"/>\n",
       "      </g>\n",
       "     </g>\n",
       "     <g id=\"text_5\">\n",
       "      <!-- 4.0 -->\n",
       "      <defs>\n",
       "       <path d=\"M 37.796875 64.3125 \n",
       "L 12.890625 25.390625 \n",
       "L 37.796875 25.390625 \n",
       "z\n",
       "M 35.203125 72.90625 \n",
       "L 47.609375 72.90625 \n",
       "L 47.609375 25.390625 \n",
       "L 58.015625 25.390625 \n",
       "L 58.015625 17.1875 \n",
       "L 47.609375 17.1875 \n",
       "L 47.609375 0 \n",
       "L 37.796875 0 \n",
       "L 37.796875 17.1875 \n",
       "L 4.890625 17.1875 \n",
       "L 4.890625 26.703125 \n",
       "z\n",
       "\" id=\"DejaVuSans-34\"/>\n",
       "      </defs>\n",
       "      <g transform=\"translate(234.202009 242.738437)scale(0.1 -0.1)\">\n",
       "       <use xlink:href=\"#DejaVuSans-34\"/>\n",
       "       <use x=\"63.623047\" xlink:href=\"#DejaVuSans-2e\"/>\n",
       "       <use x=\"95.410156\" xlink:href=\"#DejaVuSans-30\"/>\n",
       "      </g>\n",
       "     </g>\n",
       "    </g>\n",
       "    <g id=\"xtick_6\">\n",
       "     <g id=\"line2d_6\">\n",
       "      <g>\n",
       "       <use style=\"stroke:#000000;stroke-width:0.8;\" x=\"289.982143\" xlink:href=\"#md2728c884c\" y=\"228.14\"/>\n",
       "      </g>\n",
       "     </g>\n",
       "     <g id=\"text_6\">\n",
       "      <!-- 5.0 -->\n",
       "      <defs>\n",
       "       <path d=\"M 10.796875 72.90625 \n",
       "L 49.515625 72.90625 \n",
       "L 49.515625 64.59375 \n",
       "L 19.828125 64.59375 \n",
       "L 19.828125 46.734375 \n",
       "Q 21.96875 47.46875 24.109375 47.828125 \n",
       "Q 26.265625 48.1875 28.421875 48.1875 \n",
       "Q 40.625 48.1875 47.75 41.5 \n",
       "Q 54.890625 34.8125 54.890625 23.390625 \n",
       "Q 54.890625 11.625 47.5625 5.09375 \n",
       "Q 40.234375 -1.421875 26.90625 -1.421875 \n",
       "Q 22.3125 -1.421875 17.546875 -0.640625 \n",
       "Q 12.796875 0.140625 7.71875 1.703125 \n",
       "L 7.71875 11.625 \n",
       "Q 12.109375 9.234375 16.796875 8.0625 \n",
       "Q 21.484375 6.890625 26.703125 6.890625 \n",
       "Q 35.15625 6.890625 40.078125 11.328125 \n",
       "Q 45.015625 15.765625 45.015625 23.390625 \n",
       "Q 45.015625 31 40.078125 35.4375 \n",
       "Q 35.15625 39.890625 26.703125 39.890625 \n",
       "Q 22.75 39.890625 18.8125 39.015625 \n",
       "Q 14.890625 38.140625 10.796875 36.28125 \n",
       "z\n",
       "\" id=\"DejaVuSans-35\"/>\n",
       "      </defs>\n",
       "      <g transform=\"translate(282.03058 242.738437)scale(0.1 -0.1)\">\n",
       "       <use xlink:href=\"#DejaVuSans-35\"/>\n",
       "       <use x=\"63.623047\" xlink:href=\"#DejaVuSans-2e\"/>\n",
       "       <use x=\"95.410156\" xlink:href=\"#DejaVuSans-30\"/>\n",
       "      </g>\n",
       "     </g>\n",
       "    </g>\n",
       "    <g id=\"xtick_7\">\n",
       "     <g id=\"line2d_7\">\n",
       "      <g>\n",
       "       <use style=\"stroke:#000000;stroke-width:0.8;\" x=\"337.810714\" xlink:href=\"#md2728c884c\" y=\"228.14\"/>\n",
       "      </g>\n",
       "     </g>\n",
       "     <g id=\"text_7\">\n",
       "      <!-- 6.0 -->\n",
       "      <defs>\n",
       "       <path d=\"M 33.015625 40.375 \n",
       "Q 26.375 40.375 22.484375 35.828125 \n",
       "Q 18.609375 31.296875 18.609375 23.390625 \n",
       "Q 18.609375 15.53125 22.484375 10.953125 \n",
       "Q 26.375 6.390625 33.015625 6.390625 \n",
       "Q 39.65625 6.390625 43.53125 10.953125 \n",
       "Q 47.40625 15.53125 47.40625 23.390625 \n",
       "Q 47.40625 31.296875 43.53125 35.828125 \n",
       "Q 39.65625 40.375 33.015625 40.375 \n",
       "z\n",
       "M 52.59375 71.296875 \n",
       "L 52.59375 62.3125 \n",
       "Q 48.875 64.0625 45.09375 64.984375 \n",
       "Q 41.3125 65.921875 37.59375 65.921875 \n",
       "Q 27.828125 65.921875 22.671875 59.328125 \n",
       "Q 17.53125 52.734375 16.796875 39.40625 \n",
       "Q 19.671875 43.65625 24.015625 45.921875 \n",
       "Q 28.375 48.1875 33.59375 48.1875 \n",
       "Q 44.578125 48.1875 50.953125 41.515625 \n",
       "Q 57.328125 34.859375 57.328125 23.390625 \n",
       "Q 57.328125 12.15625 50.6875 5.359375 \n",
       "Q 44.046875 -1.421875 33.015625 -1.421875 \n",
       "Q 20.359375 -1.421875 13.671875 8.265625 \n",
       "Q 6.984375 17.96875 6.984375 36.375 \n",
       "Q 6.984375 53.65625 15.1875 63.9375 \n",
       "Q 23.390625 74.21875 37.203125 74.21875 \n",
       "Q 40.921875 74.21875 44.703125 73.484375 \n",
       "Q 48.484375 72.75 52.59375 71.296875 \n",
       "z\n",
       "\" id=\"DejaVuSans-36\"/>\n",
       "      </defs>\n",
       "      <g transform=\"translate(329.859152 242.738437)scale(0.1 -0.1)\">\n",
       "       <use xlink:href=\"#DejaVuSans-36\"/>\n",
       "       <use x=\"63.623047\" xlink:href=\"#DejaVuSans-2e\"/>\n",
       "       <use x=\"95.410156\" xlink:href=\"#DejaVuSans-30\"/>\n",
       "      </g>\n",
       "     </g>\n",
       "    </g>\n",
       "   </g>\n",
       "   <g id=\"matplotlib.axis_2\">\n",
       "    <g id=\"ytick_1\">\n",
       "     <g id=\"line2d_8\">\n",
       "      <defs>\n",
       "       <path d=\"M 0 0 \n",
       "L -3.5 0 \n",
       "\" id=\"m768bac6ff0\" style=\"stroke:#000000;stroke-width:0.8;\"/>\n",
       "      </defs>\n",
       "      <g>\n",
       "       <use style=\"stroke:#000000;stroke-width:0.8;\" x=\"26.925\" xlink:href=\"#m768bac6ff0\" y=\"228.14\"/>\n",
       "      </g>\n",
       "     </g>\n",
       "     <g id=\"text_8\">\n",
       "      <!-- 0 -->\n",
       "      <g transform=\"translate(13.5625 231.939219)scale(0.1 -0.1)\">\n",
       "       <use xlink:href=\"#DejaVuSans-30\"/>\n",
       "      </g>\n",
       "     </g>\n",
       "    </g>\n",
       "    <g id=\"ytick_2\">\n",
       "     <g id=\"line2d_9\">\n",
       "      <g>\n",
       "       <use style=\"stroke:#000000;stroke-width:0.8;\" x=\"26.925\" xlink:href=\"#m768bac6ff0\" y=\"195.414129\"/>\n",
       "      </g>\n",
       "     </g>\n",
       "     <g id=\"text_9\">\n",
       "      <!-- 5 -->\n",
       "      <g transform=\"translate(13.5625 199.213347)scale(0.1 -0.1)\">\n",
       "       <use xlink:href=\"#DejaVuSans-35\"/>\n",
       "      </g>\n",
       "     </g>\n",
       "    </g>\n",
       "    <g id=\"ytick_3\">\n",
       "     <g id=\"line2d_10\">\n",
       "      <g>\n",
       "       <use style=\"stroke:#000000;stroke-width:0.8;\" x=\"26.925\" xlink:href=\"#m768bac6ff0\" y=\"162.688257\"/>\n",
       "      </g>\n",
       "     </g>\n",
       "     <g id=\"text_10\">\n",
       "      <!-- 10 -->\n",
       "      <g transform=\"translate(7.2 166.487476)scale(0.1 -0.1)\">\n",
       "       <use xlink:href=\"#DejaVuSans-31\"/>\n",
       "       <use x=\"63.623047\" xlink:href=\"#DejaVuSans-30\"/>\n",
       "      </g>\n",
       "     </g>\n",
       "    </g>\n",
       "    <g id=\"ytick_4\">\n",
       "     <g id=\"line2d_11\">\n",
       "      <g>\n",
       "       <use style=\"stroke:#000000;stroke-width:0.8;\" x=\"26.925\" xlink:href=\"#m768bac6ff0\" y=\"129.962386\"/>\n",
       "      </g>\n",
       "     </g>\n",
       "     <g id=\"text_11\">\n",
       "      <!-- 15 -->\n",
       "      <g transform=\"translate(7.2 133.761605)scale(0.1 -0.1)\">\n",
       "       <use xlink:href=\"#DejaVuSans-31\"/>\n",
       "       <use x=\"63.623047\" xlink:href=\"#DejaVuSans-35\"/>\n",
       "      </g>\n",
       "     </g>\n",
       "    </g>\n",
       "    <g id=\"ytick_5\">\n",
       "     <g id=\"line2d_12\">\n",
       "      <g>\n",
       "       <use style=\"stroke:#000000;stroke-width:0.8;\" x=\"26.925\" xlink:href=\"#m768bac6ff0\" y=\"97.236514\"/>\n",
       "      </g>\n",
       "     </g>\n",
       "     <g id=\"text_12\">\n",
       "      <!-- 20 -->\n",
       "      <g transform=\"translate(7.2 101.035733)scale(0.1 -0.1)\">\n",
       "       <use xlink:href=\"#DejaVuSans-32\"/>\n",
       "       <use x=\"63.623047\" xlink:href=\"#DejaVuSans-30\"/>\n",
       "      </g>\n",
       "     </g>\n",
       "    </g>\n",
       "    <g id=\"ytick_6\">\n",
       "     <g id=\"line2d_13\">\n",
       "      <g>\n",
       "       <use style=\"stroke:#000000;stroke-width:0.8;\" x=\"26.925\" xlink:href=\"#m768bac6ff0\" y=\"64.510643\"/>\n",
       "      </g>\n",
       "     </g>\n",
       "     <g id=\"text_13\">\n",
       "      <!-- 25 -->\n",
       "      <g transform=\"translate(7.2 68.309862)scale(0.1 -0.1)\">\n",
       "       <use xlink:href=\"#DejaVuSans-32\"/>\n",
       "       <use x=\"63.623047\" xlink:href=\"#DejaVuSans-35\"/>\n",
       "      </g>\n",
       "     </g>\n",
       "    </g>\n",
       "    <g id=\"ytick_7\">\n",
       "     <g id=\"line2d_14\">\n",
       "      <g>\n",
       "       <use style=\"stroke:#000000;stroke-width:0.8;\" x=\"26.925\" xlink:href=\"#m768bac6ff0\" y=\"31.784772\"/>\n",
       "      </g>\n",
       "     </g>\n",
       "     <g id=\"text_14\">\n",
       "      <!-- 30 -->\n",
       "      <g transform=\"translate(7.2 35.58399)scale(0.1 -0.1)\">\n",
       "       <use xlink:href=\"#DejaVuSans-33\"/>\n",
       "       <use x=\"63.623047\" xlink:href=\"#DejaVuSans-30\"/>\n",
       "      </g>\n",
       "     </g>\n",
       "    </g>\n",
       "   </g>\n",
       "   <g id=\"line2d_15\">\n",
       "    <path clip-path=\"url(#pac00c2eca1)\" d=\"M 0 0 \n",
       "\" style=\"fill:none;stroke:#424242;stroke-linecap:square;stroke-width:2.7;\"/>\n",
       "   </g>\n",
       "   <g id=\"line2d_16\">\n",
       "    <path clip-path=\"url(#pac00c2eca1)\" d=\"M 0 0 \n",
       "\" style=\"fill:none;stroke:#424242;stroke-linecap:square;stroke-width:2.7;\"/>\n",
       "   </g>\n",
       "   <g id=\"line2d_17\">\n",
       "    <path clip-path=\"url(#pac00c2eca1)\" d=\"M 0 0 \n",
       "\" style=\"fill:none;stroke:#424242;stroke-linecap:square;stroke-width:2.7;\"/>\n",
       "   </g>\n",
       "   <g id=\"line2d_18\">\n",
       "    <path clip-path=\"url(#pac00c2eca1)\" d=\"M 0 0 \n",
       "\" style=\"fill:none;stroke:#424242;stroke-linecap:square;stroke-width:2.7;\"/>\n",
       "   </g>\n",
       "   <g id=\"line2d_19\">\n",
       "    <path clip-path=\"url(#pac00c2eca1)\" d=\"M 0 0 \n",
       "\" style=\"fill:none;stroke:#424242;stroke-linecap:square;stroke-width:2.7;\"/>\n",
       "   </g>\n",
       "   <g id=\"line2d_20\">\n",
       "    <path clip-path=\"url(#pac00c2eca1)\" d=\"M 0 0 \n",
       "\" style=\"fill:none;stroke:#424242;stroke-linecap:square;stroke-width:2.7;\"/>\n",
       "   </g>\n",
       "   <g id=\"line2d_21\">\n",
       "    <path clip-path=\"url(#pac00c2eca1)\" d=\"M 0 0 \n",
       "\" style=\"fill:none;stroke:#424242;stroke-linecap:square;stroke-width:2.7;\"/>\n",
       "   </g>\n",
       "   <g id=\"patch_10\">\n",
       "    <path d=\"M 26.925 228.14 \n",
       "L 26.925 10.7 \n",
       "\" style=\"fill:none;stroke:#000000;stroke-linecap:square;stroke-linejoin:miter;stroke-width:0.8;\"/>\n",
       "   </g>\n",
       "   <g id=\"patch_11\">\n",
       "    <path d=\"M 361.725 228.14 \n",
       "L 361.725 10.7 \n",
       "\" style=\"fill:none;stroke:#000000;stroke-linecap:square;stroke-linejoin:miter;stroke-width:0.8;\"/>\n",
       "   </g>\n",
       "   <g id=\"patch_12\">\n",
       "    <path d=\"M 26.925 228.14 \n",
       "L 361.725 228.14 \n",
       "\" style=\"fill:none;stroke:#000000;stroke-linecap:square;stroke-linejoin:miter;stroke-width:0.8;\"/>\n",
       "   </g>\n",
       "   <g id=\"patch_13\">\n",
       "    <path d=\"M 26.925 10.7 \n",
       "L 361.725 10.7 \n",
       "\" style=\"fill:none;stroke:#000000;stroke-linecap:square;stroke-linejoin:miter;stroke-width:0.8;\"/>\n",
       "   </g>\n",
       "  </g>\n",
       " </g>\n",
       " <defs>\n",
       "  <clipPath id=\"pac00c2eca1\">\n",
       "   <rect height=\"217.44\" width=\"334.8\" x=\"26.925\" y=\"10.7\"/>\n",
       "  </clipPath>\n",
       " </defs>\n",
       "</svg>\n"
      ],
      "text/plain": [
       "<Figure size 432x288 with 1 Axes>"
      ]
     },
     "metadata": {},
     "output_type": "display_data"
    }
   ],
   "source": [
    "data = [[2200,139,9,268,65,3180,234,238,135,6121,3,12]]\n",
    "data_df = pd.DataFrame(data, columns=cols_to_use)\n",
    "for_flask_app1, for_flask_app2 = loaded.classes_, (loaded.predict_proba(data_df)*100).flatten()\n",
    "sns.barplot(x=for_flask_app1, y=for_flask_app2)"
   ]
  },
  {
   "cell_type": "code",
   "execution_count": 320,
   "metadata": {
    "ExecuteTime": {
     "end_time": "2018-05-12T23:19:22.084114Z",
     "start_time": "2018-05-12T23:19:22.080915Z"
    }
   },
   "outputs": [],
   "source": []
  },
  {
   "cell_type": "code",
   "execution_count": null,
   "metadata": {},
   "outputs": [],
   "source": []
  },
  {
   "cell_type": "code",
   "execution_count": 272,
   "metadata": {
    "ExecuteTime": {
     "end_time": "2018-05-12T22:36:17.503023Z",
     "start_time": "2018-05-12T22:36:17.500207Z"
    }
   },
   "outputs": [],
   "source": [
    "#end test for webbuild"
   ]
  },
  {
   "cell_type": "code",
   "execution_count": 120,
   "metadata": {
    "ExecuteTime": {
     "end_time": "2018-05-12T21:23:26.446251Z",
     "start_time": "2018-05-12T21:23:26.399984Z"
    }
   },
   "outputs": [],
   "source": [
    "#For use when testing on Kaggle data\n",
    "#cat_test_kaggle = test_clas.drop(['Id'],1)"
   ]
  },
  {
   "cell_type": "code",
   "execution_count": 139,
   "metadata": {
    "ExecuteTime": {
     "end_time": "2018-05-12T21:31:54.072358Z",
     "start_time": "2018-05-12T21:31:54.069233Z"
    }
   },
   "outputs": [],
   "source": [
    "cat_y = train_clas['Cover_Type']"
   ]
  },
  {
   "cell_type": "code",
   "execution_count": 148,
   "metadata": {
    "ExecuteTime": {
     "end_time": "2018-05-12T21:35:35.222390Z",
     "start_time": "2018-05-12T21:33:39.183560Z"
    }
   },
   "outputs": [
    {
     "name": "stdout",
     "output_type": "stream",
     "text": [
      "0:\tlearn: -1.3824768\ttest: -1.3738315\tbest: -1.3738315 (0)\ttotal: 599ms\tremaining: 1m 59s\n",
      "1:\tlearn: -1.1332167\ttest: -1.1314109\tbest: -1.1314109 (1)\ttotal: 1.18s\tremaining: 1m 56s\n",
      "2:\tlearn: -0.9857275\ttest: -0.9889688\tbest: -0.9889688 (2)\ttotal: 1.78s\tremaining: 1m 56s\n",
      "3:\tlearn: -0.8873564\ttest: -0.8934829\tbest: -0.8934829 (3)\ttotal: 2.35s\tremaining: 1m 55s\n",
      "4:\tlearn: -0.8226870\ttest: -0.8315243\tbest: -0.8315243 (4)\ttotal: 2.91s\tremaining: 1m 53s\n",
      "5:\tlearn: -0.7695684\ttest: -0.7814998\tbest: -0.7814998 (5)\ttotal: 3.49s\tremaining: 1m 52s\n",
      "6:\tlearn: -0.7262357\ttest: -0.7443971\tbest: -0.7443971 (6)\ttotal: 4.08s\tremaining: 1m 52s\n",
      "7:\tlearn: -0.7009924\ttest: -0.7199276\tbest: -0.7199276 (7)\ttotal: 4.24s\tremaining: 1m 41s\n",
      "8:\tlearn: -0.6727776\ttest: -0.6954092\tbest: -0.6954092 (8)\ttotal: 4.81s\tremaining: 1m 42s\n",
      "9:\tlearn: -0.6459270\ttest: -0.6719063\tbest: -0.6719063 (9)\ttotal: 5.38s\tremaining: 1m 42s\n",
      "10:\tlearn: -0.6296513\ttest: -0.6580325\tbest: -0.6580325 (10)\ttotal: 5.89s\tremaining: 1m 41s\n",
      "11:\tlearn: -0.6164862\ttest: -0.6476696\tbest: -0.6476696 (11)\ttotal: 6.14s\tremaining: 1m 36s\n",
      "12:\tlearn: -0.6077458\ttest: -0.6400952\tbest: -0.6400952 (12)\ttotal: 6.33s\tremaining: 1m 30s\n",
      "13:\tlearn: -0.5949751\ttest: -0.6298899\tbest: -0.6298899 (13)\ttotal: 6.91s\tremaining: 1m 31s\n",
      "14:\tlearn: -0.5784147\ttest: -0.6168051\tbest: -0.6168051 (14)\ttotal: 7.5s\tremaining: 1m 32s\n",
      "15:\tlearn: -0.5701473\ttest: -0.6095536\tbest: -0.6095536 (15)\ttotal: 7.63s\tremaining: 1m 27s\n",
      "16:\tlearn: -0.5652978\ttest: -0.6051622\tbest: -0.6051622 (16)\ttotal: 8.18s\tremaining: 1m 28s\n",
      "17:\tlearn: -0.5491397\ttest: -0.5924057\tbest: -0.5924057 (17)\ttotal: 8.8s\tremaining: 1m 29s\n",
      "18:\tlearn: -0.5480182\ttest: -0.5914608\tbest: -0.5914608 (18)\ttotal: 8.88s\tremaining: 1m 24s\n",
      "19:\tlearn: -0.5381909\ttest: -0.5832054\tbest: -0.5832054 (19)\ttotal: 9.48s\tremaining: 1m 25s\n",
      "20:\tlearn: -0.5356232\ttest: -0.5808767\tbest: -0.5808767 (20)\ttotal: 9.63s\tremaining: 1m 22s\n",
      "21:\tlearn: -0.5344280\ttest: -0.5798319\tbest: -0.5798319 (21)\ttotal: 9.73s\tremaining: 1m 18s\n",
      "22:\tlearn: -0.5288174\ttest: -0.5757066\tbest: -0.5757066 (22)\ttotal: 10.4s\tremaining: 1m 19s\n",
      "23:\tlearn: -0.5251113\ttest: -0.5717115\tbest: -0.5717115 (23)\ttotal: 10.5s\tremaining: 1m 17s\n",
      "24:\tlearn: -0.5206454\ttest: -0.5682955\tbest: -0.5682955 (24)\ttotal: 11.1s\tremaining: 1m 17s\n",
      "25:\tlearn: -0.5183123\ttest: -0.5658451\tbest: -0.5658451 (25)\ttotal: 11.3s\tremaining: 1m 15s\n",
      "26:\tlearn: -0.5091331\ttest: -0.5595883\tbest: -0.5595883 (26)\ttotal: 12s\tremaining: 1m 16s\n",
      "27:\tlearn: -0.5063099\ttest: -0.5581926\tbest: -0.5581926 (27)\ttotal: 12.5s\tremaining: 1m 16s\n",
      "28:\tlearn: -0.4969041\ttest: -0.5509074\tbest: -0.5509074 (28)\ttotal: 13.1s\tremaining: 1m 17s\n",
      "29:\tlearn: -0.4965142\ttest: -0.5507886\tbest: -0.5507886 (29)\ttotal: 13.2s\tremaining: 1m 14s\n",
      "30:\tlearn: -0.4885216\ttest: -0.5455671\tbest: -0.5455671 (30)\ttotal: 13.8s\tremaining: 1m 15s\n",
      "31:\tlearn: -0.4813220\ttest: -0.5401776\tbest: -0.5401776 (31)\ttotal: 14.4s\tremaining: 1m 15s\n",
      "32:\tlearn: -0.4738497\ttest: -0.5361882\tbest: -0.5361882 (32)\ttotal: 15s\tremaining: 1m 15s\n",
      "33:\tlearn: -0.4684888\ttest: -0.5337039\tbest: -0.5337039 (33)\ttotal: 15.6s\tremaining: 1m 16s\n",
      "34:\tlearn: -0.4586991\ttest: -0.5264690\tbest: -0.5264690 (34)\ttotal: 16.1s\tremaining: 1m 16s\n",
      "35:\tlearn: -0.4523301\ttest: -0.5222661\tbest: -0.5222661 (35)\ttotal: 16.7s\tremaining: 1m 16s\n",
      "36:\tlearn: -0.4400891\ttest: -0.5137254\tbest: -0.5137254 (36)\ttotal: 17.3s\tremaining: 1m 16s\n",
      "37:\tlearn: -0.4356393\ttest: -0.5112166\tbest: -0.5112166 (37)\ttotal: 17.9s\tremaining: 1m 16s\n",
      "38:\tlearn: -0.4293341\ttest: -0.5070084\tbest: -0.5070084 (38)\ttotal: 18.4s\tremaining: 1m 16s\n",
      "39:\tlearn: -0.4208596\ttest: -0.5011743\tbest: -0.5011743 (39)\ttotal: 19s\tremaining: 1m 16s\n",
      "40:\tlearn: -0.4143523\ttest: -0.4971947\tbest: -0.4971947 (40)\ttotal: 19.6s\tremaining: 1m 15s\n",
      "41:\tlearn: -0.4076031\ttest: -0.4929246\tbest: -0.4929246 (41)\ttotal: 20.2s\tremaining: 1m 15s\n",
      "42:\tlearn: -0.3990398\ttest: -0.4886616\tbest: -0.4886616 (42)\ttotal: 20.8s\tremaining: 1m 15s\n",
      "43:\tlearn: -0.3911130\ttest: -0.4833842\tbest: -0.4833842 (43)\ttotal: 21.4s\tremaining: 1m 15s\n",
      "44:\tlearn: -0.3851667\ttest: -0.4796504\tbest: -0.4796504 (44)\ttotal: 21.9s\tremaining: 1m 15s\n",
      "45:\tlearn: -0.3785260\ttest: -0.4750070\tbest: -0.4750070 (45)\ttotal: 22.5s\tremaining: 1m 15s\n",
      "46:\tlearn: -0.3729773\ttest: -0.4718474\tbest: -0.4718474 (46)\ttotal: 23.2s\tremaining: 1m 15s\n",
      "47:\tlearn: -0.3651032\ttest: -0.4668044\tbest: -0.4668044 (47)\ttotal: 23.8s\tremaining: 1m 15s\n",
      "48:\tlearn: -0.3600700\ttest: -0.4632392\tbest: -0.4632392 (48)\ttotal: 24.4s\tremaining: 1m 15s\n",
      "49:\tlearn: -0.3570471\ttest: -0.4618651\tbest: -0.4618651 (49)\ttotal: 25.1s\tremaining: 1m 15s\n",
      "50:\tlearn: -0.3526505\ttest: -0.4591235\tbest: -0.4591235 (50)\ttotal: 25.6s\tremaining: 1m 14s\n",
      "51:\tlearn: -0.3495739\ttest: -0.4575256\tbest: -0.4575256 (51)\ttotal: 26.2s\tremaining: 1m 14s\n",
      "52:\tlearn: -0.3460401\ttest: -0.4558945\tbest: -0.4558945 (52)\ttotal: 26.8s\tremaining: 1m 14s\n",
      "53:\tlearn: -0.3435792\ttest: -0.4542764\tbest: -0.4542764 (53)\ttotal: 27.4s\tremaining: 1m 14s\n",
      "54:\tlearn: -0.3385386\ttest: -0.4524297\tbest: -0.4524297 (54)\ttotal: 28s\tremaining: 1m 13s\n",
      "55:\tlearn: -0.3347512\ttest: -0.4513904\tbest: -0.4513904 (55)\ttotal: 28.6s\tremaining: 1m 13s\n",
      "56:\tlearn: -0.3319592\ttest: -0.4498946\tbest: -0.4498946 (56)\ttotal: 29.2s\tremaining: 1m 13s\n",
      "57:\tlearn: -0.3277434\ttest: -0.4483081\tbest: -0.4483081 (57)\ttotal: 29.8s\tremaining: 1m 12s\n",
      "58:\tlearn: -0.3205885\ttest: -0.4456147\tbest: -0.4456147 (58)\ttotal: 30.4s\tremaining: 1m 12s\n",
      "59:\tlearn: -0.3180058\ttest: -0.4438601\tbest: -0.4438601 (59)\ttotal: 31s\tremaining: 1m 12s\n",
      "60:\tlearn: -0.3142833\ttest: -0.4416980\tbest: -0.4416980 (60)\ttotal: 31.5s\tremaining: 1m 11s\n",
      "61:\tlearn: -0.3108017\ttest: -0.4396811\tbest: -0.4396811 (61)\ttotal: 32.1s\tremaining: 1m 11s\n",
      "62:\tlearn: -0.3084470\ttest: -0.4390617\tbest: -0.4390617 (62)\ttotal: 32.7s\tremaining: 1m 11s\n",
      "63:\tlearn: -0.3059005\ttest: -0.4375826\tbest: -0.4375826 (63)\ttotal: 33.3s\tremaining: 1m 10s\n",
      "64:\tlearn: -0.3038194\ttest: -0.4370953\tbest: -0.4370953 (64)\ttotal: 33.9s\tremaining: 1m 10s\n",
      "65:\tlearn: -0.3022030\ttest: -0.4363495\tbest: -0.4363495 (65)\ttotal: 34.5s\tremaining: 1m 9s\n",
      "66:\tlearn: -0.3000236\ttest: -0.4352540\tbest: -0.4352540 (66)\ttotal: 35s\tremaining: 1m 9s\n",
      "67:\tlearn: -0.2970675\ttest: -0.4340124\tbest: -0.4340124 (67)\ttotal: 35.7s\tremaining: 1m 9s\n",
      "68:\tlearn: -0.2932850\ttest: -0.4329281\tbest: -0.4329281 (68)\ttotal: 36.3s\tremaining: 1m 8s\n",
      "69:\tlearn: -0.2914589\ttest: -0.4318810\tbest: -0.4318810 (69)\ttotal: 36.9s\tremaining: 1m 8s\n",
      "70:\tlearn: -0.2865527\ttest: -0.4299444\tbest: -0.4299444 (70)\ttotal: 37.5s\tremaining: 1m 8s\n",
      "71:\tlearn: -0.2837970\ttest: -0.4283057\tbest: -0.4283057 (71)\ttotal: 38s\tremaining: 1m 7s\n",
      "72:\tlearn: -0.2820384\ttest: -0.4278627\tbest: -0.4278627 (72)\ttotal: 38.6s\tremaining: 1m 7s\n",
      "73:\tlearn: -0.2795224\ttest: -0.4266567\tbest: -0.4266567 (73)\ttotal: 39.2s\tremaining: 1m 6s\n",
      "74:\tlearn: -0.2774966\ttest: -0.4254592\tbest: -0.4254592 (74)\ttotal: 39.8s\tremaining: 1m 6s\n",
      "75:\tlearn: -0.2747525\ttest: -0.4236943\tbest: -0.4236943 (75)\ttotal: 40.4s\tremaining: 1m 5s\n",
      "76:\tlearn: -0.2732763\ttest: -0.4229950\tbest: -0.4229950 (76)\ttotal: 41s\tremaining: 1m 5s\n",
      "77:\tlearn: -0.2711565\ttest: -0.4227797\tbest: -0.4227797 (77)\ttotal: 41.6s\tremaining: 1m 5s\n",
      "78:\tlearn: -0.2673310\ttest: -0.4209055\tbest: -0.4209055 (78)\ttotal: 42.2s\tremaining: 1m 4s\n",
      "79:\tlearn: -0.2655770\ttest: -0.4202353\tbest: -0.4202353 (79)\ttotal: 42.8s\tremaining: 1m 4s\n",
      "80:\tlearn: -0.2634617\ttest: -0.4196676\tbest: -0.4196676 (80)\ttotal: 43.3s\tremaining: 1m 3s\n",
      "81:\tlearn: -0.2606708\ttest: -0.4183775\tbest: -0.4183775 (81)\ttotal: 43.9s\tremaining: 1m 3s\n",
      "82:\tlearn: -0.2587401\ttest: -0.4177826\tbest: -0.4177826 (82)\ttotal: 44.6s\tremaining: 1m 2s\n",
      "83:\tlearn: -0.2573276\ttest: -0.4170423\tbest: -0.4170423 (83)\ttotal: 45.1s\tremaining: 1m 2s\n",
      "84:\tlearn: -0.2542830\ttest: -0.4156676\tbest: -0.4156676 (84)\ttotal: 45.7s\tremaining: 1m 1s\n",
      "85:\tlearn: -0.2511352\ttest: -0.4154732\tbest: -0.4154732 (85)\ttotal: 46.3s\tremaining: 1m 1s\n",
      "86:\tlearn: -0.2500429\ttest: -0.4148468\tbest: -0.4148468 (86)\ttotal: 46.9s\tremaining: 1m\n",
      "87:\tlearn: -0.2481440\ttest: -0.4137466\tbest: -0.4137466 (87)\ttotal: 47.5s\tremaining: 1m\n",
      "88:\tlearn: -0.2462352\ttest: -0.4135045\tbest: -0.4135045 (88)\ttotal: 48.1s\tremaining: 60s\n",
      "89:\tlearn: -0.2442681\ttest: -0.4120939\tbest: -0.4120939 (89)\ttotal: 48.7s\tremaining: 59.5s\n"
     ]
    },
    {
     "name": "stdout",
     "output_type": "stream",
     "text": [
      "90:\tlearn: -0.2421065\ttest: -0.4111984\tbest: -0.4111984 (90)\ttotal: 49.3s\tremaining: 59s\n",
      "91:\tlearn: -0.2402019\ttest: -0.4106627\tbest: -0.4106627 (91)\ttotal: 49.9s\tremaining: 58.6s\n",
      "92:\tlearn: -0.2369994\ttest: -0.4091915\tbest: -0.4091915 (92)\ttotal: 50.5s\tremaining: 58.1s\n",
      "93:\tlearn: -0.2350953\ttest: -0.4081614\tbest: -0.4081614 (93)\ttotal: 51.1s\tremaining: 57.7s\n",
      "94:\tlearn: -0.2336025\ttest: -0.4073833\tbest: -0.4073833 (94)\ttotal: 51.7s\tremaining: 57.2s\n",
      "95:\tlearn: -0.2315175\ttest: -0.4066850\tbest: -0.4066850 (95)\ttotal: 52.3s\tremaining: 56.7s\n",
      "96:\tlearn: -0.2303910\ttest: -0.4065515\tbest: -0.4065515 (96)\ttotal: 52.9s\tremaining: 56.2s\n",
      "97:\tlearn: -0.2295923\ttest: -0.4065178\tbest: -0.4065178 (97)\ttotal: 53.5s\tremaining: 55.7s\n",
      "98:\tlearn: -0.2282678\ttest: -0.4062117\tbest: -0.4062117 (98)\ttotal: 54.1s\tremaining: 55.2s\n",
      "99:\tlearn: -0.2261032\ttest: -0.4046419\tbest: -0.4046419 (99)\ttotal: 54.7s\tremaining: 54.7s\n",
      "100:\tlearn: -0.2245952\ttest: -0.4045461\tbest: -0.4045461 (100)\ttotal: 55.3s\tremaining: 54.2s\n",
      "101:\tlearn: -0.2231284\ttest: -0.4039446\tbest: -0.4039446 (101)\ttotal: 56s\tremaining: 53.8s\n",
      "102:\tlearn: -0.2204837\ttest: -0.4030301\tbest: -0.4030301 (102)\ttotal: 56.6s\tremaining: 53.3s\n",
      "103:\tlearn: -0.2187637\ttest: -0.4025032\tbest: -0.4025032 (103)\ttotal: 57.2s\tremaining: 52.8s\n",
      "104:\tlearn: -0.2178219\ttest: -0.4022456\tbest: -0.4022456 (104)\ttotal: 57.8s\tremaining: 52.3s\n",
      "105:\tlearn: -0.2167211\ttest: -0.4010857\tbest: -0.4010857 (105)\ttotal: 58.4s\tremaining: 51.8s\n",
      "106:\tlearn: -0.2140748\ttest: -0.4002006\tbest: -0.4002006 (106)\ttotal: 59s\tremaining: 51.3s\n",
      "107:\tlearn: -0.2126864\ttest: -0.4000467\tbest: -0.4000467 (107)\ttotal: 59.6s\tremaining: 50.8s\n",
      "108:\tlearn: -0.2098356\ttest: -0.3977532\tbest: -0.3977532 (108)\ttotal: 1m\tremaining: 50.2s\n",
      "109:\tlearn: -0.2084991\ttest: -0.3969622\tbest: -0.3969622 (109)\ttotal: 1m\tremaining: 49.7s\n",
      "110:\tlearn: -0.2065903\ttest: -0.3954800\tbest: -0.3954800 (110)\ttotal: 1m 1s\tremaining: 49.2s\n",
      "111:\tlearn: -0.2054241\ttest: -0.3951727\tbest: -0.3951727 (111)\ttotal: 1m 1s\tremaining: 48.7s\n",
      "112:\tlearn: -0.2034417\ttest: -0.3942008\tbest: -0.3942008 (112)\ttotal: 1m 2s\tremaining: 48.2s\n",
      "113:\tlearn: -0.2021534\ttest: -0.3938276\tbest: -0.3938276 (113)\ttotal: 1m 3s\tremaining: 47.7s\n",
      "114:\tlearn: -0.2011581\ttest: -0.3930892\tbest: -0.3930892 (114)\ttotal: 1m 3s\tremaining: 47.1s\n",
      "115:\tlearn: -0.1984529\ttest: -0.3923594\tbest: -0.3923594 (115)\ttotal: 1m 4s\tremaining: 46.6s\n",
      "116:\tlearn: -0.1963015\ttest: -0.3918984\tbest: -0.3918984 (116)\ttotal: 1m 4s\tremaining: 46s\n",
      "117:\tlearn: -0.1949975\ttest: -0.3913880\tbest: -0.3913880 (117)\ttotal: 1m 5s\tremaining: 45.5s\n",
      "118:\tlearn: -0.1938117\ttest: -0.3916834\tbest: -0.3913880 (117)\ttotal: 1m 6s\tremaining: 45s\n",
      "119:\tlearn: -0.1929931\ttest: -0.3915783\tbest: -0.3913880 (117)\ttotal: 1m 6s\tremaining: 44.5s\n",
      "120:\tlearn: -0.1919979\ttest: -0.3914886\tbest: -0.3913880 (117)\ttotal: 1m 7s\tremaining: 44s\n",
      "121:\tlearn: -0.1907815\ttest: -0.3914149\tbest: -0.3913880 (117)\ttotal: 1m 7s\tremaining: 43.5s\n",
      "122:\tlearn: -0.1889689\ttest: -0.3902273\tbest: -0.3902273 (122)\ttotal: 1m 8s\tremaining: 42.9s\n",
      "123:\tlearn: -0.1868728\ttest: -0.3898081\tbest: -0.3898081 (123)\ttotal: 1m 9s\tremaining: 42.4s\n",
      "124:\tlearn: -0.1864356\ttest: -0.3897942\tbest: -0.3897942 (124)\ttotal: 1m 9s\tremaining: 41.8s\n",
      "125:\tlearn: -0.1851901\ttest: -0.3893360\tbest: -0.3893360 (125)\ttotal: 1m 10s\tremaining: 41.3s\n",
      "126:\tlearn: -0.1837029\ttest: -0.3888779\tbest: -0.3888779 (126)\ttotal: 1m 10s\tremaining: 40.7s\n",
      "127:\tlearn: -0.1821461\ttest: -0.3882079\tbest: -0.3882079 (127)\ttotal: 1m 11s\tremaining: 40.2s\n",
      "128:\tlearn: -0.1809781\ttest: -0.3880668\tbest: -0.3880668 (128)\ttotal: 1m 12s\tremaining: 39.7s\n",
      "129:\tlearn: -0.1796097\ttest: -0.3871117\tbest: -0.3871117 (129)\ttotal: 1m 12s\tremaining: 39.1s\n",
      "130:\tlearn: -0.1783647\ttest: -0.3867738\tbest: -0.3867738 (130)\ttotal: 1m 13s\tremaining: 38.6s\n",
      "131:\tlearn: -0.1773678\ttest: -0.3868487\tbest: -0.3867738 (130)\ttotal: 1m 13s\tremaining: 38s\n",
      "132:\tlearn: -0.1768194\ttest: -0.3866281\tbest: -0.3866281 (132)\ttotal: 1m 14s\tremaining: 37.5s\n",
      "133:\tlearn: -0.1759484\ttest: -0.3864594\tbest: -0.3864594 (133)\ttotal: 1m 15s\tremaining: 37s\n",
      "134:\tlearn: -0.1752103\ttest: -0.3862296\tbest: -0.3862296 (134)\ttotal: 1m 15s\tremaining: 36.4s\n",
      "135:\tlearn: -0.1742861\ttest: -0.3855250\tbest: -0.3855250 (135)\ttotal: 1m 16s\tremaining: 35.9s\n",
      "136:\tlearn: -0.1735382\ttest: -0.3853113\tbest: -0.3853113 (136)\ttotal: 1m 16s\tremaining: 35.3s\n",
      "137:\tlearn: -0.1727910\ttest: -0.3850857\tbest: -0.3850857 (137)\ttotal: 1m 17s\tremaining: 34.8s\n",
      "138:\tlearn: -0.1714345\ttest: -0.3849427\tbest: -0.3849427 (138)\ttotal: 1m 18s\tremaining: 34.3s\n",
      "139:\tlearn: -0.1701857\ttest: -0.3847881\tbest: -0.3847881 (139)\ttotal: 1m 18s\tremaining: 33.8s\n",
      "140:\tlearn: -0.1690153\ttest: -0.3843501\tbest: -0.3843501 (140)\ttotal: 1m 19s\tremaining: 33.2s\n",
      "141:\tlearn: -0.1681475\ttest: -0.3842059\tbest: -0.3842059 (141)\ttotal: 1m 20s\tremaining: 32.7s\n",
      "142:\tlearn: -0.1659567\ttest: -0.3829530\tbest: -0.3829530 (142)\ttotal: 1m 20s\tremaining: 32.1s\n",
      "143:\tlearn: -0.1649272\ttest: -0.3822862\tbest: -0.3822862 (143)\ttotal: 1m 21s\tremaining: 31.7s\n",
      "144:\tlearn: -0.1635666\ttest: -0.3820322\tbest: -0.3820322 (144)\ttotal: 1m 22s\tremaining: 31.2s\n",
      "145:\tlearn: -0.1619336\ttest: -0.3820254\tbest: -0.3820254 (145)\ttotal: 1m 22s\tremaining: 30.7s\n",
      "146:\tlearn: -0.1606529\ttest: -0.3812802\tbest: -0.3812802 (146)\ttotal: 1m 23s\tremaining: 30.1s\n",
      "147:\tlearn: -0.1596574\ttest: -0.3810097\tbest: -0.3810097 (147)\ttotal: 1m 24s\tremaining: 29.6s\n",
      "148:\tlearn: -0.1585691\ttest: -0.3808600\tbest: -0.3808600 (148)\ttotal: 1m 24s\tremaining: 29s\n",
      "149:\tlearn: -0.1575531\ttest: -0.3801977\tbest: -0.3801977 (149)\ttotal: 1m 25s\tremaining: 28.5s\n",
      "150:\tlearn: -0.1565271\ttest: -0.3799992\tbest: -0.3799992 (150)\ttotal: 1m 26s\tremaining: 27.9s\n",
      "151:\tlearn: -0.1557046\ttest: -0.3793164\tbest: -0.3793164 (151)\ttotal: 1m 26s\tremaining: 27.4s\n",
      "152:\tlearn: -0.1546760\ttest: -0.3787928\tbest: -0.3787928 (152)\ttotal: 1m 27s\tremaining: 26.8s\n",
      "153:\tlearn: -0.1535529\ttest: -0.3788667\tbest: -0.3787928 (152)\ttotal: 1m 27s\tremaining: 26.2s\n",
      "154:\tlearn: -0.1526174\ttest: -0.3786176\tbest: -0.3786176 (154)\ttotal: 1m 28s\tremaining: 25.7s\n",
      "155:\tlearn: -0.1506565\ttest: -0.3775628\tbest: -0.3775628 (155)\ttotal: 1m 28s\tremaining: 25.1s\n",
      "156:\tlearn: -0.1498384\ttest: -0.3773227\tbest: -0.3773227 (156)\ttotal: 1m 29s\tremaining: 24.5s\n",
      "157:\tlearn: -0.1484936\ttest: -0.3770667\tbest: -0.3770667 (157)\ttotal: 1m 30s\tremaining: 24s\n",
      "158:\tlearn: -0.1481147\ttest: -0.3768930\tbest: -0.3768930 (158)\ttotal: 1m 30s\tremaining: 23.4s\n",
      "159:\tlearn: -0.1466877\ttest: -0.3770257\tbest: -0.3768930 (158)\ttotal: 1m 31s\tremaining: 22.8s\n",
      "160:\tlearn: -0.1462409\ttest: -0.3768453\tbest: -0.3768453 (160)\ttotal: 1m 31s\tremaining: 22.3s\n",
      "161:\tlearn: -0.1455521\ttest: -0.3768685\tbest: -0.3768453 (160)\ttotal: 1m 32s\tremaining: 21.7s\n",
      "162:\tlearn: -0.1441319\ttest: -0.3764387\tbest: -0.3764387 (162)\ttotal: 1m 33s\tremaining: 21.1s\n",
      "163:\tlearn: -0.1435096\ttest: -0.3766141\tbest: -0.3764387 (162)\ttotal: 1m 33s\tremaining: 20.6s\n",
      "164:\tlearn: -0.1423200\ttest: -0.3758192\tbest: -0.3758192 (164)\ttotal: 1m 34s\tremaining: 20s\n",
      "165:\tlearn: -0.1415700\ttest: -0.3755273\tbest: -0.3755273 (165)\ttotal: 1m 34s\tremaining: 19.4s\n",
      "166:\tlearn: -0.1407951\ttest: -0.3751965\tbest: -0.3751965 (166)\ttotal: 1m 35s\tremaining: 18.9s\n",
      "167:\tlearn: -0.1396867\ttest: -0.3748303\tbest: -0.3748303 (167)\ttotal: 1m 36s\tremaining: 18.3s\n",
      "168:\tlearn: -0.1386119\ttest: -0.3747640\tbest: -0.3747640 (168)\ttotal: 1m 36s\tremaining: 17.7s\n",
      "169:\tlearn: -0.1376040\ttest: -0.3748063\tbest: -0.3747640 (168)\ttotal: 1m 37s\tremaining: 17.2s\n",
      "170:\tlearn: -0.1367263\ttest: -0.3743682\tbest: -0.3743682 (170)\ttotal: 1m 38s\tremaining: 16.6s\n",
      "171:\tlearn: -0.1356505\ttest: -0.3740019\tbest: -0.3740019 (171)\ttotal: 1m 38s\tremaining: 16.1s\n",
      "172:\tlearn: -0.1347462\ttest: -0.3736744\tbest: -0.3736744 (172)\ttotal: 1m 39s\tremaining: 15.5s\n",
      "173:\tlearn: -0.1341111\ttest: -0.3735214\tbest: -0.3735214 (173)\ttotal: 1m 40s\tremaining: 14.9s\n",
      "174:\tlearn: -0.1335059\ttest: -0.3735294\tbest: -0.3735214 (173)\ttotal: 1m 40s\tremaining: 14.4s\n",
      "175:\tlearn: -0.1330310\ttest: -0.3733596\tbest: -0.3733596 (175)\ttotal: 1m 41s\tremaining: 13.8s\n",
      "176:\tlearn: -0.1322909\ttest: -0.3734588\tbest: -0.3733596 (175)\ttotal: 1m 41s\tremaining: 13.2s\n",
      "177:\tlearn: -0.1316972\ttest: -0.3734625\tbest: -0.3733596 (175)\ttotal: 1m 42s\tremaining: 12.7s\n",
      "178:\tlearn: -0.1306688\ttest: -0.3730662\tbest: -0.3730662 (178)\ttotal: 1m 43s\tremaining: 12.1s\n"
     ]
    },
    {
     "name": "stdout",
     "output_type": "stream",
     "text": [
      "179:\tlearn: -0.1297737\ttest: -0.3730113\tbest: -0.3730113 (179)\ttotal: 1m 43s\tremaining: 11.5s\n",
      "180:\tlearn: -0.1291317\ttest: -0.3725168\tbest: -0.3725168 (180)\ttotal: 1m 44s\tremaining: 11s\n",
      "181:\tlearn: -0.1286422\ttest: -0.3727870\tbest: -0.3725168 (180)\ttotal: 1m 44s\tremaining: 10.4s\n",
      "182:\tlearn: -0.1283808\ttest: -0.3730621\tbest: -0.3725168 (180)\ttotal: 1m 45s\tremaining: 9.81s\n",
      "183:\tlearn: -0.1273436\ttest: -0.3727444\tbest: -0.3725168 (180)\ttotal: 1m 46s\tremaining: 9.24s\n",
      "184:\tlearn: -0.1267676\ttest: -0.3725712\tbest: -0.3725168 (180)\ttotal: 1m 46s\tremaining: 8.67s\n",
      "185:\tlearn: -0.1260346\ttest: -0.3722708\tbest: -0.3722708 (185)\ttotal: 1m 47s\tremaining: 8.09s\n",
      "186:\tlearn: -0.1252418\ttest: -0.3720493\tbest: -0.3720493 (186)\ttotal: 1m 48s\tremaining: 7.52s\n",
      "187:\tlearn: -0.1240469\ttest: -0.3721720\tbest: -0.3720493 (186)\ttotal: 1m 48s\tremaining: 6.94s\n",
      "188:\tlearn: -0.1228560\ttest: -0.3718256\tbest: -0.3718256 (188)\ttotal: 1m 49s\tremaining: 6.36s\n",
      "189:\tlearn: -0.1218578\ttest: -0.3711371\tbest: -0.3711371 (189)\ttotal: 1m 49s\tremaining: 5.79s\n",
      "190:\tlearn: -0.1212683\ttest: -0.3708218\tbest: -0.3708218 (190)\ttotal: 1m 50s\tremaining: 5.21s\n",
      "191:\tlearn: -0.1205756\ttest: -0.3704721\tbest: -0.3704721 (191)\ttotal: 1m 51s\tremaining: 4.63s\n",
      "192:\tlearn: -0.1198931\ttest: -0.3703643\tbest: -0.3703643 (192)\ttotal: 1m 51s\tremaining: 4.05s\n",
      "193:\tlearn: -0.1192517\ttest: -0.3704254\tbest: -0.3703643 (192)\ttotal: 1m 52s\tremaining: 3.47s\n",
      "194:\tlearn: -0.1186630\ttest: -0.3700520\tbest: -0.3700520 (194)\ttotal: 1m 52s\tremaining: 2.89s\n",
      "195:\tlearn: -0.1178591\ttest: -0.3697649\tbest: -0.3697649 (195)\ttotal: 1m 53s\tremaining: 2.31s\n",
      "196:\tlearn: -0.1175513\ttest: -0.3696135\tbest: -0.3696135 (196)\ttotal: 1m 54s\tremaining: 1.74s\n",
      "197:\tlearn: -0.1169498\ttest: -0.3698676\tbest: -0.3696135 (196)\ttotal: 1m 54s\tremaining: 1.16s\n",
      "198:\tlearn: -0.1164490\ttest: -0.3697348\tbest: -0.3696135 (196)\ttotal: 1m 55s\tremaining: 579ms\n",
      "199:\tlearn: -0.1160831\ttest: -0.3694846\tbest: -0.3694846 (199)\ttotal: 1m 55s\tremaining: 0us\n",
      "\n",
      "bestTest = -0.3694845854\n",
      "bestIteration = 199\n",
      "\n",
      "Shrink model to first 200 iterations.\n"
     ]
    },
    {
     "data": {
      "text/plain": [
       "<catboost.core.CatBoostClassifier at 0x105cc5e10>"
      ]
     },
     "execution_count": 148,
     "metadata": {},
     "output_type": "execute_result"
    }
   ],
   "source": [
    "cat_X = train_clas.drop(['Cover_Type','Id', 'Cover_Type_Name', 'Wilderness_Area_Name'],1)\n",
    "cat_y = train_clas['Cover_Type']\n",
    "#cat_y = [str(x) for x in cat_y] This does not change my results at all\n",
    "X_train_cat, X_test_cat, y_train_cat, y_test_cat = train_test_split(cat_X, cat_y, test_size=.3, random_state=42)\n",
    "\n",
    "categorical_features_indices = np.where(X_train_cat.dtypes != np.int64)[0]\n",
    "cat_pool = Pool(data = X_train_cat, label=y_train_cat, cat_features=categorical_features_indices)\n",
    "cat_tree = CatBoostClassifier(iterations=200, depth=10, learning_rate=0.3, loss_function=('MultiClass'))\n",
    "cat_tree.fit(cat_pool, eval_set = (X_test_cat, y_test_cat))"
   ]
  },
  {
   "cell_type": "code",
   "execution_count": null,
   "metadata": {},
   "outputs": [],
   "source": []
  },
  {
   "cell_type": "code",
   "execution_count": 152,
   "metadata": {
    "ExecuteTime": {
     "end_time": "2018-05-12T21:36:06.915336Z",
     "start_time": "2018-05-12T21:36:06.888257Z"
    }
   },
   "outputs": [
    {
     "data": {
      "text/plain": [
       "array([1.60753560e-05, 7.07390597e-05, 1.33779564e-03, 2.38574641e-01,\n",
       "       4.94977321e-02, 1.93562143e-04, 7.10296062e-01, 1.33920754e-05])"
      ]
     },
     "execution_count": 152,
     "metadata": {},
     "output_type": "execute_result"
    }
   ],
   "source": [
    "cat_tree.predict_proba(X_test_cat)[0] #gives me 8 possible outcomes."
   ]
  },
  {
   "cell_type": "code",
   "execution_count": 155,
   "metadata": {
    "ExecuteTime": {
     "end_time": "2018-05-12T21:41:25.803406Z",
     "start_time": "2018-05-12T21:41:25.765839Z"
    }
   },
   "outputs": [
    {
     "name": "stdout",
     "output_type": "stream",
     "text": [
      "0.8641975308641975\n"
     ]
    },
    {
     "data": {
      "text/plain": [
       "array([[464, 120,   0,   0,   2,   0,  18],\n",
       "       [104, 450,   1,   0,  20,   4,   1],\n",
       "       [  1,  22, 541,  10,  15,  51,   0],\n",
       "       [  0,   0,  27, 646,   0,  15,   0],\n",
       "       [ 14,  48,   4,   0, 608,   2,   0],\n",
       "       [  0,  14,  72,   5,   5, 578,   0],\n",
       "       [ 37,   4,   0,   0,   0,   0, 633]])"
      ]
     },
     "execution_count": 155,
     "metadata": {},
     "output_type": "execute_result"
    }
   ],
   "source": [
    "cat_guesses = cat_tree.predict(X_test_cat)\n",
    "cat_guesses = cat_guesses.flatten()\n",
    "cat_guesses = [str(int(i)) for i in cat_guesses]\n",
    "print(accuracy_score(cat_guesses, y_test_cat))\n",
    "confusion_matrix(cat_guesses, y_test_cat)"
   ]
  },
  {
   "cell_type": "code",
   "execution_count": 192,
   "metadata": {
    "ExecuteTime": {
     "end_time": "2018-05-12T21:58:06.594640Z",
     "start_time": "2018-05-12T21:58:06.568313Z"
    },
    "scrolled": false
   },
   "outputs": [
    {
     "data": {
      "text/plain": [
       "[(1.0, 0.0016075355986157236),\n",
       " (2.0, 0.0070739059722554985),\n",
       " (3.0, 0.1337795636095051),\n",
       " (4.0, 23.85746414666754),\n",
       " (5.0, 4.949773211873804),\n",
       " (6.0, 0.019356214258150047),\n",
       " (7.0, 71.02960621448312)]"
      ]
     },
     "execution_count": 192,
     "metadata": {},
     "output_type": "execute_result"
    }
   ],
   "source": [
    "list(zip(cat_tree.classes_, cat_tree.predict_proba(X_test_cat)[0]*100))"
   ]
  },
  {
   "cell_type": "code",
   "execution_count": 156,
   "metadata": {
    "ExecuteTime": {
     "end_time": "2018-05-12T21:43:26.121661Z",
     "start_time": "2018-05-12T21:41:43.972074Z"
    }
   },
   "outputs": [
    {
     "name": "stdout",
     "output_type": "stream",
     "text": [
      "0:\tlearn: -1.3802262\ttest: -1.3896339\tbest: -1.3896339 (0)\ttotal: 491ms\tremaining: 1m 37s\n",
      "1:\tlearn: -1.1312587\ttest: -1.1400906\tbest: -1.1400906 (1)\ttotal: 965ms\tremaining: 1m 35s\n",
      "2:\tlearn: -0.9828289\ttest: -0.9907659\tbest: -0.9907659 (2)\ttotal: 1.45s\tremaining: 1m 35s\n",
      "3:\tlearn: -0.8845029\ttest: -0.8935217\tbest: -0.8935217 (3)\ttotal: 1.94s\tremaining: 1m 35s\n",
      "4:\tlearn: -0.8157629\ttest: -0.8268257\tbest: -0.8268257 (4)\ttotal: 2.43s\tremaining: 1m 34s\n",
      "5:\tlearn: -0.7616528\ttest: -0.7749450\tbest: -0.7749450 (5)\ttotal: 2.92s\tremaining: 1m 34s\n",
      "6:\tlearn: -0.7245092\ttest: -0.7406099\tbest: -0.7406099 (6)\ttotal: 3.42s\tremaining: 1m 34s\n",
      "7:\tlearn: -0.6960497\ttest: -0.7147496\tbest: -0.7147496 (7)\ttotal: 3.89s\tremaining: 1m 33s\n",
      "8:\tlearn: -0.6746907\ttest: -0.6960559\tbest: -0.6960559 (8)\ttotal: 4.37s\tremaining: 1m 32s\n",
      "9:\tlearn: -0.6546948\ttest: -0.6784773\tbest: -0.6784773 (9)\ttotal: 4.85s\tremaining: 1m 32s\n",
      "10:\tlearn: -0.6365135\ttest: -0.6626030\tbest: -0.6626030 (10)\ttotal: 5.34s\tremaining: 1m 31s\n",
      "11:\tlearn: -0.6242024\ttest: -0.6505860\tbest: -0.6505860 (11)\ttotal: 5.54s\tremaining: 1m 26s\n",
      "12:\tlearn: -0.6096920\ttest: -0.6392740\tbest: -0.6392740 (12)\ttotal: 6.05s\tremaining: 1m 26s\n",
      "13:\tlearn: -0.5940745\ttest: -0.6265032\tbest: -0.6265032 (13)\ttotal: 6.54s\tremaining: 1m 26s\n",
      "14:\tlearn: -0.5722291\ttest: -0.6113860\tbest: -0.6113860 (14)\ttotal: 7.07s\tremaining: 1m 27s\n",
      "15:\tlearn: -0.5535349\ttest: -0.5979210\tbest: -0.5979210 (15)\ttotal: 7.57s\tremaining: 1m 27s\n",
      "16:\tlearn: -0.5455277\ttest: -0.5909899\tbest: -0.5909899 (16)\ttotal: 8.07s\tremaining: 1m 26s\n",
      "17:\tlearn: -0.5434261\ttest: -0.5894070\tbest: -0.5894070 (17)\ttotal: 8.18s\tremaining: 1m 22s\n",
      "18:\tlearn: -0.5327960\ttest: -0.5824630\tbest: -0.5824630 (18)\ttotal: 8.78s\tremaining: 1m 23s\n",
      "19:\tlearn: -0.5254353\ttest: -0.5770156\tbest: -0.5770156 (19)\ttotal: 9.33s\tremaining: 1m 23s\n",
      "20:\tlearn: -0.5103252\ttest: -0.5660911\tbest: -0.5660911 (20)\ttotal: 9.9s\tremaining: 1m 24s\n",
      "21:\tlearn: -0.5019064\ttest: -0.5593075\tbest: -0.5593075 (21)\ttotal: 10.4s\tremaining: 1m 24s\n",
      "22:\tlearn: -0.4935016\ttest: -0.5529598\tbest: -0.5529598 (22)\ttotal: 10.9s\tremaining: 1m 24s\n",
      "23:\tlearn: -0.4821844\ttest: -0.5453598\tbest: -0.5453598 (23)\ttotal: 11.5s\tremaining: 1m 24s\n",
      "24:\tlearn: -0.4758178\ttest: -0.5414591\tbest: -0.5414591 (24)\ttotal: 12s\tremaining: 1m 23s\n",
      "25:\tlearn: -0.4716455\ttest: -0.5381631\tbest: -0.5381631 (25)\ttotal: 12.4s\tremaining: 1m 23s\n",
      "26:\tlearn: -0.4603874\ttest: -0.5308335\tbest: -0.5308335 (26)\ttotal: 13.1s\tremaining: 1m 23s\n",
      "27:\tlearn: -0.4540969\ttest: -0.5254651\tbest: -0.5254651 (27)\ttotal: 13.5s\tremaining: 1m 23s\n",
      "28:\tlearn: -0.4465851\ttest: -0.5212725\tbest: -0.5212725 (28)\ttotal: 14s\tremaining: 1m 22s\n",
      "29:\tlearn: -0.4456791\ttest: -0.5199967\tbest: -0.5199967 (29)\ttotal: 14.1s\tremaining: 1m 19s\n",
      "30:\tlearn: -0.4395263\ttest: -0.5158501\tbest: -0.5158501 (30)\ttotal: 14.6s\tremaining: 1m 19s\n",
      "31:\tlearn: -0.4328008\ttest: -0.5111233\tbest: -0.5111233 (31)\ttotal: 15.1s\tremaining: 1m 19s\n",
      "32:\tlearn: -0.4265620\ttest: -0.5079997\tbest: -0.5079997 (32)\ttotal: 15.6s\tremaining: 1m 18s\n",
      "33:\tlearn: -0.4202372\ttest: -0.5037621\tbest: -0.5037621 (33)\ttotal: 16.1s\tremaining: 1m 18s\n",
      "34:\tlearn: -0.4133905\ttest: -0.4984524\tbest: -0.4984524 (34)\ttotal: 16.6s\tremaining: 1m 18s\n",
      "35:\tlearn: -0.4079687\ttest: -0.4949303\tbest: -0.4949303 (35)\ttotal: 17.1s\tremaining: 1m 17s\n",
      "36:\tlearn: -0.4040024\ttest: -0.4923883\tbest: -0.4923883 (36)\ttotal: 17.6s\tremaining: 1m 17s\n",
      "37:\tlearn: -0.3979850\ttest: -0.4883752\tbest: -0.4883752 (37)\ttotal: 18.2s\tremaining: 1m 17s\n",
      "38:\tlearn: -0.3898687\ttest: -0.4829246\tbest: -0.4829246 (38)\ttotal: 18.7s\tremaining: 1m 17s\n",
      "39:\tlearn: -0.3843861\ttest: -0.4784544\tbest: -0.4784544 (39)\ttotal: 19.2s\tremaining: 1m 16s\n",
      "40:\tlearn: -0.3783105\ttest: -0.4748609\tbest: -0.4748609 (40)\ttotal: 19.6s\tremaining: 1m 16s\n",
      "41:\tlearn: -0.3741565\ttest: -0.4715235\tbest: -0.4715235 (41)\ttotal: 20.1s\tremaining: 1m 15s\n",
      "42:\tlearn: -0.3699387\ttest: -0.4692599\tbest: -0.4692599 (42)\ttotal: 20.6s\tremaining: 1m 15s\n",
      "43:\tlearn: -0.3664768\ttest: -0.4678215\tbest: -0.4678215 (43)\ttotal: 21.2s\tremaining: 1m 15s\n",
      "44:\tlearn: -0.3631506\ttest: -0.4656645\tbest: -0.4656645 (44)\ttotal: 21.7s\tremaining: 1m 14s\n",
      "45:\tlearn: -0.3572760\ttest: -0.4629895\tbest: -0.4629895 (45)\ttotal: 22.3s\tremaining: 1m 14s\n",
      "46:\tlearn: -0.3533210\ttest: -0.4610913\tbest: -0.4610913 (46)\ttotal: 22.7s\tremaining: 1m 14s\n",
      "47:\tlearn: -0.3498149\ttest: -0.4592693\tbest: -0.4592693 (47)\ttotal: 23.3s\tremaining: 1m 13s\n",
      "48:\tlearn: -0.3464665\ttest: -0.4581522\tbest: -0.4581522 (48)\ttotal: 23.8s\tremaining: 1m 13s\n",
      "49:\tlearn: -0.3436689\ttest: -0.4566043\tbest: -0.4566043 (49)\ttotal: 24.3s\tremaining: 1m 12s\n",
      "50:\tlearn: -0.3396629\ttest: -0.4548695\tbest: -0.4548695 (50)\ttotal: 24.8s\tremaining: 1m 12s\n",
      "51:\tlearn: -0.3355432\ttest: -0.4528900\tbest: -0.4528900 (51)\ttotal: 25.3s\tremaining: 1m 11s\n",
      "52:\tlearn: -0.3330892\ttest: -0.4513032\tbest: -0.4513032 (52)\ttotal: 25.8s\tremaining: 1m 11s\n",
      "53:\tlearn: -0.3300468\ttest: -0.4492053\tbest: -0.4492053 (53)\ttotal: 26.3s\tremaining: 1m 11s\n",
      "54:\tlearn: -0.3276688\ttest: -0.4477327\tbest: -0.4477327 (54)\ttotal: 26.8s\tremaining: 1m 10s\n",
      "55:\tlearn: -0.3262220\ttest: -0.4469495\tbest: -0.4469495 (55)\ttotal: 27.2s\tremaining: 1m 10s\n",
      "56:\tlearn: -0.3227638\ttest: -0.4445628\tbest: -0.4445628 (56)\ttotal: 27.7s\tremaining: 1m 9s\n",
      "57:\tlearn: -0.3180851\ttest: -0.4420266\tbest: -0.4420266 (57)\ttotal: 28.2s\tremaining: 1m 9s\n",
      "58:\tlearn: -0.3144949\ttest: -0.4404141\tbest: -0.4404141 (58)\ttotal: 28.8s\tremaining: 1m 8s\n",
      "59:\tlearn: -0.3077215\ttest: -0.4382424\tbest: -0.4382424 (59)\ttotal: 29.4s\tremaining: 1m 8s\n",
      "60:\tlearn: -0.3015633\ttest: -0.4343951\tbest: -0.4343951 (60)\ttotal: 29.9s\tremaining: 1m 8s\n",
      "61:\tlearn: -0.2984974\ttest: -0.4328309\tbest: -0.4328309 (61)\ttotal: 30.5s\tremaining: 1m 7s\n",
      "62:\tlearn: -0.2961515\ttest: -0.4315922\tbest: -0.4315922 (62)\ttotal: 31s\tremaining: 1m 7s\n",
      "63:\tlearn: -0.2936718\ttest: -0.4305914\tbest: -0.4305914 (63)\ttotal: 31.5s\tremaining: 1m 6s\n",
      "64:\tlearn: -0.2913880\ttest: -0.4287252\tbest: -0.4287252 (64)\ttotal: 32s\tremaining: 1m 6s\n",
      "65:\tlearn: -0.2893575\ttest: -0.4279957\tbest: -0.4279957 (65)\ttotal: 32.4s\tremaining: 1m 5s\n",
      "66:\tlearn: -0.2868955\ttest: -0.4265562\tbest: -0.4265562 (66)\ttotal: 32.9s\tremaining: 1m 5s\n",
      "67:\tlearn: -0.2828860\ttest: -0.4245507\tbest: -0.4245507 (67)\ttotal: 33.4s\tremaining: 1m 4s\n",
      "68:\tlearn: -0.2811889\ttest: -0.4235074\tbest: -0.4235074 (68)\ttotal: 34s\tremaining: 1m 4s\n",
      "69:\tlearn: -0.2786582\ttest: -0.4232114\tbest: -0.4232114 (69)\ttotal: 34.5s\tremaining: 1m 4s\n",
      "70:\tlearn: -0.2764245\ttest: -0.4219088\tbest: -0.4219088 (70)\ttotal: 35s\tremaining: 1m 3s\n",
      "71:\tlearn: -0.2743045\ttest: -0.4211106\tbest: -0.4211106 (71)\ttotal: 35.5s\tremaining: 1m 3s\n",
      "72:\tlearn: -0.2726941\ttest: -0.4206671\tbest: -0.4206671 (72)\ttotal: 36s\tremaining: 1m 2s\n",
      "73:\tlearn: -0.2696179\ttest: -0.4195031\tbest: -0.4195031 (73)\ttotal: 36.6s\tremaining: 1m 2s\n",
      "74:\tlearn: -0.2670275\ttest: -0.4184698\tbest: -0.4184698 (74)\ttotal: 37.1s\tremaining: 1m 1s\n",
      "75:\tlearn: -0.2615029\ttest: -0.4155336\tbest: -0.4155336 (75)\ttotal: 37.6s\tremaining: 1m 1s\n",
      "76:\tlearn: -0.2596912\ttest: -0.4147380\tbest: -0.4147380 (76)\ttotal: 38.2s\tremaining: 1m\n",
      "77:\tlearn: -0.2561091\ttest: -0.4131447\tbest: -0.4131447 (77)\ttotal: 38.7s\tremaining: 1m\n",
      "78:\tlearn: -0.2536004\ttest: -0.4118217\tbest: -0.4118217 (78)\ttotal: 39.2s\tremaining: 1m\n",
      "79:\tlearn: -0.2523438\ttest: -0.4111639\tbest: -0.4111639 (79)\ttotal: 39.8s\tremaining: 59.7s\n",
      "80:\tlearn: -0.2491868\ttest: -0.4099308\tbest: -0.4099308 (80)\ttotal: 40.3s\tremaining: 59.3s\n",
      "81:\tlearn: -0.2475158\ttest: -0.4089280\tbest: -0.4089280 (81)\ttotal: 40.9s\tremaining: 58.8s\n",
      "82:\tlearn: -0.2437916\ttest: -0.4076136\tbest: -0.4076136 (82)\ttotal: 41.4s\tremaining: 58.3s\n",
      "83:\tlearn: -0.2424295\ttest: -0.4073435\tbest: -0.4073435 (83)\ttotal: 41.9s\tremaining: 57.8s\n",
      "84:\tlearn: -0.2392042\ttest: -0.4063093\tbest: -0.4063093 (84)\ttotal: 42.4s\tremaining: 57.4s\n",
      "85:\tlearn: -0.2370921\ttest: -0.4063144\tbest: -0.4063093 (84)\ttotal: 42.9s\tremaining: 56.9s\n",
      "86:\tlearn: -0.2346506\ttest: -0.4052340\tbest: -0.4052340 (86)\ttotal: 43.5s\tremaining: 56.5s\n",
      "87:\tlearn: -0.2333605\ttest: -0.4043044\tbest: -0.4043044 (87)\ttotal: 43.9s\tremaining: 55.9s\n",
      "88:\tlearn: -0.2315365\ttest: -0.4030247\tbest: -0.4030247 (88)\ttotal: 44.5s\tremaining: 55.4s\n",
      "89:\tlearn: -0.2296102\ttest: -0.4025168\tbest: -0.4025168 (89)\ttotal: 45s\tremaining: 55s\n"
     ]
    },
    {
     "name": "stdout",
     "output_type": "stream",
     "text": [
      "90:\tlearn: -0.2278962\ttest: -0.4022208\tbest: -0.4022208 (90)\ttotal: 45.5s\tremaining: 54.5s\n",
      "91:\tlearn: -0.2258206\ttest: -0.4020825\tbest: -0.4020825 (91)\ttotal: 46.1s\tremaining: 54.1s\n",
      "92:\tlearn: -0.2241666\ttest: -0.4014627\tbest: -0.4014627 (92)\ttotal: 46.6s\tremaining: 53.6s\n",
      "93:\tlearn: -0.2229316\ttest: -0.4008195\tbest: -0.4008195 (93)\ttotal: 47.1s\tremaining: 53.1s\n",
      "94:\tlearn: -0.2214237\ttest: -0.4001667\tbest: -0.4001667 (94)\ttotal: 47.6s\tremaining: 52.7s\n",
      "95:\tlearn: -0.2192358\ttest: -0.3989701\tbest: -0.3989701 (95)\ttotal: 48.1s\tremaining: 52.2s\n",
      "96:\tlearn: -0.2184321\ttest: -0.3986332\tbest: -0.3986332 (96)\ttotal: 48.7s\tremaining: 51.7s\n",
      "97:\tlearn: -0.2164740\ttest: -0.3982990\tbest: -0.3982990 (97)\ttotal: 49.2s\tremaining: 51.2s\n",
      "98:\tlearn: -0.2150734\ttest: -0.3973235\tbest: -0.3973235 (98)\ttotal: 49.8s\tremaining: 50.8s\n",
      "99:\tlearn: -0.2134173\ttest: -0.3965835\tbest: -0.3965835 (99)\ttotal: 50.3s\tremaining: 50.3s\n",
      "100:\tlearn: -0.2116127\ttest: -0.3958521\tbest: -0.3958521 (100)\ttotal: 50.8s\tremaining: 49.8s\n",
      "101:\tlearn: -0.2103706\ttest: -0.3953587\tbest: -0.3953587 (101)\ttotal: 51.3s\tremaining: 49.3s\n",
      "102:\tlearn: -0.2076135\ttest: -0.3957429\tbest: -0.3953587 (101)\ttotal: 51.9s\tremaining: 48.9s\n",
      "103:\tlearn: -0.2057754\ttest: -0.3952789\tbest: -0.3952789 (103)\ttotal: 52.5s\tremaining: 48.4s\n",
      "104:\tlearn: -0.2040943\ttest: -0.3949289\tbest: -0.3949289 (104)\ttotal: 53s\tremaining: 47.9s\n",
      "105:\tlearn: -0.2029923\ttest: -0.3940767\tbest: -0.3940767 (105)\ttotal: 53.5s\tremaining: 47.5s\n",
      "106:\tlearn: -0.2021573\ttest: -0.3937494\tbest: -0.3937494 (106)\ttotal: 54s\tremaining: 47s\n",
      "107:\tlearn: -0.2001348\ttest: -0.3923928\tbest: -0.3923928 (107)\ttotal: 54.5s\tremaining: 46.5s\n",
      "108:\tlearn: -0.1991169\ttest: -0.3920901\tbest: -0.3920901 (108)\ttotal: 55s\tremaining: 45.9s\n",
      "109:\tlearn: -0.1974519\ttest: -0.3911836\tbest: -0.3911836 (109)\ttotal: 55.5s\tremaining: 45.4s\n",
      "110:\tlearn: -0.1949798\ttest: -0.3908247\tbest: -0.3908247 (110)\ttotal: 56s\tremaining: 44.9s\n",
      "111:\tlearn: -0.1931660\ttest: -0.3908612\tbest: -0.3908247 (110)\ttotal: 56.6s\tremaining: 44.5s\n",
      "112:\tlearn: -0.1913819\ttest: -0.3906762\tbest: -0.3906762 (112)\ttotal: 57.1s\tremaining: 44s\n",
      "113:\tlearn: -0.1887670\ttest: -0.3897083\tbest: -0.3897083 (113)\ttotal: 57.6s\tremaining: 43.5s\n",
      "114:\tlearn: -0.1875353\ttest: -0.3898647\tbest: -0.3897083 (113)\ttotal: 58.1s\tremaining: 43s\n",
      "115:\tlearn: -0.1866425\ttest: -0.3893989\tbest: -0.3893989 (115)\ttotal: 58.7s\tremaining: 42.5s\n",
      "116:\tlearn: -0.1859968\ttest: -0.3896365\tbest: -0.3893989 (115)\ttotal: 59.2s\tremaining: 42s\n",
      "117:\tlearn: -0.1851982\ttest: -0.3894344\tbest: -0.3893989 (115)\ttotal: 59.7s\tremaining: 41.5s\n",
      "118:\tlearn: -0.1841519\ttest: -0.3889641\tbest: -0.3889641 (118)\ttotal: 1m\tremaining: 41s\n",
      "119:\tlearn: -0.1831901\ttest: -0.3890482\tbest: -0.3889641 (118)\ttotal: 1m\tremaining: 40.5s\n",
      "120:\tlearn: -0.1823760\ttest: -0.3889725\tbest: -0.3889641 (118)\ttotal: 1m 1s\tremaining: 39.9s\n",
      "121:\tlearn: -0.1816457\ttest: -0.3887562\tbest: -0.3887562 (121)\ttotal: 1m 1s\tremaining: 39.4s\n",
      "122:\tlearn: -0.1803260\ttest: -0.3887433\tbest: -0.3887433 (122)\ttotal: 1m 2s\tremaining: 38.9s\n",
      "123:\tlearn: -0.1790192\ttest: -0.3885281\tbest: -0.3885281 (123)\ttotal: 1m 2s\tremaining: 38.4s\n",
      "124:\tlearn: -0.1785387\ttest: -0.3886615\tbest: -0.3885281 (123)\ttotal: 1m 3s\tremaining: 37.9s\n",
      "125:\tlearn: -0.1768157\ttest: -0.3879233\tbest: -0.3879233 (125)\ttotal: 1m 3s\tremaining: 37.4s\n",
      "126:\tlearn: -0.1757942\ttest: -0.3877125\tbest: -0.3877125 (126)\ttotal: 1m 4s\tremaining: 36.9s\n",
      "127:\tlearn: -0.1754008\ttest: -0.3876131\tbest: -0.3876131 (127)\ttotal: 1m 4s\tremaining: 36.4s\n",
      "128:\tlearn: -0.1741871\ttest: -0.3868808\tbest: -0.3868808 (128)\ttotal: 1m 5s\tremaining: 35.9s\n",
      "129:\tlearn: -0.1734919\ttest: -0.3868264\tbest: -0.3868264 (129)\ttotal: 1m 5s\tremaining: 35.4s\n",
      "130:\tlearn: -0.1718624\ttest: -0.3859007\tbest: -0.3859007 (130)\ttotal: 1m 6s\tremaining: 34.9s\n",
      "131:\tlearn: -0.1709841\ttest: -0.3856257\tbest: -0.3856257 (131)\ttotal: 1m 6s\tremaining: 34.4s\n",
      "132:\tlearn: -0.1695689\ttest: -0.3848333\tbest: -0.3848333 (132)\ttotal: 1m 7s\tremaining: 33.9s\n",
      "133:\tlearn: -0.1675282\ttest: -0.3846608\tbest: -0.3846608 (133)\ttotal: 1m 7s\tremaining: 33.5s\n",
      "134:\tlearn: -0.1668045\ttest: -0.3842483\tbest: -0.3842483 (134)\ttotal: 1m 8s\tremaining: 33s\n",
      "135:\tlearn: -0.1661253\ttest: -0.3839009\tbest: -0.3839009 (135)\ttotal: 1m 8s\tremaining: 32.5s\n",
      "136:\tlearn: -0.1647938\ttest: -0.3831338\tbest: -0.3831338 (136)\ttotal: 1m 9s\tremaining: 31.9s\n",
      "137:\tlearn: -0.1636989\ttest: -0.3829262\tbest: -0.3829262 (137)\ttotal: 1m 9s\tremaining: 31.4s\n",
      "138:\tlearn: -0.1629620\ttest: -0.3826912\tbest: -0.3826912 (138)\ttotal: 1m 10s\tremaining: 30.9s\n",
      "139:\tlearn: -0.1619652\ttest: -0.3819668\tbest: -0.3819668 (139)\ttotal: 1m 10s\tremaining: 30.4s\n",
      "140:\tlearn: -0.1610690\ttest: -0.3817536\tbest: -0.3817536 (140)\ttotal: 1m 11s\tremaining: 29.9s\n",
      "141:\tlearn: -0.1599535\ttest: -0.3808848\tbest: -0.3808848 (141)\ttotal: 1m 12s\tremaining: 29.4s\n",
      "142:\tlearn: -0.1594672\ttest: -0.3809633\tbest: -0.3808848 (141)\ttotal: 1m 12s\tremaining: 29s\n",
      "143:\tlearn: -0.1582536\ttest: -0.3812311\tbest: -0.3808848 (141)\ttotal: 1m 13s\tremaining: 28.5s\n",
      "144:\tlearn: -0.1572385\ttest: -0.3812228\tbest: -0.3808848 (141)\ttotal: 1m 13s\tremaining: 28s\n",
      "145:\tlearn: -0.1566138\ttest: -0.3809756\tbest: -0.3808848 (141)\ttotal: 1m 14s\tremaining: 27.5s\n",
      "146:\tlearn: -0.1558591\ttest: -0.3806397\tbest: -0.3806397 (146)\ttotal: 1m 14s\tremaining: 27s\n",
      "147:\tlearn: -0.1549287\ttest: -0.3802128\tbest: -0.3802128 (147)\ttotal: 1m 15s\tremaining: 26.5s\n",
      "148:\tlearn: -0.1543237\ttest: -0.3799903\tbest: -0.3799903 (148)\ttotal: 1m 15s\tremaining: 26s\n",
      "149:\tlearn: -0.1532109\ttest: -0.3799949\tbest: -0.3799903 (148)\ttotal: 1m 16s\tremaining: 25.5s\n",
      "150:\tlearn: -0.1516655\ttest: -0.3797162\tbest: -0.3797162 (150)\ttotal: 1m 16s\tremaining: 25s\n",
      "151:\tlearn: -0.1505190\ttest: -0.3790870\tbest: -0.3790870 (151)\ttotal: 1m 17s\tremaining: 24.5s\n",
      "152:\tlearn: -0.1493120\ttest: -0.3780935\tbest: -0.3780935 (152)\ttotal: 1m 18s\tremaining: 24s\n",
      "153:\tlearn: -0.1474448\ttest: -0.3778087\tbest: -0.3778087 (153)\ttotal: 1m 18s\tremaining: 23.5s\n",
      "154:\tlearn: -0.1463024\ttest: -0.3769241\tbest: -0.3769241 (154)\ttotal: 1m 19s\tremaining: 23s\n",
      "155:\tlearn: -0.1451859\ttest: -0.3767967\tbest: -0.3767967 (155)\ttotal: 1m 19s\tremaining: 22.5s\n",
      "156:\tlearn: -0.1443349\ttest: -0.3766788\tbest: -0.3766788 (156)\ttotal: 1m 20s\tremaining: 22s\n",
      "157:\tlearn: -0.1436045\ttest: -0.3761827\tbest: -0.3761827 (157)\ttotal: 1m 20s\tremaining: 21.5s\n",
      "158:\tlearn: -0.1428554\ttest: -0.3761616\tbest: -0.3761616 (158)\ttotal: 1m 21s\tremaining: 21s\n",
      "159:\tlearn: -0.1419731\ttest: -0.3759632\tbest: -0.3759632 (159)\ttotal: 1m 21s\tremaining: 20.4s\n",
      "160:\tlearn: -0.1412351\ttest: -0.3755590\tbest: -0.3755590 (160)\ttotal: 1m 22s\tremaining: 19.9s\n",
      "161:\tlearn: -0.1400731\ttest: -0.3748881\tbest: -0.3748881 (161)\ttotal: 1m 22s\tremaining: 19.4s\n",
      "162:\tlearn: -0.1393423\ttest: -0.3747291\tbest: -0.3747291 (162)\ttotal: 1m 23s\tremaining: 18.9s\n",
      "163:\tlearn: -0.1385499\ttest: -0.3746434\tbest: -0.3746434 (163)\ttotal: 1m 23s\tremaining: 18.4s\n",
      "164:\tlearn: -0.1378250\ttest: -0.3744542\tbest: -0.3744542 (164)\ttotal: 1m 24s\tremaining: 17.9s\n",
      "165:\tlearn: -0.1366887\ttest: -0.3738655\tbest: -0.3738655 (165)\ttotal: 1m 24s\tremaining: 17.3s\n",
      "166:\tlearn: -0.1360096\ttest: -0.3742883\tbest: -0.3738655 (165)\ttotal: 1m 25s\tremaining: 16.8s\n",
      "167:\tlearn: -0.1350992\ttest: -0.3739761\tbest: -0.3738655 (165)\ttotal: 1m 25s\tremaining: 16.3s\n",
      "168:\tlearn: -0.1342780\ttest: -0.3741079\tbest: -0.3738655 (165)\ttotal: 1m 26s\tremaining: 15.8s\n",
      "169:\tlearn: -0.1335778\ttest: -0.3742614\tbest: -0.3738655 (165)\ttotal: 1m 26s\tremaining: 15.3s\n",
      "170:\tlearn: -0.1329938\ttest: -0.3740240\tbest: -0.3738655 (165)\ttotal: 1m 27s\tremaining: 14.8s\n",
      "171:\tlearn: -0.1324225\ttest: -0.3741331\tbest: -0.3738655 (165)\ttotal: 1m 27s\tremaining: 14.3s\n",
      "172:\tlearn: -0.1317942\ttest: -0.3741611\tbest: -0.3738655 (165)\ttotal: 1m 28s\tremaining: 13.8s\n",
      "173:\tlearn: -0.1305536\ttest: -0.3738673\tbest: -0.3738655 (165)\ttotal: 1m 28s\tremaining: 13.3s\n",
      "174:\tlearn: -0.1297441\ttest: -0.3736753\tbest: -0.3736753 (174)\ttotal: 1m 29s\tremaining: 12.7s\n",
      "175:\tlearn: -0.1293323\ttest: -0.3737540\tbest: -0.3736753 (174)\ttotal: 1m 29s\tremaining: 12.2s\n",
      "176:\tlearn: -0.1285843\ttest: -0.3733879\tbest: -0.3733879 (176)\ttotal: 1m 30s\tremaining: 11.7s\n",
      "177:\tlearn: -0.1278210\ttest: -0.3734511\tbest: -0.3733879 (176)\ttotal: 1m 30s\tremaining: 11.2s\n",
      "178:\tlearn: -0.1270133\ttest: -0.3732392\tbest: -0.3732392 (178)\ttotal: 1m 31s\tremaining: 10.7s\n"
     ]
    },
    {
     "name": "stdout",
     "output_type": "stream",
     "text": [
      "179:\tlearn: -0.1262281\ttest: -0.3729146\tbest: -0.3729146 (179)\ttotal: 1m 31s\tremaining: 10.2s\n",
      "180:\tlearn: -0.1255935\ttest: -0.3729536\tbest: -0.3729146 (179)\ttotal: 1m 32s\tremaining: 9.69s\n",
      "181:\tlearn: -0.1252974\ttest: -0.3727246\tbest: -0.3727246 (181)\ttotal: 1m 32s\tremaining: 9.18s\n",
      "182:\tlearn: -0.1249191\ttest: -0.3726843\tbest: -0.3726843 (182)\ttotal: 1m 33s\tremaining: 8.67s\n",
      "183:\tlearn: -0.1245468\ttest: -0.3725895\tbest: -0.3725895 (183)\ttotal: 1m 33s\tremaining: 8.16s\n",
      "184:\tlearn: -0.1236519\ttest: -0.3720308\tbest: -0.3720308 (184)\ttotal: 1m 34s\tremaining: 7.66s\n",
      "185:\tlearn: -0.1228557\ttest: -0.3720920\tbest: -0.3720308 (184)\ttotal: 1m 34s\tremaining: 7.15s\n",
      "186:\tlearn: -0.1220472\ttest: -0.3715597\tbest: -0.3715597 (186)\ttotal: 1m 35s\tremaining: 6.64s\n",
      "187:\tlearn: -0.1211290\ttest: -0.3717156\tbest: -0.3715597 (186)\ttotal: 1m 36s\tremaining: 6.13s\n",
      "188:\tlearn: -0.1201475\ttest: -0.3713826\tbest: -0.3713826 (188)\ttotal: 1m 36s\tremaining: 5.62s\n",
      "189:\tlearn: -0.1196196\ttest: -0.3712673\tbest: -0.3712673 (189)\ttotal: 1m 36s\tremaining: 5.1s\n",
      "190:\tlearn: -0.1190056\ttest: -0.3709852\tbest: -0.3709852 (190)\ttotal: 1m 37s\tremaining: 4.59s\n",
      "191:\tlearn: -0.1185997\ttest: -0.3706736\tbest: -0.3706736 (191)\ttotal: 1m 37s\tremaining: 4.08s\n",
      "192:\tlearn: -0.1181144\ttest: -0.3703788\tbest: -0.3703788 (192)\ttotal: 1m 38s\tremaining: 3.57s\n",
      "193:\tlearn: -0.1172646\ttest: -0.3698925\tbest: -0.3698925 (193)\ttotal: 1m 38s\tremaining: 3.06s\n",
      "194:\tlearn: -0.1165033\ttest: -0.3695895\tbest: -0.3695895 (194)\ttotal: 1m 39s\tremaining: 2.55s\n",
      "195:\tlearn: -0.1161837\ttest: -0.3692751\tbest: -0.3692751 (195)\ttotal: 1m 39s\tremaining: 2.04s\n",
      "196:\tlearn: -0.1156064\ttest: -0.3690436\tbest: -0.3690436 (196)\ttotal: 1m 40s\tremaining: 1.53s\n",
      "197:\tlearn: -0.1153506\ttest: -0.3690575\tbest: -0.3690436 (196)\ttotal: 1m 40s\tremaining: 1.02s\n",
      "198:\tlearn: -0.1141896\ttest: -0.3692217\tbest: -0.3690436 (196)\ttotal: 1m 41s\tremaining: 509ms\n",
      "199:\tlearn: -0.1136085\ttest: -0.3692591\tbest: -0.3690436 (196)\ttotal: 1m 41s\tremaining: 0us\n",
      "\n",
      "bestTest = -0.3690435827\n",
      "bestIteration = 196\n",
      "\n",
      "Shrink model to first 197 iterations.\n"
     ]
    },
    {
     "data": {
      "text/plain": [
       "<catboost.core.CatBoostClassifier at 0x1a106820b8>"
      ]
     },
     "execution_count": 156,
     "metadata": {},
     "output_type": "execute_result"
    }
   ],
   "source": [
    "cat_X_2 = train_clas.drop(['Cover_Type','Id', 'Cover_Type_Name', 'Wilderness_Area_Name'],1)\n",
    "cat_y_2 = train_clas['Cover_Type']\n",
    "cat_y_2 = [int(x) for x in cat_y_2]\n",
    "cat_y_2 = [str(x-1) for x in cat_y_2]\n",
    "X_train_cat_2, X_test_cat_2, y_train_cat_2, y_test_cat_2 = train_test_split(cat_X_2, cat_y_2, test_size=.3, random_state=42)\n",
    "\n",
    "categorical_features_indices_2 = np.where(X_train_cat_2.dtypes != np.int64)[0]\n",
    "cat_pool_2 = Pool(data = X_train_cat_2, label=y_train_cat_2, cat_features=categorical_features_indices_2)\n",
    "cat_tree_2 = CatBoostClassifier(iterations=200, depth=10, learning_rate=0.3, loss_function=('MultiClass'))\n",
    "cat_tree_2.fit(cat_pool_2, eval_set = (X_test_cat_2, y_test_cat_2))"
   ]
  },
  {
   "cell_type": "code",
   "execution_count": 157,
   "metadata": {
    "ExecuteTime": {
     "end_time": "2018-05-12T21:43:29.825471Z",
     "start_time": "2018-05-12T21:43:29.798608Z"
    }
   },
   "outputs": [
    {
     "data": {
      "text/plain": [
       "array([8.67480721e-05, 2.34235726e-03, 4.68104079e-01, 1.79558823e-02,\n",
       "       1.08433357e-04, 5.11380477e-01, 2.20238018e-05])"
      ]
     },
     "execution_count": 157,
     "metadata": {},
     "output_type": "execute_result"
    }
   ],
   "source": [
    "cat_tree_2.predict_proba(X_test_cat_2)[0] #only 7 possible outcomes, this is correct. adjusting my input to be 0-6 instead of 1-7 worked"
   ]
  },
  {
   "cell_type": "code",
   "execution_count": 177,
   "metadata": {
    "ExecuteTime": {
     "end_time": "2018-05-12T21:49:02.729334Z",
     "start_time": "2018-05-12T21:49:02.689031Z"
    }
   },
   "outputs": [
    {
     "name": "stdout",
     "output_type": "stream",
     "text": [
      "0.8675044091710759\n"
     ]
    },
    {
     "data": {
      "text/plain": [
       "array([[467, 114,   0,   0,   2,   0,  16],\n",
       "       [ 99, 455,   1,   0,  13,   6,   2],\n",
       "       [  1,  21, 545,   8,  18,  53,   0],\n",
       "       [  0,   0,  27, 648,   0,  14,   0],\n",
       "       [ 18,  51,   9,   0, 613,   4,   0],\n",
       "       [  2,  12,  63,   5,   4, 573,   0],\n",
       "       [ 33,   5,   0,   0,   0,   0, 634]])"
      ]
     },
     "execution_count": 177,
     "metadata": {},
     "output_type": "execute_result"
    }
   ],
   "source": [
    "cat_guesses_2 = cat_tree_2.predict(X_test_cat_2)\n",
    "cat_guesses_2 = cat_guesses_2.flatten()\n",
    "cat_guesses_2 = [str(int(i)) for i in cat_guesses_2]\n",
    "print(accuracy_score(cat_guesses_2, y_test_cat_2))\n",
    "confusion_matrix(cat_guesses_2, y_test_cat_2)"
   ]
  },
  {
   "cell_type": "code",
   "execution_count": 191,
   "metadata": {
    "ExecuteTime": {
     "end_time": "2018-05-12T21:57:49.127446Z",
     "start_time": "2018-05-12T21:57:49.098741Z"
    },
    "scrolled": true
   },
   "outputs": [
    {
     "data": {
      "text/plain": [
       "[(0.0, 0.008674807214757087),\n",
       " (1.0, 0.23423572601422835),\n",
       " (2.0, 46.81040786075531),\n",
       " (3.0, 1.7955882272096582),\n",
       " (4.0, 0.01084333574128691),\n",
       " (5.0, 51.13804766288945),\n",
       " (6.0, 0.0022023801753065174)]"
      ]
     },
     "execution_count": 191,
     "metadata": {},
     "output_type": "execute_result"
    }
   ],
   "source": [
    "list(zip(cat_tree_2.classes_, cat_tree_2.predict_proba(X_test_cat_2)[0]*100))"
   ]
  },
  {
   "cell_type": "code",
   "execution_count": 270,
   "metadata": {
    "ExecuteTime": {
     "end_time": "2018-05-12T22:23:52.468604Z",
     "start_time": "2018-05-12T22:23:52.331095Z"
    }
   },
   "outputs": [
    {
     "data": {
      "text/plain": [
       "<matplotlib.axes._subplots.AxesSubplot at 0x1a242418d0>"
      ]
     },
     "execution_count": 270,
     "metadata": {},
     "output_type": "execute_result"
    },
    {
     "data": {
      "image/svg+xml": [
       "<?xml version=\"1.0\" encoding=\"utf-8\" standalone=\"no\"?>\n",
       "<!DOCTYPE svg PUBLIC \"-//W3C//DTD SVG 1.1//EN\"\n",
       "  \"http://www.w3.org/Graphics/SVG/1.1/DTD/svg11.dtd\">\n",
       "<!-- Created with matplotlib (http://matplotlib.org/) -->\n",
       "<svg height=\"252.018125pt\" version=\"1.1\" viewBox=\"0 0 372.425 252.018125\" width=\"372.425pt\" xmlns=\"http://www.w3.org/2000/svg\" xmlns:xlink=\"http://www.w3.org/1999/xlink\">\n",
       " <defs>\n",
       "  <style type=\"text/css\">\n",
       "*{stroke-linecap:butt;stroke-linejoin:round;}\n",
       "  </style>\n",
       " </defs>\n",
       " <g id=\"figure_1\">\n",
       "  <g id=\"patch_1\">\n",
       "   <path d=\"M -0 252.018125 \n",
       "L 372.425 252.018125 \n",
       "L 372.425 0 \n",
       "L -0 0 \n",
       "z\n",
       "\" style=\"fill:none;\"/>\n",
       "  </g>\n",
       "  <g id=\"axes_1\">\n",
       "   <g id=\"patch_2\">\n",
       "    <path d=\"M 26.925 228.14 \n",
       "L 361.725 228.14 \n",
       "L 361.725 10.7 \n",
       "L 26.925 10.7 \n",
       "z\n",
       "\" style=\"fill:#ffffff;\"/>\n",
       "   </g>\n",
       "   <g id=\"patch_3\">\n",
       "    <path clip-path=\"url(#p547b8729a7)\" d=\"M 31.707857 228.14 \n",
       "L 69.970714 228.14 \n",
       "L 69.970714 228.096651 \n",
       "L 31.707857 228.096651 \n",
       "z\n",
       "\" style=\"fill:#3274a1;\"/>\n",
       "   </g>\n",
       "   <g id=\"patch_4\">\n",
       "    <path clip-path=\"url(#p547b8729a7)\" d=\"M 79.536429 228.14 \n",
       "L 117.799286 228.14 \n",
       "L 117.799286 227.767135 \n",
       "L 79.536429 227.767135 \n",
       "z\n",
       "\" style=\"fill:#e1812c;\"/>\n",
       "   </g>\n",
       "   <g id=\"patch_5\">\n",
       "    <path clip-path=\"url(#p547b8729a7)\" d=\"M 127.365 228.14 \n",
       "L 165.627857 228.14 \n",
       "L 165.627857 21.054286 \n",
       "L 127.365 21.054286 \n",
       "z\n",
       "\" style=\"fill:#3a923a;\"/>\n",
       "   </g>\n",
       "   <g id=\"patch_6\">\n",
       "    <path clip-path=\"url(#p547b8729a7)\" d=\"M 175.193571 228.14 \n",
       "L 213.456429 228.14 \n",
       "L 213.456429 214.844555 \n",
       "L 175.193571 214.844555 \n",
       "z\n",
       "\" style=\"fill:#c03d3e;\"/>\n",
       "   </g>\n",
       "   <g id=\"patch_7\">\n",
       "    <path clip-path=\"url(#p547b8729a7)\" d=\"M 223.022143 228.14 \n",
       "L 261.285 228.14 \n",
       "L 261.285 228.092005 \n",
       "L 223.022143 228.092005 \n",
       "z\n",
       "\" style=\"fill:#9372b2;\"/>\n",
       "   </g>\n",
       "   <g id=\"patch_8\">\n",
       "    <path clip-path=\"url(#p547b8729a7)\" d=\"M 270.850714 228.14 \n",
       "L 309.113571 228.14 \n",
       "L 309.113571 205.525227 \n",
       "L 270.850714 205.525227 \n",
       "z\n",
       "\" style=\"fill:#845b53;\"/>\n",
       "   </g>\n",
       "   <g id=\"patch_9\">\n",
       "    <path clip-path=\"url(#p547b8729a7)\" d=\"M 318.679286 228.14 \n",
       "L 356.942143 228.14 \n",
       "L 356.942143 228.118676 \n",
       "L 318.679286 228.118676 \n",
       "z\n",
       "\" style=\"fill:#d684bd;\"/>\n",
       "   </g>\n",
       "   <g id=\"matplotlib.axis_1\">\n",
       "    <g id=\"xtick_1\">\n",
       "     <g id=\"line2d_1\">\n",
       "      <defs>\n",
       "       <path d=\"M 0 0 \n",
       "L 0 3.5 \n",
       "\" id=\"me691b95ab1\" style=\"stroke:#000000;stroke-width:0.8;\"/>\n",
       "      </defs>\n",
       "      <g>\n",
       "       <use style=\"stroke:#000000;stroke-width:0.8;\" x=\"50.839286\" xlink:href=\"#me691b95ab1\" y=\"228.14\"/>\n",
       "      </g>\n",
       "     </g>\n",
       "     <g id=\"text_1\">\n",
       "      <!-- 0.0 -->\n",
       "      <defs>\n",
       "       <path d=\"M 31.78125 66.40625 \n",
       "Q 24.171875 66.40625 20.328125 58.90625 \n",
       "Q 16.5 51.421875 16.5 36.375 \n",
       "Q 16.5 21.390625 20.328125 13.890625 \n",
       "Q 24.171875 6.390625 31.78125 6.390625 \n",
       "Q 39.453125 6.390625 43.28125 13.890625 \n",
       "Q 47.125 21.390625 47.125 36.375 \n",
       "Q 47.125 51.421875 43.28125 58.90625 \n",
       "Q 39.453125 66.40625 31.78125 66.40625 \n",
       "z\n",
       "M 31.78125 74.21875 \n",
       "Q 44.046875 74.21875 50.515625 64.515625 \n",
       "Q 56.984375 54.828125 56.984375 36.375 \n",
       "Q 56.984375 17.96875 50.515625 8.265625 \n",
       "Q 44.046875 -1.421875 31.78125 -1.421875 \n",
       "Q 19.53125 -1.421875 13.0625 8.265625 \n",
       "Q 6.59375 17.96875 6.59375 36.375 \n",
       "Q 6.59375 54.828125 13.0625 64.515625 \n",
       "Q 19.53125 74.21875 31.78125 74.21875 \n",
       "z\n",
       "\" id=\"DejaVuSans-30\"/>\n",
       "       <path d=\"M 10.6875 12.40625 \n",
       "L 21 12.40625 \n",
       "L 21 0 \n",
       "L 10.6875 0 \n",
       "z\n",
       "\" id=\"DejaVuSans-2e\"/>\n",
       "      </defs>\n",
       "      <g transform=\"translate(42.887723 242.738437)scale(0.1 -0.1)\">\n",
       "       <use xlink:href=\"#DejaVuSans-30\"/>\n",
       "       <use x=\"63.623047\" xlink:href=\"#DejaVuSans-2e\"/>\n",
       "       <use x=\"95.410156\" xlink:href=\"#DejaVuSans-30\"/>\n",
       "      </g>\n",
       "     </g>\n",
       "    </g>\n",
       "    <g id=\"xtick_2\">\n",
       "     <g id=\"line2d_2\">\n",
       "      <g>\n",
       "       <use style=\"stroke:#000000;stroke-width:0.8;\" x=\"98.667857\" xlink:href=\"#me691b95ab1\" y=\"228.14\"/>\n",
       "      </g>\n",
       "     </g>\n",
       "     <g id=\"text_2\">\n",
       "      <!-- 1.0 -->\n",
       "      <defs>\n",
       "       <path d=\"M 12.40625 8.296875 \n",
       "L 28.515625 8.296875 \n",
       "L 28.515625 63.921875 \n",
       "L 10.984375 60.40625 \n",
       "L 10.984375 69.390625 \n",
       "L 28.421875 72.90625 \n",
       "L 38.28125 72.90625 \n",
       "L 38.28125 8.296875 \n",
       "L 54.390625 8.296875 \n",
       "L 54.390625 0 \n",
       "L 12.40625 0 \n",
       "z\n",
       "\" id=\"DejaVuSans-31\"/>\n",
       "      </defs>\n",
       "      <g transform=\"translate(90.716295 242.738437)scale(0.1 -0.1)\">\n",
       "       <use xlink:href=\"#DejaVuSans-31\"/>\n",
       "       <use x=\"63.623047\" xlink:href=\"#DejaVuSans-2e\"/>\n",
       "       <use x=\"95.410156\" xlink:href=\"#DejaVuSans-30\"/>\n",
       "      </g>\n",
       "     </g>\n",
       "    </g>\n",
       "    <g id=\"xtick_3\">\n",
       "     <g id=\"line2d_3\">\n",
       "      <g>\n",
       "       <use style=\"stroke:#000000;stroke-width:0.8;\" x=\"146.496429\" xlink:href=\"#me691b95ab1\" y=\"228.14\"/>\n",
       "      </g>\n",
       "     </g>\n",
       "     <g id=\"text_3\">\n",
       "      <!-- 2.0 -->\n",
       "      <defs>\n",
       "       <path d=\"M 19.1875 8.296875 \n",
       "L 53.609375 8.296875 \n",
       "L 53.609375 0 \n",
       "L 7.328125 0 \n",
       "L 7.328125 8.296875 \n",
       "Q 12.9375 14.109375 22.625 23.890625 \n",
       "Q 32.328125 33.6875 34.8125 36.53125 \n",
       "Q 39.546875 41.84375 41.421875 45.53125 \n",
       "Q 43.3125 49.21875 43.3125 52.78125 \n",
       "Q 43.3125 58.59375 39.234375 62.25 \n",
       "Q 35.15625 65.921875 28.609375 65.921875 \n",
       "Q 23.96875 65.921875 18.8125 64.3125 \n",
       "Q 13.671875 62.703125 7.8125 59.421875 \n",
       "L 7.8125 69.390625 \n",
       "Q 13.765625 71.78125 18.9375 73 \n",
       "Q 24.125 74.21875 28.421875 74.21875 \n",
       "Q 39.75 74.21875 46.484375 68.546875 \n",
       "Q 53.21875 62.890625 53.21875 53.421875 \n",
       "Q 53.21875 48.921875 51.53125 44.890625 \n",
       "Q 49.859375 40.875 45.40625 35.40625 \n",
       "Q 44.1875 33.984375 37.640625 27.21875 \n",
       "Q 31.109375 20.453125 19.1875 8.296875 \n",
       "z\n",
       "\" id=\"DejaVuSans-32\"/>\n",
       "      </defs>\n",
       "      <g transform=\"translate(138.544866 242.738437)scale(0.1 -0.1)\">\n",
       "       <use xlink:href=\"#DejaVuSans-32\"/>\n",
       "       <use x=\"63.623047\" xlink:href=\"#DejaVuSans-2e\"/>\n",
       "       <use x=\"95.410156\" xlink:href=\"#DejaVuSans-30\"/>\n",
       "      </g>\n",
       "     </g>\n",
       "    </g>\n",
       "    <g id=\"xtick_4\">\n",
       "     <g id=\"line2d_4\">\n",
       "      <g>\n",
       "       <use style=\"stroke:#000000;stroke-width:0.8;\" x=\"194.325\" xlink:href=\"#me691b95ab1\" y=\"228.14\"/>\n",
       "      </g>\n",
       "     </g>\n",
       "     <g id=\"text_4\">\n",
       "      <!-- 3.0 -->\n",
       "      <defs>\n",
       "       <path d=\"M 40.578125 39.3125 \n",
       "Q 47.65625 37.796875 51.625 33 \n",
       "Q 55.609375 28.21875 55.609375 21.1875 \n",
       "Q 55.609375 10.40625 48.1875 4.484375 \n",
       "Q 40.765625 -1.421875 27.09375 -1.421875 \n",
       "Q 22.515625 -1.421875 17.65625 -0.515625 \n",
       "Q 12.796875 0.390625 7.625 2.203125 \n",
       "L 7.625 11.71875 \n",
       "Q 11.71875 9.328125 16.59375 8.109375 \n",
       "Q 21.484375 6.890625 26.8125 6.890625 \n",
       "Q 36.078125 6.890625 40.9375 10.546875 \n",
       "Q 45.796875 14.203125 45.796875 21.1875 \n",
       "Q 45.796875 27.640625 41.28125 31.265625 \n",
       "Q 36.765625 34.90625 28.71875 34.90625 \n",
       "L 20.21875 34.90625 \n",
       "L 20.21875 43.015625 \n",
       "L 29.109375 43.015625 \n",
       "Q 36.375 43.015625 40.234375 45.921875 \n",
       "Q 44.09375 48.828125 44.09375 54.296875 \n",
       "Q 44.09375 59.90625 40.109375 62.90625 \n",
       "Q 36.140625 65.921875 28.71875 65.921875 \n",
       "Q 24.65625 65.921875 20.015625 65.03125 \n",
       "Q 15.375 64.15625 9.8125 62.3125 \n",
       "L 9.8125 71.09375 \n",
       "Q 15.4375 72.65625 20.34375 73.4375 \n",
       "Q 25.25 74.21875 29.59375 74.21875 \n",
       "Q 40.828125 74.21875 47.359375 69.109375 \n",
       "Q 53.90625 64.015625 53.90625 55.328125 \n",
       "Q 53.90625 49.265625 50.4375 45.09375 \n",
       "Q 46.96875 40.921875 40.578125 39.3125 \n",
       "z\n",
       "\" id=\"DejaVuSans-33\"/>\n",
       "      </defs>\n",
       "      <g transform=\"translate(186.373438 242.738437)scale(0.1 -0.1)\">\n",
       "       <use xlink:href=\"#DejaVuSans-33\"/>\n",
       "       <use x=\"63.623047\" xlink:href=\"#DejaVuSans-2e\"/>\n",
       "       <use x=\"95.410156\" xlink:href=\"#DejaVuSans-30\"/>\n",
       "      </g>\n",
       "     </g>\n",
       "    </g>\n",
       "    <g id=\"xtick_5\">\n",
       "     <g id=\"line2d_5\">\n",
       "      <g>\n",
       "       <use style=\"stroke:#000000;stroke-width:0.8;\" x=\"242.153571\" xlink:href=\"#me691b95ab1\" y=\"228.14\"/>\n",
       "      </g>\n",
       "     </g>\n",
       "     <g id=\"text_5\">\n",
       "      <!-- 4.0 -->\n",
       "      <defs>\n",
       "       <path d=\"M 37.796875 64.3125 \n",
       "L 12.890625 25.390625 \n",
       "L 37.796875 25.390625 \n",
       "z\n",
       "M 35.203125 72.90625 \n",
       "L 47.609375 72.90625 \n",
       "L 47.609375 25.390625 \n",
       "L 58.015625 25.390625 \n",
       "L 58.015625 17.1875 \n",
       "L 47.609375 17.1875 \n",
       "L 47.609375 0 \n",
       "L 37.796875 0 \n",
       "L 37.796875 17.1875 \n",
       "L 4.890625 17.1875 \n",
       "L 4.890625 26.703125 \n",
       "z\n",
       "\" id=\"DejaVuSans-34\"/>\n",
       "      </defs>\n",
       "      <g transform=\"translate(234.202009 242.738437)scale(0.1 -0.1)\">\n",
       "       <use xlink:href=\"#DejaVuSans-34\"/>\n",
       "       <use x=\"63.623047\" xlink:href=\"#DejaVuSans-2e\"/>\n",
       "       <use x=\"95.410156\" xlink:href=\"#DejaVuSans-30\"/>\n",
       "      </g>\n",
       "     </g>\n",
       "    </g>\n",
       "    <g id=\"xtick_6\">\n",
       "     <g id=\"line2d_6\">\n",
       "      <g>\n",
       "       <use style=\"stroke:#000000;stroke-width:0.8;\" x=\"289.982143\" xlink:href=\"#me691b95ab1\" y=\"228.14\"/>\n",
       "      </g>\n",
       "     </g>\n",
       "     <g id=\"text_6\">\n",
       "      <!-- 5.0 -->\n",
       "      <defs>\n",
       "       <path d=\"M 10.796875 72.90625 \n",
       "L 49.515625 72.90625 \n",
       "L 49.515625 64.59375 \n",
       "L 19.828125 64.59375 \n",
       "L 19.828125 46.734375 \n",
       "Q 21.96875 47.46875 24.109375 47.828125 \n",
       "Q 26.265625 48.1875 28.421875 48.1875 \n",
       "Q 40.625 48.1875 47.75 41.5 \n",
       "Q 54.890625 34.8125 54.890625 23.390625 \n",
       "Q 54.890625 11.625 47.5625 5.09375 \n",
       "Q 40.234375 -1.421875 26.90625 -1.421875 \n",
       "Q 22.3125 -1.421875 17.546875 -0.640625 \n",
       "Q 12.796875 0.140625 7.71875 1.703125 \n",
       "L 7.71875 11.625 \n",
       "Q 12.109375 9.234375 16.796875 8.0625 \n",
       "Q 21.484375 6.890625 26.703125 6.890625 \n",
       "Q 35.15625 6.890625 40.078125 11.328125 \n",
       "Q 45.015625 15.765625 45.015625 23.390625 \n",
       "Q 45.015625 31 40.078125 35.4375 \n",
       "Q 35.15625 39.890625 26.703125 39.890625 \n",
       "Q 22.75 39.890625 18.8125 39.015625 \n",
       "Q 14.890625 38.140625 10.796875 36.28125 \n",
       "z\n",
       "\" id=\"DejaVuSans-35\"/>\n",
       "      </defs>\n",
       "      <g transform=\"translate(282.03058 242.738437)scale(0.1 -0.1)\">\n",
       "       <use xlink:href=\"#DejaVuSans-35\"/>\n",
       "       <use x=\"63.623047\" xlink:href=\"#DejaVuSans-2e\"/>\n",
       "       <use x=\"95.410156\" xlink:href=\"#DejaVuSans-30\"/>\n",
       "      </g>\n",
       "     </g>\n",
       "    </g>\n",
       "    <g id=\"xtick_7\">\n",
       "     <g id=\"line2d_7\">\n",
       "      <g>\n",
       "       <use style=\"stroke:#000000;stroke-width:0.8;\" x=\"337.810714\" xlink:href=\"#me691b95ab1\" y=\"228.14\"/>\n",
       "      </g>\n",
       "     </g>\n",
       "     <g id=\"text_7\">\n",
       "      <!-- 6.0 -->\n",
       "      <defs>\n",
       "       <path d=\"M 33.015625 40.375 \n",
       "Q 26.375 40.375 22.484375 35.828125 \n",
       "Q 18.609375 31.296875 18.609375 23.390625 \n",
       "Q 18.609375 15.53125 22.484375 10.953125 \n",
       "Q 26.375 6.390625 33.015625 6.390625 \n",
       "Q 39.65625 6.390625 43.53125 10.953125 \n",
       "Q 47.40625 15.53125 47.40625 23.390625 \n",
       "Q 47.40625 31.296875 43.53125 35.828125 \n",
       "Q 39.65625 40.375 33.015625 40.375 \n",
       "z\n",
       "M 52.59375 71.296875 \n",
       "L 52.59375 62.3125 \n",
       "Q 48.875 64.0625 45.09375 64.984375 \n",
       "Q 41.3125 65.921875 37.59375 65.921875 \n",
       "Q 27.828125 65.921875 22.671875 59.328125 \n",
       "Q 17.53125 52.734375 16.796875 39.40625 \n",
       "Q 19.671875 43.65625 24.015625 45.921875 \n",
       "Q 28.375 48.1875 33.59375 48.1875 \n",
       "Q 44.578125 48.1875 50.953125 41.515625 \n",
       "Q 57.328125 34.859375 57.328125 23.390625 \n",
       "Q 57.328125 12.15625 50.6875 5.359375 \n",
       "Q 44.046875 -1.421875 33.015625 -1.421875 \n",
       "Q 20.359375 -1.421875 13.671875 8.265625 \n",
       "Q 6.984375 17.96875 6.984375 36.375 \n",
       "Q 6.984375 53.65625 15.1875 63.9375 \n",
       "Q 23.390625 74.21875 37.203125 74.21875 \n",
       "Q 40.921875 74.21875 44.703125 73.484375 \n",
       "Q 48.484375 72.75 52.59375 71.296875 \n",
       "z\n",
       "\" id=\"DejaVuSans-36\"/>\n",
       "      </defs>\n",
       "      <g transform=\"translate(329.859152 242.738437)scale(0.1 -0.1)\">\n",
       "       <use xlink:href=\"#DejaVuSans-36\"/>\n",
       "       <use x=\"63.623047\" xlink:href=\"#DejaVuSans-2e\"/>\n",
       "       <use x=\"95.410156\" xlink:href=\"#DejaVuSans-30\"/>\n",
       "      </g>\n",
       "     </g>\n",
       "    </g>\n",
       "   </g>\n",
       "   <g id=\"matplotlib.axis_2\">\n",
       "    <g id=\"ytick_1\">\n",
       "     <g id=\"line2d_8\">\n",
       "      <defs>\n",
       "       <path d=\"M 0 0 \n",
       "L -3.5 0 \n",
       "\" id=\"m3ac0cc7410\" style=\"stroke:#000000;stroke-width:0.8;\"/>\n",
       "      </defs>\n",
       "      <g>\n",
       "       <use style=\"stroke:#000000;stroke-width:0.8;\" x=\"26.925\" xlink:href=\"#m3ac0cc7410\" y=\"228.14\"/>\n",
       "      </g>\n",
       "     </g>\n",
       "     <g id=\"text_8\">\n",
       "      <!-- 0 -->\n",
       "      <g transform=\"translate(13.5625 231.939219)scale(0.1 -0.1)\">\n",
       "       <use xlink:href=\"#DejaVuSans-30\"/>\n",
       "      </g>\n",
       "     </g>\n",
       "    </g>\n",
       "    <g id=\"ytick_2\">\n",
       "     <g id=\"line2d_9\">\n",
       "      <g>\n",
       "       <use style=\"stroke:#000000;stroke-width:0.8;\" x=\"26.925\" xlink:href=\"#m3ac0cc7410\" y=\"203.791854\"/>\n",
       "      </g>\n",
       "     </g>\n",
       "     <g id=\"text_9\">\n",
       "      <!-- 10 -->\n",
       "      <g transform=\"translate(7.2 207.591072)scale(0.1 -0.1)\">\n",
       "       <use xlink:href=\"#DejaVuSans-31\"/>\n",
       "       <use x=\"63.623047\" xlink:href=\"#DejaVuSans-30\"/>\n",
       "      </g>\n",
       "     </g>\n",
       "    </g>\n",
       "    <g id=\"ytick_3\">\n",
       "     <g id=\"line2d_10\">\n",
       "      <g>\n",
       "       <use style=\"stroke:#000000;stroke-width:0.8;\" x=\"26.925\" xlink:href=\"#m3ac0cc7410\" y=\"179.443707\"/>\n",
       "      </g>\n",
       "     </g>\n",
       "     <g id=\"text_10\">\n",
       "      <!-- 20 -->\n",
       "      <g transform=\"translate(7.2 183.242926)scale(0.1 -0.1)\">\n",
       "       <use xlink:href=\"#DejaVuSans-32\"/>\n",
       "       <use x=\"63.623047\" xlink:href=\"#DejaVuSans-30\"/>\n",
       "      </g>\n",
       "     </g>\n",
       "    </g>\n",
       "    <g id=\"ytick_4\">\n",
       "     <g id=\"line2d_11\">\n",
       "      <g>\n",
       "       <use style=\"stroke:#000000;stroke-width:0.8;\" x=\"26.925\" xlink:href=\"#m3ac0cc7410\" y=\"155.095561\"/>\n",
       "      </g>\n",
       "     </g>\n",
       "     <g id=\"text_11\">\n",
       "      <!-- 30 -->\n",
       "      <g transform=\"translate(7.2 158.894779)scale(0.1 -0.1)\">\n",
       "       <use xlink:href=\"#DejaVuSans-33\"/>\n",
       "       <use x=\"63.623047\" xlink:href=\"#DejaVuSans-30\"/>\n",
       "      </g>\n",
       "     </g>\n",
       "    </g>\n",
       "    <g id=\"ytick_5\">\n",
       "     <g id=\"line2d_12\">\n",
       "      <g>\n",
       "       <use style=\"stroke:#000000;stroke-width:0.8;\" x=\"26.925\" xlink:href=\"#m3ac0cc7410\" y=\"130.747414\"/>\n",
       "      </g>\n",
       "     </g>\n",
       "     <g id=\"text_12\">\n",
       "      <!-- 40 -->\n",
       "      <g transform=\"translate(7.2 134.546633)scale(0.1 -0.1)\">\n",
       "       <use xlink:href=\"#DejaVuSans-34\"/>\n",
       "       <use x=\"63.623047\" xlink:href=\"#DejaVuSans-30\"/>\n",
       "      </g>\n",
       "     </g>\n",
       "    </g>\n",
       "    <g id=\"ytick_6\">\n",
       "     <g id=\"line2d_13\">\n",
       "      <g>\n",
       "       <use style=\"stroke:#000000;stroke-width:0.8;\" x=\"26.925\" xlink:href=\"#m3ac0cc7410\" y=\"106.399268\"/>\n",
       "      </g>\n",
       "     </g>\n",
       "     <g id=\"text_13\">\n",
       "      <!-- 50 -->\n",
       "      <g transform=\"translate(7.2 110.198486)scale(0.1 -0.1)\">\n",
       "       <use xlink:href=\"#DejaVuSans-35\"/>\n",
       "       <use x=\"63.623047\" xlink:href=\"#DejaVuSans-30\"/>\n",
       "      </g>\n",
       "     </g>\n",
       "    </g>\n",
       "    <g id=\"ytick_7\">\n",
       "     <g id=\"line2d_14\">\n",
       "      <g>\n",
       "       <use style=\"stroke:#000000;stroke-width:0.8;\" x=\"26.925\" xlink:href=\"#m3ac0cc7410\" y=\"82.051121\"/>\n",
       "      </g>\n",
       "     </g>\n",
       "     <g id=\"text_14\">\n",
       "      <!-- 60 -->\n",
       "      <g transform=\"translate(7.2 85.85034)scale(0.1 -0.1)\">\n",
       "       <use xlink:href=\"#DejaVuSans-36\"/>\n",
       "       <use x=\"63.623047\" xlink:href=\"#DejaVuSans-30\"/>\n",
       "      </g>\n",
       "     </g>\n",
       "    </g>\n",
       "    <g id=\"ytick_8\">\n",
       "     <g id=\"line2d_15\">\n",
       "      <g>\n",
       "       <use style=\"stroke:#000000;stroke-width:0.8;\" x=\"26.925\" xlink:href=\"#m3ac0cc7410\" y=\"57.702975\"/>\n",
       "      </g>\n",
       "     </g>\n",
       "     <g id=\"text_15\">\n",
       "      <!-- 70 -->\n",
       "      <defs>\n",
       "       <path d=\"M 8.203125 72.90625 \n",
       "L 55.078125 72.90625 \n",
       "L 55.078125 68.703125 \n",
       "L 28.609375 0 \n",
       "L 18.3125 0 \n",
       "L 43.21875 64.59375 \n",
       "L 8.203125 64.59375 \n",
       "z\n",
       "\" id=\"DejaVuSans-37\"/>\n",
       "      </defs>\n",
       "      <g transform=\"translate(7.2 61.502193)scale(0.1 -0.1)\">\n",
       "       <use xlink:href=\"#DejaVuSans-37\"/>\n",
       "       <use x=\"63.623047\" xlink:href=\"#DejaVuSans-30\"/>\n",
       "      </g>\n",
       "     </g>\n",
       "    </g>\n",
       "    <g id=\"ytick_9\">\n",
       "     <g id=\"line2d_16\">\n",
       "      <g>\n",
       "       <use style=\"stroke:#000000;stroke-width:0.8;\" x=\"26.925\" xlink:href=\"#m3ac0cc7410\" y=\"33.354828\"/>\n",
       "      </g>\n",
       "     </g>\n",
       "     <g id=\"text_16\">\n",
       "      <!-- 80 -->\n",
       "      <defs>\n",
       "       <path d=\"M 31.78125 34.625 \n",
       "Q 24.75 34.625 20.71875 30.859375 \n",
       "Q 16.703125 27.09375 16.703125 20.515625 \n",
       "Q 16.703125 13.921875 20.71875 10.15625 \n",
       "Q 24.75 6.390625 31.78125 6.390625 \n",
       "Q 38.8125 6.390625 42.859375 10.171875 \n",
       "Q 46.921875 13.96875 46.921875 20.515625 \n",
       "Q 46.921875 27.09375 42.890625 30.859375 \n",
       "Q 38.875 34.625 31.78125 34.625 \n",
       "z\n",
       "M 21.921875 38.8125 \n",
       "Q 15.578125 40.375 12.03125 44.71875 \n",
       "Q 8.5 49.078125 8.5 55.328125 \n",
       "Q 8.5 64.0625 14.71875 69.140625 \n",
       "Q 20.953125 74.21875 31.78125 74.21875 \n",
       "Q 42.671875 74.21875 48.875 69.140625 \n",
       "Q 55.078125 64.0625 55.078125 55.328125 \n",
       "Q 55.078125 49.078125 51.53125 44.71875 \n",
       "Q 48 40.375 41.703125 38.8125 \n",
       "Q 48.828125 37.15625 52.796875 32.3125 \n",
       "Q 56.78125 27.484375 56.78125 20.515625 \n",
       "Q 56.78125 9.90625 50.3125 4.234375 \n",
       "Q 43.84375 -1.421875 31.78125 -1.421875 \n",
       "Q 19.734375 -1.421875 13.25 4.234375 \n",
       "Q 6.78125 9.90625 6.78125 20.515625 \n",
       "Q 6.78125 27.484375 10.78125 32.3125 \n",
       "Q 14.796875 37.15625 21.921875 38.8125 \n",
       "z\n",
       "M 18.3125 54.390625 \n",
       "Q 18.3125 48.734375 21.84375 45.5625 \n",
       "Q 25.390625 42.390625 31.78125 42.390625 \n",
       "Q 38.140625 42.390625 41.71875 45.5625 \n",
       "Q 45.3125 48.734375 45.3125 54.390625 \n",
       "Q 45.3125 60.0625 41.71875 63.234375 \n",
       "Q 38.140625 66.40625 31.78125 66.40625 \n",
       "Q 25.390625 66.40625 21.84375 63.234375 \n",
       "Q 18.3125 60.0625 18.3125 54.390625 \n",
       "z\n",
       "\" id=\"DejaVuSans-38\"/>\n",
       "      </defs>\n",
       "      <g transform=\"translate(7.2 37.154047)scale(0.1 -0.1)\">\n",
       "       <use xlink:href=\"#DejaVuSans-38\"/>\n",
       "       <use x=\"63.623047\" xlink:href=\"#DejaVuSans-30\"/>\n",
       "      </g>\n",
       "     </g>\n",
       "    </g>\n",
       "   </g>\n",
       "   <g id=\"line2d_17\">\n",
       "    <path clip-path=\"url(#p547b8729a7)\" d=\"M 0 0 \n",
       "\" style=\"fill:none;stroke:#424242;stroke-linecap:square;stroke-width:2.7;\"/>\n",
       "   </g>\n",
       "   <g id=\"line2d_18\">\n",
       "    <path clip-path=\"url(#p547b8729a7)\" d=\"M 0 0 \n",
       "\" style=\"fill:none;stroke:#424242;stroke-linecap:square;stroke-width:2.7;\"/>\n",
       "   </g>\n",
       "   <g id=\"line2d_19\">\n",
       "    <path clip-path=\"url(#p547b8729a7)\" d=\"M 0 0 \n",
       "\" style=\"fill:none;stroke:#424242;stroke-linecap:square;stroke-width:2.7;\"/>\n",
       "   </g>\n",
       "   <g id=\"line2d_20\">\n",
       "    <path clip-path=\"url(#p547b8729a7)\" d=\"M 0 0 \n",
       "\" style=\"fill:none;stroke:#424242;stroke-linecap:square;stroke-width:2.7;\"/>\n",
       "   </g>\n",
       "   <g id=\"line2d_21\">\n",
       "    <path clip-path=\"url(#p547b8729a7)\" d=\"M 0 0 \n",
       "\" style=\"fill:none;stroke:#424242;stroke-linecap:square;stroke-width:2.7;\"/>\n",
       "   </g>\n",
       "   <g id=\"line2d_22\">\n",
       "    <path clip-path=\"url(#p547b8729a7)\" d=\"M 0 0 \n",
       "\" style=\"fill:none;stroke:#424242;stroke-linecap:square;stroke-width:2.7;\"/>\n",
       "   </g>\n",
       "   <g id=\"line2d_23\">\n",
       "    <path clip-path=\"url(#p547b8729a7)\" d=\"M 0 0 \n",
       "\" style=\"fill:none;stroke:#424242;stroke-linecap:square;stroke-width:2.7;\"/>\n",
       "   </g>\n",
       "   <g id=\"patch_10\">\n",
       "    <path d=\"M 26.925 228.14 \n",
       "L 26.925 10.7 \n",
       "\" style=\"fill:none;stroke:#000000;stroke-linecap:square;stroke-linejoin:miter;stroke-width:0.8;\"/>\n",
       "   </g>\n",
       "   <g id=\"patch_11\">\n",
       "    <path d=\"M 361.725 228.14 \n",
       "L 361.725 10.7 \n",
       "\" style=\"fill:none;stroke:#000000;stroke-linecap:square;stroke-linejoin:miter;stroke-width:0.8;\"/>\n",
       "   </g>\n",
       "   <g id=\"patch_12\">\n",
       "    <path d=\"M 26.925 228.14 \n",
       "L 361.725 228.14 \n",
       "\" style=\"fill:none;stroke:#000000;stroke-linecap:square;stroke-linejoin:miter;stroke-width:0.8;\"/>\n",
       "   </g>\n",
       "   <g id=\"patch_13\">\n",
       "    <path d=\"M 26.925 10.7 \n",
       "L 361.725 10.7 \n",
       "\" style=\"fill:none;stroke:#000000;stroke-linecap:square;stroke-linejoin:miter;stroke-width:0.8;\"/>\n",
       "   </g>\n",
       "  </g>\n",
       " </g>\n",
       " <defs>\n",
       "  <clipPath id=\"p547b8729a7\">\n",
       "   <rect height=\"217.44\" width=\"334.8\" x=\"26.925\" y=\"10.7\"/>\n",
       "  </clipPath>\n",
       " </defs>\n",
       "</svg>\n"
      ],
      "text/plain": [
       "<Figure size 432x288 with 1 Axes>"
      ]
     },
     "metadata": {},
     "output_type": "display_data"
    }
   ],
   "source": [
    "#Test the catboost model with 1 set of data. prediction it gives is what it is accurate\n",
    "#for use in trying to create a data visualization\n",
    "cols_to_use = X_train_cat_2.columns\n",
    "data = [[2500,51,3,1,120,510,221,100,148,3,4,1]]\n",
    "data_df = pd.DataFrame(data, columns=cols_to_use)\n",
    "for_flask_app1, for_flask_app2 = cat_tree_2.classes_, (cat_tree_2.predict_proba(data_df)*100).flatten()\n",
    "sns.barplot(x=for_flask_app1, y=for_flask_app2)"
   ]
  },
  {
   "cell_type": "code",
   "execution_count": 253,
   "metadata": {
    "ExecuteTime": {
     "end_time": "2018-05-12T22:20:20.212195Z",
     "start_time": "2018-05-12T22:20:20.097682Z"
    }
   },
   "outputs": [
    {
     "data": {
      "text/plain": [
       "<matplotlib.axes._subplots.AxesSubplot at 0x1a134b3470>"
      ]
     },
     "execution_count": 253,
     "metadata": {},
     "output_type": "execute_result"
    },
    {
     "data": {
      "image/svg+xml": [
       "<?xml version=\"1.0\" encoding=\"utf-8\" standalone=\"no\"?>\n",
       "<!DOCTYPE svg PUBLIC \"-//W3C//DTD SVG 1.1//EN\"\n",
       "  \"http://www.w3.org/Graphics/SVG/1.1/DTD/svg11.dtd\">\n",
       "<!-- Created with matplotlib (http://matplotlib.org/) -->\n",
       "<svg height=\"252.018125pt\" version=\"1.1\" viewBox=\"0 0 372.425 252.018125\" width=\"372.425pt\" xmlns=\"http://www.w3.org/2000/svg\" xmlns:xlink=\"http://www.w3.org/1999/xlink\">\n",
       " <defs>\n",
       "  <style type=\"text/css\">\n",
       "*{stroke-linecap:butt;stroke-linejoin:round;}\n",
       "  </style>\n",
       " </defs>\n",
       " <g id=\"figure_1\">\n",
       "  <g id=\"patch_1\">\n",
       "   <path d=\"M -0 252.018125 \n",
       "L 372.425 252.018125 \n",
       "L 372.425 0 \n",
       "L -0 0 \n",
       "z\n",
       "\" style=\"fill:none;\"/>\n",
       "  </g>\n",
       "  <g id=\"axes_1\">\n",
       "   <g id=\"patch_2\">\n",
       "    <path d=\"M 26.925 228.14 \n",
       "L 361.725 228.14 \n",
       "L 361.725 10.7 \n",
       "L 26.925 10.7 \n",
       "z\n",
       "\" style=\"fill:#ffffff;\"/>\n",
       "   </g>\n",
       "   <g id=\"patch_3\">\n",
       "    <path clip-path=\"url(#pdb3f719c23)\" d=\"M 31.707857 228.14 \n",
       "L 69.970714 228.14 \n",
       "L 69.970714 228.043514 \n",
       "L 31.707857 228.043514 \n",
       "z\n",
       "\" style=\"fill:#3274a1;\"/>\n",
       "   </g>\n",
       "   <g id=\"patch_4\">\n",
       "    <path clip-path=\"url(#pdb3f719c23)\" d=\"M 79.536429 228.14 \n",
       "L 117.799286 228.14 \n",
       "L 117.799286 225.803873 \n",
       "L 79.536429 225.803873 \n",
       "z\n",
       "\" style=\"fill:#e1812c;\"/>\n",
       "   </g>\n",
       "   <g id=\"patch_5\">\n",
       "    <path clip-path=\"url(#pdb3f719c23)\" d=\"M 127.365 228.14 \n",
       "L 165.627857 228.14 \n",
       "L 165.627857 166.417162 \n",
       "L 127.365 166.417162 \n",
       "z\n",
       "\" style=\"fill:#3a923a;\"/>\n",
       "   </g>\n",
       "   <g id=\"patch_6\">\n",
       "    <path clip-path=\"url(#pdb3f719c23)\" d=\"M 175.193571 228.14 \n",
       "L 213.456429 228.14 \n",
       "L 213.456429 227.61659 \n",
       "L 175.193571 227.61659 \n",
       "z\n",
       "\" style=\"fill:#c03d3e;\"/>\n",
       "   </g>\n",
       "   <g id=\"patch_7\">\n",
       "    <path clip-path=\"url(#pdb3f719c23)\" d=\"M 223.022143 228.14 \n",
       "L 261.285 228.14 \n",
       "L 261.285 224.789146 \n",
       "L 223.022143 224.789146 \n",
       "z\n",
       "\" style=\"fill:#9372b2;\"/>\n",
       "   </g>\n",
       "   <g id=\"patch_8\">\n",
       "    <path clip-path=\"url(#pdb3f719c23)\" d=\"M 270.850714 228.14 \n",
       "L 309.113571 228.14 \n",
       "L 309.113571 21.054286 \n",
       "L 270.850714 21.054286 \n",
       "z\n",
       "\" style=\"fill:#845b53;\"/>\n",
       "   </g>\n",
       "   <g id=\"patch_9\">\n",
       "    <path clip-path=\"url(#pdb3f719c23)\" d=\"M 318.679286 228.14 \n",
       "L 356.942143 228.14 \n",
       "L 356.942143 228.118022 \n",
       "L 318.679286 228.118022 \n",
       "z\n",
       "\" style=\"fill:#d684bd;\"/>\n",
       "   </g>\n",
       "   <g id=\"matplotlib.axis_1\">\n",
       "    <g id=\"xtick_1\">\n",
       "     <g id=\"line2d_1\">\n",
       "      <defs>\n",
       "       <path d=\"M 0 0 \n",
       "L 0 3.5 \n",
       "\" id=\"md4399b16ca\" style=\"stroke:#000000;stroke-width:0.8;\"/>\n",
       "      </defs>\n",
       "      <g>\n",
       "       <use style=\"stroke:#000000;stroke-width:0.8;\" x=\"50.839286\" xlink:href=\"#md4399b16ca\" y=\"228.14\"/>\n",
       "      </g>\n",
       "     </g>\n",
       "     <g id=\"text_1\">\n",
       "      <!-- 0.0 -->\n",
       "      <defs>\n",
       "       <path d=\"M 31.78125 66.40625 \n",
       "Q 24.171875 66.40625 20.328125 58.90625 \n",
       "Q 16.5 51.421875 16.5 36.375 \n",
       "Q 16.5 21.390625 20.328125 13.890625 \n",
       "Q 24.171875 6.390625 31.78125 6.390625 \n",
       "Q 39.453125 6.390625 43.28125 13.890625 \n",
       "Q 47.125 21.390625 47.125 36.375 \n",
       "Q 47.125 51.421875 43.28125 58.90625 \n",
       "Q 39.453125 66.40625 31.78125 66.40625 \n",
       "z\n",
       "M 31.78125 74.21875 \n",
       "Q 44.046875 74.21875 50.515625 64.515625 \n",
       "Q 56.984375 54.828125 56.984375 36.375 \n",
       "Q 56.984375 17.96875 50.515625 8.265625 \n",
       "Q 44.046875 -1.421875 31.78125 -1.421875 \n",
       "Q 19.53125 -1.421875 13.0625 8.265625 \n",
       "Q 6.59375 17.96875 6.59375 36.375 \n",
       "Q 6.59375 54.828125 13.0625 64.515625 \n",
       "Q 19.53125 74.21875 31.78125 74.21875 \n",
       "z\n",
       "\" id=\"DejaVuSans-30\"/>\n",
       "       <path d=\"M 10.6875 12.40625 \n",
       "L 21 12.40625 \n",
       "L 21 0 \n",
       "L 10.6875 0 \n",
       "z\n",
       "\" id=\"DejaVuSans-2e\"/>\n",
       "      </defs>\n",
       "      <g transform=\"translate(42.887723 242.738437)scale(0.1 -0.1)\">\n",
       "       <use xlink:href=\"#DejaVuSans-30\"/>\n",
       "       <use x=\"63.623047\" xlink:href=\"#DejaVuSans-2e\"/>\n",
       "       <use x=\"95.410156\" xlink:href=\"#DejaVuSans-30\"/>\n",
       "      </g>\n",
       "     </g>\n",
       "    </g>\n",
       "    <g id=\"xtick_2\">\n",
       "     <g id=\"line2d_2\">\n",
       "      <g>\n",
       "       <use style=\"stroke:#000000;stroke-width:0.8;\" x=\"98.667857\" xlink:href=\"#md4399b16ca\" y=\"228.14\"/>\n",
       "      </g>\n",
       "     </g>\n",
       "     <g id=\"text_2\">\n",
       "      <!-- 1.0 -->\n",
       "      <defs>\n",
       "       <path d=\"M 12.40625 8.296875 \n",
       "L 28.515625 8.296875 \n",
       "L 28.515625 63.921875 \n",
       "L 10.984375 60.40625 \n",
       "L 10.984375 69.390625 \n",
       "L 28.421875 72.90625 \n",
       "L 38.28125 72.90625 \n",
       "L 38.28125 8.296875 \n",
       "L 54.390625 8.296875 \n",
       "L 54.390625 0 \n",
       "L 12.40625 0 \n",
       "z\n",
       "\" id=\"DejaVuSans-31\"/>\n",
       "      </defs>\n",
       "      <g transform=\"translate(90.716295 242.738437)scale(0.1 -0.1)\">\n",
       "       <use xlink:href=\"#DejaVuSans-31\"/>\n",
       "       <use x=\"63.623047\" xlink:href=\"#DejaVuSans-2e\"/>\n",
       "       <use x=\"95.410156\" xlink:href=\"#DejaVuSans-30\"/>\n",
       "      </g>\n",
       "     </g>\n",
       "    </g>\n",
       "    <g id=\"xtick_3\">\n",
       "     <g id=\"line2d_3\">\n",
       "      <g>\n",
       "       <use style=\"stroke:#000000;stroke-width:0.8;\" x=\"146.496429\" xlink:href=\"#md4399b16ca\" y=\"228.14\"/>\n",
       "      </g>\n",
       "     </g>\n",
       "     <g id=\"text_3\">\n",
       "      <!-- 2.0 -->\n",
       "      <defs>\n",
       "       <path d=\"M 19.1875 8.296875 \n",
       "L 53.609375 8.296875 \n",
       "L 53.609375 0 \n",
       "L 7.328125 0 \n",
       "L 7.328125 8.296875 \n",
       "Q 12.9375 14.109375 22.625 23.890625 \n",
       "Q 32.328125 33.6875 34.8125 36.53125 \n",
       "Q 39.546875 41.84375 41.421875 45.53125 \n",
       "Q 43.3125 49.21875 43.3125 52.78125 \n",
       "Q 43.3125 58.59375 39.234375 62.25 \n",
       "Q 35.15625 65.921875 28.609375 65.921875 \n",
       "Q 23.96875 65.921875 18.8125 64.3125 \n",
       "Q 13.671875 62.703125 7.8125 59.421875 \n",
       "L 7.8125 69.390625 \n",
       "Q 13.765625 71.78125 18.9375 73 \n",
       "Q 24.125 74.21875 28.421875 74.21875 \n",
       "Q 39.75 74.21875 46.484375 68.546875 \n",
       "Q 53.21875 62.890625 53.21875 53.421875 \n",
       "Q 53.21875 48.921875 51.53125 44.890625 \n",
       "Q 49.859375 40.875 45.40625 35.40625 \n",
       "Q 44.1875 33.984375 37.640625 27.21875 \n",
       "Q 31.109375 20.453125 19.1875 8.296875 \n",
       "z\n",
       "\" id=\"DejaVuSans-32\"/>\n",
       "      </defs>\n",
       "      <g transform=\"translate(138.544866 242.738437)scale(0.1 -0.1)\">\n",
       "       <use xlink:href=\"#DejaVuSans-32\"/>\n",
       "       <use x=\"63.623047\" xlink:href=\"#DejaVuSans-2e\"/>\n",
       "       <use x=\"95.410156\" xlink:href=\"#DejaVuSans-30\"/>\n",
       "      </g>\n",
       "     </g>\n",
       "    </g>\n",
       "    <g id=\"xtick_4\">\n",
       "     <g id=\"line2d_4\">\n",
       "      <g>\n",
       "       <use style=\"stroke:#000000;stroke-width:0.8;\" x=\"194.325\" xlink:href=\"#md4399b16ca\" y=\"228.14\"/>\n",
       "      </g>\n",
       "     </g>\n",
       "     <g id=\"text_4\">\n",
       "      <!-- 3.0 -->\n",
       "      <defs>\n",
       "       <path d=\"M 40.578125 39.3125 \n",
       "Q 47.65625 37.796875 51.625 33 \n",
       "Q 55.609375 28.21875 55.609375 21.1875 \n",
       "Q 55.609375 10.40625 48.1875 4.484375 \n",
       "Q 40.765625 -1.421875 27.09375 -1.421875 \n",
       "Q 22.515625 -1.421875 17.65625 -0.515625 \n",
       "Q 12.796875 0.390625 7.625 2.203125 \n",
       "L 7.625 11.71875 \n",
       "Q 11.71875 9.328125 16.59375 8.109375 \n",
       "Q 21.484375 6.890625 26.8125 6.890625 \n",
       "Q 36.078125 6.890625 40.9375 10.546875 \n",
       "Q 45.796875 14.203125 45.796875 21.1875 \n",
       "Q 45.796875 27.640625 41.28125 31.265625 \n",
       "Q 36.765625 34.90625 28.71875 34.90625 \n",
       "L 20.21875 34.90625 \n",
       "L 20.21875 43.015625 \n",
       "L 29.109375 43.015625 \n",
       "Q 36.375 43.015625 40.234375 45.921875 \n",
       "Q 44.09375 48.828125 44.09375 54.296875 \n",
       "Q 44.09375 59.90625 40.109375 62.90625 \n",
       "Q 36.140625 65.921875 28.71875 65.921875 \n",
       "Q 24.65625 65.921875 20.015625 65.03125 \n",
       "Q 15.375 64.15625 9.8125 62.3125 \n",
       "L 9.8125 71.09375 \n",
       "Q 15.4375 72.65625 20.34375 73.4375 \n",
       "Q 25.25 74.21875 29.59375 74.21875 \n",
       "Q 40.828125 74.21875 47.359375 69.109375 \n",
       "Q 53.90625 64.015625 53.90625 55.328125 \n",
       "Q 53.90625 49.265625 50.4375 45.09375 \n",
       "Q 46.96875 40.921875 40.578125 39.3125 \n",
       "z\n",
       "\" id=\"DejaVuSans-33\"/>\n",
       "      </defs>\n",
       "      <g transform=\"translate(186.373438 242.738437)scale(0.1 -0.1)\">\n",
       "       <use xlink:href=\"#DejaVuSans-33\"/>\n",
       "       <use x=\"63.623047\" xlink:href=\"#DejaVuSans-2e\"/>\n",
       "       <use x=\"95.410156\" xlink:href=\"#DejaVuSans-30\"/>\n",
       "      </g>\n",
       "     </g>\n",
       "    </g>\n",
       "    <g id=\"xtick_5\">\n",
       "     <g id=\"line2d_5\">\n",
       "      <g>\n",
       "       <use style=\"stroke:#000000;stroke-width:0.8;\" x=\"242.153571\" xlink:href=\"#md4399b16ca\" y=\"228.14\"/>\n",
       "      </g>\n",
       "     </g>\n",
       "     <g id=\"text_5\">\n",
       "      <!-- 4.0 -->\n",
       "      <defs>\n",
       "       <path d=\"M 37.796875 64.3125 \n",
       "L 12.890625 25.390625 \n",
       "L 37.796875 25.390625 \n",
       "z\n",
       "M 35.203125 72.90625 \n",
       "L 47.609375 72.90625 \n",
       "L 47.609375 25.390625 \n",
       "L 58.015625 25.390625 \n",
       "L 58.015625 17.1875 \n",
       "L 47.609375 17.1875 \n",
       "L 47.609375 0 \n",
       "L 37.796875 0 \n",
       "L 37.796875 17.1875 \n",
       "L 4.890625 17.1875 \n",
       "L 4.890625 26.703125 \n",
       "z\n",
       "\" id=\"DejaVuSans-34\"/>\n",
       "      </defs>\n",
       "      <g transform=\"translate(234.202009 242.738437)scale(0.1 -0.1)\">\n",
       "       <use xlink:href=\"#DejaVuSans-34\"/>\n",
       "       <use x=\"63.623047\" xlink:href=\"#DejaVuSans-2e\"/>\n",
       "       <use x=\"95.410156\" xlink:href=\"#DejaVuSans-30\"/>\n",
       "      </g>\n",
       "     </g>\n",
       "    </g>\n",
       "    <g id=\"xtick_6\">\n",
       "     <g id=\"line2d_6\">\n",
       "      <g>\n",
       "       <use style=\"stroke:#000000;stroke-width:0.8;\" x=\"289.982143\" xlink:href=\"#md4399b16ca\" y=\"228.14\"/>\n",
       "      </g>\n",
       "     </g>\n",
       "     <g id=\"text_6\">\n",
       "      <!-- 5.0 -->\n",
       "      <defs>\n",
       "       <path d=\"M 10.796875 72.90625 \n",
       "L 49.515625 72.90625 \n",
       "L 49.515625 64.59375 \n",
       "L 19.828125 64.59375 \n",
       "L 19.828125 46.734375 \n",
       "Q 21.96875 47.46875 24.109375 47.828125 \n",
       "Q 26.265625 48.1875 28.421875 48.1875 \n",
       "Q 40.625 48.1875 47.75 41.5 \n",
       "Q 54.890625 34.8125 54.890625 23.390625 \n",
       "Q 54.890625 11.625 47.5625 5.09375 \n",
       "Q 40.234375 -1.421875 26.90625 -1.421875 \n",
       "Q 22.3125 -1.421875 17.546875 -0.640625 \n",
       "Q 12.796875 0.140625 7.71875 1.703125 \n",
       "L 7.71875 11.625 \n",
       "Q 12.109375 9.234375 16.796875 8.0625 \n",
       "Q 21.484375 6.890625 26.703125 6.890625 \n",
       "Q 35.15625 6.890625 40.078125 11.328125 \n",
       "Q 45.015625 15.765625 45.015625 23.390625 \n",
       "Q 45.015625 31 40.078125 35.4375 \n",
       "Q 35.15625 39.890625 26.703125 39.890625 \n",
       "Q 22.75 39.890625 18.8125 39.015625 \n",
       "Q 14.890625 38.140625 10.796875 36.28125 \n",
       "z\n",
       "\" id=\"DejaVuSans-35\"/>\n",
       "      </defs>\n",
       "      <g transform=\"translate(282.03058 242.738437)scale(0.1 -0.1)\">\n",
       "       <use xlink:href=\"#DejaVuSans-35\"/>\n",
       "       <use x=\"63.623047\" xlink:href=\"#DejaVuSans-2e\"/>\n",
       "       <use x=\"95.410156\" xlink:href=\"#DejaVuSans-30\"/>\n",
       "      </g>\n",
       "     </g>\n",
       "    </g>\n",
       "    <g id=\"xtick_7\">\n",
       "     <g id=\"line2d_7\">\n",
       "      <g>\n",
       "       <use style=\"stroke:#000000;stroke-width:0.8;\" x=\"337.810714\" xlink:href=\"#md4399b16ca\" y=\"228.14\"/>\n",
       "      </g>\n",
       "     </g>\n",
       "     <g id=\"text_7\">\n",
       "      <!-- 6.0 -->\n",
       "      <defs>\n",
       "       <path d=\"M 33.015625 40.375 \n",
       "Q 26.375 40.375 22.484375 35.828125 \n",
       "Q 18.609375 31.296875 18.609375 23.390625 \n",
       "Q 18.609375 15.53125 22.484375 10.953125 \n",
       "Q 26.375 6.390625 33.015625 6.390625 \n",
       "Q 39.65625 6.390625 43.53125 10.953125 \n",
       "Q 47.40625 15.53125 47.40625 23.390625 \n",
       "Q 47.40625 31.296875 43.53125 35.828125 \n",
       "Q 39.65625 40.375 33.015625 40.375 \n",
       "z\n",
       "M 52.59375 71.296875 \n",
       "L 52.59375 62.3125 \n",
       "Q 48.875 64.0625 45.09375 64.984375 \n",
       "Q 41.3125 65.921875 37.59375 65.921875 \n",
       "Q 27.828125 65.921875 22.671875 59.328125 \n",
       "Q 17.53125 52.734375 16.796875 39.40625 \n",
       "Q 19.671875 43.65625 24.015625 45.921875 \n",
       "Q 28.375 48.1875 33.59375 48.1875 \n",
       "Q 44.578125 48.1875 50.953125 41.515625 \n",
       "Q 57.328125 34.859375 57.328125 23.390625 \n",
       "Q 57.328125 12.15625 50.6875 5.359375 \n",
       "Q 44.046875 -1.421875 33.015625 -1.421875 \n",
       "Q 20.359375 -1.421875 13.671875 8.265625 \n",
       "Q 6.984375 17.96875 6.984375 36.375 \n",
       "Q 6.984375 53.65625 15.1875 63.9375 \n",
       "Q 23.390625 74.21875 37.203125 74.21875 \n",
       "Q 40.921875 74.21875 44.703125 73.484375 \n",
       "Q 48.484375 72.75 52.59375 71.296875 \n",
       "z\n",
       "\" id=\"DejaVuSans-36\"/>\n",
       "      </defs>\n",
       "      <g transform=\"translate(329.859152 242.738437)scale(0.1 -0.1)\">\n",
       "       <use xlink:href=\"#DejaVuSans-36\"/>\n",
       "       <use x=\"63.623047\" xlink:href=\"#DejaVuSans-2e\"/>\n",
       "       <use x=\"95.410156\" xlink:href=\"#DejaVuSans-30\"/>\n",
       "      </g>\n",
       "     </g>\n",
       "    </g>\n",
       "   </g>\n",
       "   <g id=\"matplotlib.axis_2\">\n",
       "    <g id=\"ytick_1\">\n",
       "     <g id=\"line2d_8\">\n",
       "      <defs>\n",
       "       <path d=\"M 0 0 \n",
       "L -3.5 0 \n",
       "\" id=\"m955aeb9084\" style=\"stroke:#000000;stroke-width:0.8;\"/>\n",
       "      </defs>\n",
       "      <g>\n",
       "       <use style=\"stroke:#000000;stroke-width:0.8;\" x=\"26.925\" xlink:href=\"#m955aeb9084\" y=\"228.14\"/>\n",
       "      </g>\n",
       "     </g>\n",
       "     <g id=\"text_8\">\n",
       "      <!-- 0 -->\n",
       "      <g transform=\"translate(13.5625 231.939219)scale(0.1 -0.1)\">\n",
       "       <use xlink:href=\"#DejaVuSans-30\"/>\n",
       "      </g>\n",
       "     </g>\n",
       "    </g>\n",
       "    <g id=\"ytick_2\">\n",
       "     <g id=\"line2d_9\">\n",
       "      <g>\n",
       "       <use style=\"stroke:#000000;stroke-width:0.8;\" x=\"26.925\" xlink:href=\"#m955aeb9084\" y=\"200.626259\"/>\n",
       "      </g>\n",
       "     </g>\n",
       "     <g id=\"text_9\">\n",
       "      <!-- 10 -->\n",
       "      <g transform=\"translate(7.2 204.425478)scale(0.1 -0.1)\">\n",
       "       <use xlink:href=\"#DejaVuSans-31\"/>\n",
       "       <use x=\"63.623047\" xlink:href=\"#DejaVuSans-30\"/>\n",
       "      </g>\n",
       "     </g>\n",
       "    </g>\n",
       "    <g id=\"ytick_3\">\n",
       "     <g id=\"line2d_10\">\n",
       "      <g>\n",
       "       <use style=\"stroke:#000000;stroke-width:0.8;\" x=\"26.925\" xlink:href=\"#m955aeb9084\" y=\"173.112518\"/>\n",
       "      </g>\n",
       "     </g>\n",
       "     <g id=\"text_10\">\n",
       "      <!-- 20 -->\n",
       "      <g transform=\"translate(7.2 176.911737)scale(0.1 -0.1)\">\n",
       "       <use xlink:href=\"#DejaVuSans-32\"/>\n",
       "       <use x=\"63.623047\" xlink:href=\"#DejaVuSans-30\"/>\n",
       "      </g>\n",
       "     </g>\n",
       "    </g>\n",
       "    <g id=\"ytick_4\">\n",
       "     <g id=\"line2d_11\">\n",
       "      <g>\n",
       "       <use style=\"stroke:#000000;stroke-width:0.8;\" x=\"26.925\" xlink:href=\"#m955aeb9084\" y=\"145.598777\"/>\n",
       "      </g>\n",
       "     </g>\n",
       "     <g id=\"text_11\">\n",
       "      <!-- 30 -->\n",
       "      <g transform=\"translate(7.2 149.397996)scale(0.1 -0.1)\">\n",
       "       <use xlink:href=\"#DejaVuSans-33\"/>\n",
       "       <use x=\"63.623047\" xlink:href=\"#DejaVuSans-30\"/>\n",
       "      </g>\n",
       "     </g>\n",
       "    </g>\n",
       "    <g id=\"ytick_5\">\n",
       "     <g id=\"line2d_12\">\n",
       "      <g>\n",
       "       <use style=\"stroke:#000000;stroke-width:0.8;\" x=\"26.925\" xlink:href=\"#m955aeb9084\" y=\"118.085037\"/>\n",
       "      </g>\n",
       "     </g>\n",
       "     <g id=\"text_12\">\n",
       "      <!-- 40 -->\n",
       "      <g transform=\"translate(7.2 121.884255)scale(0.1 -0.1)\">\n",
       "       <use xlink:href=\"#DejaVuSans-34\"/>\n",
       "       <use x=\"63.623047\" xlink:href=\"#DejaVuSans-30\"/>\n",
       "      </g>\n",
       "     </g>\n",
       "    </g>\n",
       "    <g id=\"ytick_6\">\n",
       "     <g id=\"line2d_13\">\n",
       "      <g>\n",
       "       <use style=\"stroke:#000000;stroke-width:0.8;\" x=\"26.925\" xlink:href=\"#m955aeb9084\" y=\"90.571296\"/>\n",
       "      </g>\n",
       "     </g>\n",
       "     <g id=\"text_13\">\n",
       "      <!-- 50 -->\n",
       "      <g transform=\"translate(7.2 94.370514)scale(0.1 -0.1)\">\n",
       "       <use xlink:href=\"#DejaVuSans-35\"/>\n",
       "       <use x=\"63.623047\" xlink:href=\"#DejaVuSans-30\"/>\n",
       "      </g>\n",
       "     </g>\n",
       "    </g>\n",
       "    <g id=\"ytick_7\">\n",
       "     <g id=\"line2d_14\">\n",
       "      <g>\n",
       "       <use style=\"stroke:#000000;stroke-width:0.8;\" x=\"26.925\" xlink:href=\"#m955aeb9084\" y=\"63.057555\"/>\n",
       "      </g>\n",
       "     </g>\n",
       "     <g id=\"text_14\">\n",
       "      <!-- 60 -->\n",
       "      <g transform=\"translate(7.2 66.856774)scale(0.1 -0.1)\">\n",
       "       <use xlink:href=\"#DejaVuSans-36\"/>\n",
       "       <use x=\"63.623047\" xlink:href=\"#DejaVuSans-30\"/>\n",
       "      </g>\n",
       "     </g>\n",
       "    </g>\n",
       "    <g id=\"ytick_8\">\n",
       "     <g id=\"line2d_15\">\n",
       "      <g>\n",
       "       <use style=\"stroke:#000000;stroke-width:0.8;\" x=\"26.925\" xlink:href=\"#m955aeb9084\" y=\"35.543814\"/>\n",
       "      </g>\n",
       "     </g>\n",
       "     <g id=\"text_15\">\n",
       "      <!-- 70 -->\n",
       "      <defs>\n",
       "       <path d=\"M 8.203125 72.90625 \n",
       "L 55.078125 72.90625 \n",
       "L 55.078125 68.703125 \n",
       "L 28.609375 0 \n",
       "L 18.3125 0 \n",
       "L 43.21875 64.59375 \n",
       "L 8.203125 64.59375 \n",
       "z\n",
       "\" id=\"DejaVuSans-37\"/>\n",
       "      </defs>\n",
       "      <g transform=\"translate(7.2 39.343033)scale(0.1 -0.1)\">\n",
       "       <use xlink:href=\"#DejaVuSans-37\"/>\n",
       "       <use x=\"63.623047\" xlink:href=\"#DejaVuSans-30\"/>\n",
       "      </g>\n",
       "     </g>\n",
       "    </g>\n",
       "   </g>\n",
       "   <g id=\"line2d_16\">\n",
       "    <path clip-path=\"url(#pdb3f719c23)\" d=\"M 0 0 \n",
       "\" style=\"fill:none;stroke:#424242;stroke-linecap:square;stroke-width:2.7;\"/>\n",
       "   </g>\n",
       "   <g id=\"line2d_17\">\n",
       "    <path clip-path=\"url(#pdb3f719c23)\" d=\"M 0 0 \n",
       "\" style=\"fill:none;stroke:#424242;stroke-linecap:square;stroke-width:2.7;\"/>\n",
       "   </g>\n",
       "   <g id=\"line2d_18\">\n",
       "    <path clip-path=\"url(#pdb3f719c23)\" d=\"M 0 0 \n",
       "\" style=\"fill:none;stroke:#424242;stroke-linecap:square;stroke-width:2.7;\"/>\n",
       "   </g>\n",
       "   <g id=\"line2d_19\">\n",
       "    <path clip-path=\"url(#pdb3f719c23)\" d=\"M 0 0 \n",
       "\" style=\"fill:none;stroke:#424242;stroke-linecap:square;stroke-width:2.7;\"/>\n",
       "   </g>\n",
       "   <g id=\"line2d_20\">\n",
       "    <path clip-path=\"url(#pdb3f719c23)\" d=\"M 0 0 \n",
       "\" style=\"fill:none;stroke:#424242;stroke-linecap:square;stroke-width:2.7;\"/>\n",
       "   </g>\n",
       "   <g id=\"line2d_21\">\n",
       "    <path clip-path=\"url(#pdb3f719c23)\" d=\"M 0 0 \n",
       "\" style=\"fill:none;stroke:#424242;stroke-linecap:square;stroke-width:2.7;\"/>\n",
       "   </g>\n",
       "   <g id=\"line2d_22\">\n",
       "    <path clip-path=\"url(#pdb3f719c23)\" d=\"M 0 0 \n",
       "\" style=\"fill:none;stroke:#424242;stroke-linecap:square;stroke-width:2.7;\"/>\n",
       "   </g>\n",
       "   <g id=\"patch_10\">\n",
       "    <path d=\"M 26.925 228.14 \n",
       "L 26.925 10.7 \n",
       "\" style=\"fill:none;stroke:#000000;stroke-linecap:square;stroke-linejoin:miter;stroke-width:0.8;\"/>\n",
       "   </g>\n",
       "   <g id=\"patch_11\">\n",
       "    <path d=\"M 361.725 228.14 \n",
       "L 361.725 10.7 \n",
       "\" style=\"fill:none;stroke:#000000;stroke-linecap:square;stroke-linejoin:miter;stroke-width:0.8;\"/>\n",
       "   </g>\n",
       "   <g id=\"patch_12\">\n",
       "    <path d=\"M 26.925 228.14 \n",
       "L 361.725 228.14 \n",
       "\" style=\"fill:none;stroke:#000000;stroke-linecap:square;stroke-linejoin:miter;stroke-width:0.8;\"/>\n",
       "   </g>\n",
       "   <g id=\"patch_13\">\n",
       "    <path d=\"M 26.925 10.7 \n",
       "L 361.725 10.7 \n",
       "\" style=\"fill:none;stroke:#000000;stroke-linecap:square;stroke-linejoin:miter;stroke-width:0.8;\"/>\n",
       "   </g>\n",
       "  </g>\n",
       " </g>\n",
       " <defs>\n",
       "  <clipPath id=\"pdb3f719c23\">\n",
       "   <rect height=\"217.44\" width=\"334.8\" x=\"26.925\" y=\"10.7\"/>\n",
       "  </clipPath>\n",
       " </defs>\n",
       "</svg>\n"
      ],
      "text/plain": [
       "<Figure size 432x288 with 1 Axes>"
      ]
     },
     "metadata": {},
     "output_type": "display_data"
    }
   ],
   "source": []
  },
  {
   "cell_type": "code",
   "execution_count": null,
   "metadata": {},
   "outputs": [],
   "source": []
  },
  {
   "cell_type": "code",
   "execution_count": 228,
   "metadata": {
    "ExecuteTime": {
     "end_time": "2018-05-12T22:16:15.425864Z",
     "start_time": "2018-05-12T22:16:15.421522Z"
    }
   },
   "outputs": [
    {
     "data": {
      "text/plain": [
       "0.0"
      ]
     },
     "execution_count": 228,
     "metadata": {},
     "output_type": "execute_result"
    }
   ],
   "source": [
    "for_flask_app[0][0]"
   ]
  },
  {
   "cell_type": "markdown",
   "metadata": {},
   "source": [
    "### Catboost to generate Kaggle Entry"
   ]
  },
  {
   "cell_type": "code",
   "execution_count": null,
   "metadata": {},
   "outputs": [],
   "source": [
    "# categorical_features_indices = np.where(cat_X.dtypes != np.int64)[0]\n",
    "# cat_pool_kaggle = Pool(data = cat_X, label=cat_y, cat_features=categorical_features_indices)\n",
    "# cat_tree = CatBoostClassifier(iterations=500, depth=None, learning_rate=0.3, loss_function='MultiClass')\n",
    "# cat_tree.fit(cat_pool_kaggle)"
   ]
  },
  {
   "cell_type": "code",
   "execution_count": null,
   "metadata": {},
   "outputs": [],
   "source": [
    "# cat_guesses_kaggle = cat_tree.predict(cat_test_kaggle)\n",
    "# cat_guesses_kaggle = cat_guesses_kaggle.flatten()\n",
    "# cat_guesses_kaggle = [str(int(i)) for i in cat_guesses_kaggle]\n",
    "# test_clas['Cover_Type'] = cat_guesses_kaggle\n",
    "# test_ans = test_clas[['Id','Cover_Type']]\n",
    "# test_ans.to_csv('submission_9.csv', index=False)"
   ]
  },
  {
   "cell_type": "code",
   "execution_count": null,
   "metadata": {
    "ExecuteTime": {
     "end_time": "2018-05-11T01:03:23.338120Z",
     "start_time": "2018-05-11T01:03:23.336006Z"
    }
   },
   "outputs": [],
   "source": [
    "# Kaggle result was as good as my best forest."
   ]
  },
  {
   "cell_type": "markdown",
   "metadata": {},
   "source": [
    "### End of cat_boost testing"
   ]
  },
  {
   "cell_type": "code",
   "execution_count": 215,
   "metadata": {
    "ExecuteTime": {
     "end_time": "2018-05-12T22:07:51.717900Z",
     "start_time": "2018-05-12T22:07:51.704215Z"
    }
   },
   "outputs": [
    {
     "data": {
      "text/html": [
       "<div>\n",
       "<style scoped>\n",
       "    .dataframe tbody tr th:only-of-type {\n",
       "        vertical-align: middle;\n",
       "    }\n",
       "\n",
       "    .dataframe tbody tr th {\n",
       "        vertical-align: top;\n",
       "    }\n",
       "\n",
       "    .dataframe thead th {\n",
       "        text-align: right;\n",
       "    }\n",
       "</style>\n",
       "<table border=\"1\" class=\"dataframe\">\n",
       "  <thead>\n",
       "    <tr style=\"text-align: right;\">\n",
       "      <th></th>\n",
       "      <th>Id</th>\n",
       "      <th>Elevation</th>\n",
       "      <th>Aspect</th>\n",
       "      <th>Slope</th>\n",
       "      <th>Horizontal_Distance_To_Hydrology</th>\n",
       "      <th>Vertical_Distance_To_Hydrology</th>\n",
       "      <th>Horizontal_Distance_To_Roadways</th>\n",
       "      <th>Hillshade_9am</th>\n",
       "      <th>Hillshade_Noon</th>\n",
       "      <th>Hillshade_3pm</th>\n",
       "      <th>Horizontal_Distance_To_Fire_Points</th>\n",
       "      <th>Cover_Type</th>\n",
       "      <th>Wilderness_Area</th>\n",
       "      <th>Soil_Type</th>\n",
       "      <th>Cover_Type_Name</th>\n",
       "      <th>Wilderness_Area_Name</th>\n",
       "    </tr>\n",
       "  </thead>\n",
       "  <tbody>\n",
       "    <tr>\n",
       "      <th>0</th>\n",
       "      <td>1</td>\n",
       "      <td>2596</td>\n",
       "      <td>51</td>\n",
       "      <td>3</td>\n",
       "      <td>258</td>\n",
       "      <td>0</td>\n",
       "      <td>510</td>\n",
       "      <td>221</td>\n",
       "      <td>232</td>\n",
       "      <td>148</td>\n",
       "      <td>6279</td>\n",
       "      <td>5</td>\n",
       "      <td>1</td>\n",
       "      <td>29</td>\n",
       "      <td>Aspen</td>\n",
       "      <td>Rahwah Wilderness</td>\n",
       "    </tr>\n",
       "  </tbody>\n",
       "</table>\n",
       "</div>"
      ],
      "text/plain": [
       "  Id  Elevation  Aspect  Slope  Horizontal_Distance_To_Hydrology  \\\n",
       "0  1       2596      51      3                               258   \n",
       "\n",
       "   Vertical_Distance_To_Hydrology  Horizontal_Distance_To_Roadways  \\\n",
       "0                               0                              510   \n",
       "\n",
       "   Hillshade_9am  Hillshade_Noon  Hillshade_3pm  \\\n",
       "0            221             232            148   \n",
       "\n",
       "   Horizontal_Distance_To_Fire_Points Cover_Type Wilderness_Area Soil_Type  \\\n",
       "0                                6279          5               1        29   \n",
       "\n",
       "  Cover_Type_Name Wilderness_Area_Name  \n",
       "0           Aspen    Rahwah Wilderness  "
      ]
     },
     "execution_count": 215,
     "metadata": {},
     "output_type": "execute_result"
    }
   ],
   "source": [
    "train_clas.head(1)"
   ]
  },
  {
   "cell_type": "code",
   "execution_count": 58,
   "metadata": {
    "ExecuteTime": {
     "end_time": "2018-05-11T23:42:50.132800Z",
     "start_time": "2018-05-11T23:42:49.947110Z"
    }
   },
   "outputs": [],
   "source": [
    "X_test_case_clas = test.drop(['Cover_Type', 'Id'],1)"
   ]
  },
  {
   "cell_type": "code",
   "execution_count": 60,
   "metadata": {
    "ExecuteTime": {
     "end_time": "2018-05-11T23:42:58.497667Z",
     "start_time": "2018-05-11T23:42:58.486690Z"
    }
   },
   "outputs": [],
   "source": [
    "X_train_forest = train.drop(['Cover_Type', 'Id'],1)\n",
    "y_train_forest = train['Cover_Type']"
   ]
  },
  {
   "cell_type": "code",
   "execution_count": 61,
   "metadata": {
    "ExecuteTime": {
     "end_time": "2018-05-11T23:42:59.184847Z",
     "start_time": "2018-05-11T23:42:59.170037Z"
    }
   },
   "outputs": [],
   "source": [
    "X_train_forest_X, X_test_forest_X, y_train_forest_y, y_test_forest_y = train_test_split(X_train_forest,y_train_forest,test_size=.3, random_state=42)"
   ]
  },
  {
   "cell_type": "code",
   "execution_count": 62,
   "metadata": {
    "ExecuteTime": {
     "end_time": "2018-05-11T23:42:59.927535Z",
     "start_time": "2018-05-11T23:42:59.802499Z"
    }
   },
   "outputs": [
    {
     "data": {
      "text/plain": [
       "0.7835097001763669"
      ]
     },
     "execution_count": 62,
     "metadata": {},
     "output_type": "execute_result"
    }
   ],
   "source": [
    "#Create a decision tree model on train/test data split and evaluate score on test data.\n",
    "decisiontree = DecisionTreeClassifier()\n",
    "decisiontree.fit(X_train_forest_X, y_train_forest_y)\n",
    "decisiontree.score(X_test_forest_X, y_test_forest_y)"
   ]
  },
  {
   "cell_type": "code",
   "execution_count": 63,
   "metadata": {
    "ExecuteTime": {
     "end_time": "2018-05-11T23:43:00.838301Z",
     "start_time": "2018-05-11T23:43:00.673621Z"
    }
   },
   "outputs": [
    {
     "data": {
      "text/plain": [
       "0.828042328042328"
      ]
     },
     "execution_count": 63,
     "metadata": {},
     "output_type": "execute_result"
    }
   ],
   "source": [
    "#train a generic random forest model and score on test data\n",
    "random_forest = RandomForestClassifier()\n",
    "random_forest.fit(X_train_forest_X, y_train_forest_y)\n",
    "random_forest.score(X_test_forest_X, y_test_forest_y)"
   ]
  },
  {
   "cell_type": "code",
   "execution_count": 64,
   "metadata": {
    "ExecuteTime": {
     "end_time": "2018-05-11T23:43:08.348203Z",
     "start_time": "2018-05-11T23:43:08.344466Z"
    }
   },
   "outputs": [],
   "source": [
    "# #run a grid search with the below parameters on a random forest classifier model to determine best model params\n",
    "# Commented out because it took 15 minutes to run.\n",
    "# randomforest = RandomForestClassifier(random_state = 42)\n",
    "# param_grid = { \n",
    "#     'n_estimators': [100, 200, 500],\n",
    "#     'max_features': ['auto', 'sqrt', 'log2'],\n",
    "#     'max_depth' : [6,7,8, None],\n",
    "#     'criterion' :['gini', 'entropy']\n",
    "# }\n",
    "# CV_rfc = GridSearchCV(estimator=randomforest, param_grid = param_grid, cv=10)\n",
    "# CV_rfc.fit(X_train_forest_X, y_train_forest_y)"
   ]
  },
  {
   "cell_type": "code",
   "execution_count": 67,
   "metadata": {
    "ExecuteTime": {
     "end_time": "2018-05-11T23:43:16.276256Z",
     "start_time": "2018-05-11T23:43:16.273651Z"
    }
   },
   "outputs": [],
   "source": [
    "#Find best parameters from CV grid search above\n",
    "#CV_rfc.best_params_"
   ]
  },
  {
   "cell_type": "code",
   "execution_count": 68,
   "metadata": {
    "ExecuteTime": {
     "end_time": "2018-05-11T23:43:23.690137Z",
     "start_time": "2018-05-11T23:43:16.541325Z"
    }
   },
   "outputs": [
    {
     "data": {
      "text/plain": [
       "0.8655202821869489"
      ]
     },
     "execution_count": 68,
     "metadata": {},
     "output_type": "execute_result"
    }
   ],
   "source": [
    "#train a more optimized random forest model and score it on test data\n",
    "random_forest_optimized = RandomForestClassifier(n_estimators=500, random_state=42)\n",
    "random_forest_optimized.fit(X_train_forest_X, y_train_forest_y)\n",
    "random_forest_optimized.predict(X_test_forest_X)\n",
    "random_forest_optimized.score(X_test_forest_X, y_test_forest_y)"
   ]
  },
  {
   "cell_type": "code",
   "execution_count": 109,
   "metadata": {
    "ExecuteTime": {
     "end_time": "2018-05-12T04:25:19.629836Z",
     "start_time": "2018-05-12T04:25:19.358625Z"
    }
   },
   "outputs": [
    {
     "data": {
      "text/plain": [
       "array([2.24952400e-01, 5.01017138e-02, 3.76053381e-02, 6.33651514e-02,\n",
       "       5.48124352e-02, 9.24733398e-02, 5.32871398e-02, 4.59073889e-02,\n",
       "       4.74192543e-02, 7.23782099e-02, 1.94768085e-02, 3.69263888e-03,\n",
       "       1.79614543e-02, 4.19677230e-02, 1.57097186e-03, 6.42972008e-03,\n",
       "       1.71302592e-02, 1.15717336e-02, 1.12787816e-03, 2.76008521e-03,\n",
       "       0.00000000e+00, 3.78407379e-06, 1.10585241e-04, 2.30331852e-02,\n",
       "       3.41816920e-03, 4.30113023e-03, 5.31334234e-03, 6.59626140e-04,\n",
       "       0.00000000e+00, 8.42567094e-04, 5.85214362e-03, 8.00790839e-04,\n",
       "       3.36156673e-04, 1.82923765e-03, 2.48530998e-04, 5.36566315e-03,\n",
       "       5.10587871e-03, 2.64618665e-03, 3.18198468e-05, 5.24249540e-04,\n",
       "       2.17465366e-04, 1.57500565e-04, 5.28970355e-03, 8.17011379e-03,\n",
       "       2.46427696e-03, 4.89629341e-03, 3.73616483e-03, 2.39850747e-04,\n",
       "       2.02495551e-03, 6.34810977e-05, 6.40884200e-04, 1.83741300e-02,\n",
       "       1.75408744e-02, 9.76961452e-03])"
      ]
     },
     "execution_count": 109,
     "metadata": {},
     "output_type": "execute_result"
    }
   ],
   "source": [
    "random_forest_optimized.feature_importances_"
   ]
  },
  {
   "cell_type": "code",
   "execution_count": 100,
   "metadata": {
    "ExecuteTime": {
     "end_time": "2018-05-12T00:08:11.835882Z",
     "start_time": "2018-05-12T00:08:09.805691Z"
    }
   },
   "outputs": [
    {
     "data": {
      "text/plain": [
       "ExtraTreesClassifier(bootstrap=False, class_weight=None, criterion='gini',\n",
       "           max_depth=None, max_features='auto', max_leaf_nodes=None,\n",
       "           min_impurity_decrease=0.0, min_impurity_split=None,\n",
       "           min_samples_leaf=1, min_samples_split=2,\n",
       "           min_weight_fraction_leaf=0.0, n_estimators=200, n_jobs=1,\n",
       "           oob_score=False, random_state=42, verbose=0, warm_start=False)"
      ]
     },
     "execution_count": 100,
     "metadata": {},
     "output_type": "execute_result"
    }
   ],
   "source": [
    "#train a model using train test split on extratreesclassifier\n",
    "forest = ExtraTreesClassifier(n_estimators=200, random_state=42)\n",
    "forest.fit(X_train_forest_X, y_train_forest_y)\n",
    "#y_pred_forest = forest.predict(X_test_forest_X)\n",
    "#forest.score(X_test_forest_X, y_test_forest_y)"
   ]
  },
  {
   "cell_type": "code",
   "execution_count": 108,
   "metadata": {
    "ExecuteTime": {
     "end_time": "2018-05-12T00:27:30.969443Z",
     "start_time": "2018-05-12T00:27:30.958800Z"
    }
   },
   "outputs": [],
   "source": [
    "from sklearn import tree"
   ]
  },
  {
   "cell_type": "code",
   "execution_count": null,
   "metadata": {},
   "outputs": [],
   "source": []
  },
  {
   "cell_type": "code",
   "execution_count": 74,
   "metadata": {
    "ExecuteTime": {
     "end_time": "2018-05-11T23:44:52.708410Z",
     "start_time": "2018-05-11T23:44:52.687106Z"
    }
   },
   "outputs": [
    {
     "data": {
      "text/plain": [
       "array([[461, 106,   0,   0,   3,   0,  18],\n",
       "       [107, 464,   2,   0,  17,   3,   3],\n",
       "       [  1,  23, 525,   6,  14,  60,   0],\n",
       "       [  0,   0,  39, 648,   0,  22,   0],\n",
       "       [ 21,  50,   2,   0, 612,   3,   0],\n",
       "       [  1,  13,  77,   7,   4, 562,   0],\n",
       "       [ 29,   2,   0,   0,   0,   0, 631]])"
      ]
     },
     "execution_count": 74,
     "metadata": {},
     "output_type": "execute_result"
    }
   ],
   "source": [
    "confusion_matrix(y_pred_forest, y_test_forest_y)"
   ]
  },
  {
   "cell_type": "markdown",
   "metadata": {},
   "source": [
    "# Kaggle Models"
   ]
  },
  {
   "cell_type": "code",
   "execution_count": null,
   "metadata": {},
   "outputs": [],
   "source": [
    "# Using decision tree model from above, test on kaggle test data\n",
    "#note this model was still created from train/test split data and not on all avaialble test data.\n",
    "#therefore it underperforms a little\n",
    "new_pred = decisiontree.predict(X_test_forest_X)\n",
    "test_clas['Cover_Type'] = new_pred\n",
    "test_ans = test_clas[['Id','Cover_Type']]\n",
    "test_ans.to_csv('submission_1.csv', index=False)"
   ]
  },
  {
   "cell_type": "code",
   "execution_count": null,
   "metadata": {},
   "outputs": [],
   "source": [
    "# Using a random forest model, make predictions on the Kaggle test data for submission.\n",
    "test_clas['Cover_Type'] = randomforest.predict(X_test_clas)\n",
    "test_ans = test_clas[['Id','Cover_Type']]\n",
    "test_ans.to_csv('submission_2.csv', index=False)"
   ]
  },
  {
   "cell_type": "code",
   "execution_count": null,
   "metadata": {},
   "outputs": [],
   "source": [
    "#Train a model using the entire train dataset to them use on the entire kaggle test set for submission\n",
    "forest2 = ExtraTreesClassifier(n_estimators=200, random_state=42)\n",
    "forest2.fit(X_train_forest, y_train_forest)\n",
    "\n",
    "#use the model forest2 to test on the test cases from Kaggle and export as a csv to submit\n",
    "predicts_new = forest2.predict(X_test_case_clas)\n",
    "test_clas['Cover_Type'] = predicts_new\n",
    "test_ans = test_clas[['Id','Cover_Type']]\n",
    "test_ans.to_csv('submission_7.csv', index=False)"
   ]
  },
  {
   "cell_type": "markdown",
   "metadata": {},
   "source": [
    "# Testing sample using Naive Bayes model"
   ]
  },
  {
   "cell_type": "code",
   "execution_count": null,
   "metadata": {},
   "outputs": [],
   "source": [
    "NB_model = naive_bayes.GaussianNB()\n",
    "NB_model.fit(X_train, y_train)\n",
    "accuracy_score(y_test, NB_model.predict(X_test))"
   ]
  },
  {
   "cell_type": "code",
   "execution_count": null,
   "metadata": {},
   "outputs": [],
   "source": [
    "NB_model_2 = naive_bayes.BernoulliNB()\n",
    "NB_model_2.fit(X_train, y_train)\n",
    "accuracy_score(y_test, NB_model_2.predict(X_test))"
   ]
  },
  {
   "cell_type": "code",
   "execution_count": null,
   "metadata": {},
   "outputs": [],
   "source": [
    "X_train['Vertical_Distance_To_Hydrology'] = abs(X_train['Vertical_Distance_To_Hydrology'])"
   ]
  },
  {
   "cell_type": "code",
   "execution_count": null,
   "metadata": {},
   "outputs": [],
   "source": [
    "NB_model_3 = naive_bayes.MultinomialNB()\n",
    "NB_model_3.fit(X_train, y_train)\n",
    "accuracy_score(y_test, NB_model_3.predict(X_test))"
   ]
  },
  {
   "cell_type": "code",
   "execution_count": null,
   "metadata": {},
   "outputs": [],
   "source": [
    "NB_model = naive_bayes.GaussianNB()\n",
    "NB_model.fit(X_train_minmax, y_train)\n",
    "accuracy_score(y_test, NB_model.predict(X_test_minmax))"
   ]
  },
  {
   "cell_type": "code",
   "execution_count": null,
   "metadata": {},
   "outputs": [],
   "source": [
    "NB_model_2 = naive_bayes.BernoulliNB()\n",
    "NB_model_2.fit(X_train_minmax, y_train)\n",
    "accuracy_score(y_test, NB_model_2.predict(X_test_minmax))"
   ]
  },
  {
   "cell_type": "code",
   "execution_count": null,
   "metadata": {},
   "outputs": [],
   "source": [
    "NB_model_3 = naive_bayes.MultinomialNB()\n",
    "NB_model_3.fit(X_train_minmax, y_train)\n",
    "accuracy_score(y_test, NB_model_3.predict(X_test_minmax))"
   ]
  },
  {
   "cell_type": "markdown",
   "metadata": {},
   "source": [
    "### End of Naive Bayes"
   ]
  },
  {
   "cell_type": "markdown",
   "metadata": {},
   "source": [
    "## Playing with H2o Models"
   ]
  },
  {
   "cell_type": "code",
   "execution_count": null,
   "metadata": {},
   "outputs": [],
   "source": [
    "import h2o\n",
    "from h2o.estimators.gbm import H2OGradientBoostingEstimator\n",
    "from h2o.estimators.random_forest import H2ORandomForestEstimator"
   ]
  },
  {
   "cell_type": "code",
   "execution_count": null,
   "metadata": {
    "ExecuteTime": {
     "end_time": "2018-05-10T23:00:59.122292Z",
     "start_time": "2018-05-10T23:00:55.029135Z"
    },
    "scrolled": true
   },
   "outputs": [],
   "source": [
    "h2o.init()"
   ]
  },
  {
   "cell_type": "code",
   "execution_count": null,
   "metadata": {
    "ExecuteTime": {
     "end_time": "2018-05-11T00:34:54.142302Z",
     "start_time": "2018-05-11T00:34:54.132781Z"
    }
   },
   "outputs": [],
   "source": [
    "h20train = train_clas.drop(['Wilderness_Area','Cover_Type'],1)"
   ]
  },
  {
   "cell_type": "code",
   "execution_count": null,
   "metadata": {
    "ExecuteTime": {
     "end_time": "2018-05-11T00:34:55.707975Z",
     "start_time": "2018-05-11T00:34:55.508936Z"
    }
   },
   "outputs": [],
   "source": [
    "h20test = test_clas.drop(['Wilderness_Area'],1)"
   ]
  },
  {
   "cell_type": "code",
   "execution_count": null,
   "metadata": {
    "ExecuteTime": {
     "end_time": "2018-05-11T00:34:57.438158Z",
     "start_time": "2018-05-11T00:34:57.433621Z"
    }
   },
   "outputs": [],
   "source": [
    "h20test.columns, h20train.columns"
   ]
  },
  {
   "cell_type": "code",
   "execution_count": null,
   "metadata": {
    "ExecuteTime": {
     "end_time": "2018-05-11T00:35:11.141627Z",
     "start_time": "2018-05-11T00:35:05.611969Z"
    }
   },
   "outputs": [],
   "source": [
    "h20train.to_csv('h2frame.csv')\n",
    "h20test.to_csv('h2testframe.csv')"
   ]
  },
  {
   "cell_type": "code",
   "execution_count": null,
   "metadata": {
    "ExecuteTime": {
     "end_time": "2018-05-11T00:35:12.274332Z",
     "start_time": "2018-05-11T00:35:11.144427Z"
    }
   },
   "outputs": [],
   "source": [
    "covtype_df = h2o.import_file('h2frame.csv')\n",
    "covtest_df = h2o.import_file('h2testframe.csv')"
   ]
  },
  {
   "cell_type": "code",
   "execution_count": null,
   "metadata": {
    "ExecuteTime": {
     "end_time": "2018-05-11T00:35:12.279424Z",
     "start_time": "2018-05-11T00:35:12.276366Z"
    }
   },
   "outputs": [],
   "source": [
    "covtype_df = covtype_df.drop(['C1'])"
   ]
  },
  {
   "cell_type": "code",
   "execution_count": null,
   "metadata": {
    "ExecuteTime": {
     "end_time": "2018-05-11T00:35:12.285311Z",
     "start_time": "2018-05-11T00:35:12.282311Z"
    }
   },
   "outputs": [],
   "source": [
    "covtest_df = covtest_df.drop(['C1'])"
   ]
  },
  {
   "cell_type": "code",
   "execution_count": null,
   "metadata": {
    "ExecuteTime": {
     "end_time": "2018-05-11T00:35:13.874850Z",
     "start_time": "2018-05-11T00:35:13.613995Z"
    }
   },
   "outputs": [],
   "source": [
    "train, valid, test = covtype_df.split_frame([.6,.2],seed=42)"
   ]
  },
  {
   "cell_type": "code",
   "execution_count": null,
   "metadata": {
    "ExecuteTime": {
     "end_time": "2018-05-11T00:35:14.927319Z",
     "start_time": "2018-05-11T00:35:14.923381Z"
    }
   },
   "outputs": [],
   "source": [
    "covtype_X = ['Elevation','Aspect','Slope','Horizontal_Distance_To_Hydrology', 'Vertical_Distance_To_Hydrology','Horizontal_Distance_To_Roadways','Hillshade_9am','Hillshade_Noon','Hillshade_3pm','Horizontal_Distance_To_Fire_Points','Soil_Type','Wilderness_Area_Name']\n",
    "covtype_y = 'Cover_Type_Name'"
   ]
  },
  {
   "cell_type": "code",
   "execution_count": null,
   "metadata": {
    "ExecuteTime": {
     "end_time": "2018-05-11T00:35:18.343375Z",
     "start_time": "2018-05-11T00:35:18.338433Z"
    }
   },
   "outputs": [],
   "source": [
    "rf_v1 = H2ORandomForestEstimator(\n",
    "    model_id=\"rf_covType_v1\",\n",
    "    ntrees=200,\n",
    "    stopping_rounds=2,\n",
    "    score_each_iteration=True,\n",
    "    seed=1000000)"
   ]
  },
  {
   "cell_type": "code",
   "execution_count": null,
   "metadata": {
    "ExecuteTime": {
     "end_time": "2018-05-11T00:35:22.803393Z",
     "start_time": "2018-05-11T00:35:19.801494Z"
    }
   },
   "outputs": [],
   "source": [
    "rf_v1.train(covtype_X, covtype_y, training_frame=train, validation_frame=valid)"
   ]
  },
  {
   "cell_type": "code",
   "execution_count": null,
   "metadata": {
    "ExecuteTime": {
     "end_time": "2018-05-11T00:35:23.768263Z",
     "start_time": "2018-05-11T00:35:23.682717Z"
    }
   },
   "outputs": [],
   "source": [
    "rf_v1"
   ]
  },
  {
   "cell_type": "code",
   "execution_count": null,
   "metadata": {
    "ExecuteTime": {
     "end_time": "2018-05-11T00:35:35.481100Z",
     "start_time": "2018-05-11T00:35:33.290625Z"
    }
   },
   "outputs": [],
   "source": [
    "gbm_v1 = H2OGradientBoostingEstimator(\n",
    "    model_id=\"gbm_covType_v1\",\n",
    "    seed=2000000\n",
    ")\n",
    "gbm_v1.train(covtype_X, covtype_y, training_frame=train, validation_frame=valid)"
   ]
  },
  {
   "cell_type": "code",
   "execution_count": null,
   "metadata": {
    "ExecuteTime": {
     "end_time": "2018-05-11T00:51:28.070662Z",
     "start_time": "2018-05-11T00:51:06.495893Z"
    }
   },
   "outputs": [],
   "source": [
    "gbm1 = gbm_v1.predict(covtest_df.drop(['Cover_Type_Name'],1))"
   ]
  },
  {
   "cell_type": "code",
   "execution_count": null,
   "metadata": {
    "ExecuteTime": {
     "end_time": "2018-05-11T00:52:16.083318Z",
     "start_time": "2018-05-11T00:52:16.073727Z"
    }
   },
   "outputs": [],
   "source": [
    "gbm1.as_data_frame"
   ]
  },
  {
   "cell_type": "code",
   "execution_count": null,
   "metadata": {
    "ExecuteTime": {
     "end_time": "2018-05-11T00:35:41.286785Z",
     "start_time": "2018-05-11T00:35:41.283176Z"
    }
   },
   "outputs": [],
   "source": [
    "gbm_v2 = H2OGradientBoostingEstimator(\n",
    "    ntrees=50,\n",
    "    learn_rate=0.20,\n",
    "    max_depth=10,\n",
    "    stopping_tolerance=0.01, #10-fold increase in threshold as defined in rf_v1\n",
    "    stopping_rounds=2,\n",
    "    score_each_iteration=True,\n",
    "    model_id=\"gbm_covType_v2\",\n",
    "    seed=200000)"
   ]
  },
  {
   "cell_type": "code",
   "execution_count": null,
   "metadata": {
    "ExecuteTime": {
     "end_time": "2018-05-11T00:35:45.575483Z",
     "start_time": "2018-05-11T00:35:43.749045Z"
    }
   },
   "outputs": [],
   "source": [
    "gbm_v2.train(covtype_X, covtype_y, training_frame=train, validation_frame=valid)"
   ]
  },
  {
   "cell_type": "code",
   "execution_count": null,
   "metadata": {
    "ExecuteTime": {
     "end_time": "2018-05-11T00:36:02.086422Z",
     "start_time": "2018-05-11T00:35:46.481115Z"
    }
   },
   "outputs": [],
   "source": [
    "gbm_v2_preds = gbm_v2.predict(covtest_df.drop(['Cover_Type_Name'],1))"
   ]
  },
  {
   "cell_type": "code",
   "execution_count": null,
   "metadata": {
    "ExecuteTime": {
     "end_time": "2018-05-11T00:28:40.139584Z",
     "start_time": "2018-05-11T00:28:38.901756Z"
    }
   },
   "outputs": [],
   "source": [
    "# (gbm_v2_preds['predict']).as_data_frame(use_pandas=True).to_csv('outcomes.csv')"
   ]
  },
  {
   "cell_type": "code",
   "execution_count": null,
   "metadata": {
    "ExecuteTime": {
     "end_time": "2018-05-11T00:29:11.987445Z",
     "start_time": "2018-05-11T00:29:11.821785Z"
    }
   },
   "outputs": [],
   "source": [
    "# gbm_df = pd.read_csv('outcomes.csv')"
   ]
  },
  {
   "cell_type": "code",
   "execution_count": null,
   "metadata": {
    "ExecuteTime": {
     "end_time": "2018-05-11T00:56:59.481325Z",
     "start_time": "2018-05-11T00:56:59.478046Z"
    }
   },
   "outputs": [],
   "source": [
    "# gbm_df['Cover_Type'] = 'null'\n",
    "# gbm_df['Cover_Type'][(gbm_df['predict']=='Spruce/Fir')] = '1'\n",
    "# gbm_df['Cover_Type'][(gbm_df['predict']=='Lodgepole Pine')] = '2'\n",
    "# gbm_df['Cover_Type'][(gbm_df['predict']=='Ponderose Pine')] = '3'\n",
    "# gbm_df['Cover_Type'][(gbm_df['predict']=='Cottonwood/Willow')] = '4'\n",
    "# gbm_df['Cover_Type'][(gbm_df['predict']=='Aspen')] = '5'\n",
    "# gbm_df['Cover_Type'][(gbm_df['predict']=='Douglas-fir')] = '6'\n",
    "# gbm_df['Cover_Type'][(gbm_df['predict']=='Krummholz')] = '7'"
   ]
  },
  {
   "cell_type": "code",
   "execution_count": null,
   "metadata": {
    "ExecuteTime": {
     "end_time": "2018-05-11T00:57:48.679774Z",
     "start_time": "2018-05-11T00:57:48.676869Z"
    }
   },
   "outputs": [],
   "source": [
    "h2o.cluster().shutdown(prompt=False)"
   ]
  },
  {
   "cell_type": "markdown",
   "metadata": {},
   "source": [
    "### done playing with h2o. It does not seem to retain id's and therefore I can't figure out how to use on kaggle test dataset out of sample."
   ]
  }
 ],
 "metadata": {
  "kernelspec": {
   "display_name": "Python 3",
   "language": "python",
   "name": "python3"
  },
  "language_info": {
   "codemirror_mode": {
    "name": "ipython",
    "version": 3
   },
   "file_extension": ".py",
   "mimetype": "text/x-python",
   "name": "python",
   "nbconvert_exporter": "python",
   "pygments_lexer": "ipython3",
   "version": "3.6.4"
  }
 },
 "nbformat": 4,
 "nbformat_minor": 2
}
